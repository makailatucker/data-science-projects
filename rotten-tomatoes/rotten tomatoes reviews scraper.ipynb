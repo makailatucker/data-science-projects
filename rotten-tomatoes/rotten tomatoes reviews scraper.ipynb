{
 "cells": [
  {
   "cell_type": "code",
   "execution_count": 1,
   "metadata": {},
   "outputs": [],
   "source": [
    "import requests\n",
    "import time\n",
    "\n",
    "# requirements\n",
    "from bs4 import BeautifulSoup\n",
    "from requests import TooManyRedirects\n",
    "import re\n",
    "\n",
    "def make_soup(url):\n",
    "    try:\n",
    "        r = requests.get(url)\n",
    "        soup = BeautifulSoup(r.content, 'html.parser')\n",
    "    except TooManyRedirects:\n",
    "        soup = ''\n",
    "    return soup\n",
    "\n",
    "#regex patterns\n",
    "page_pat = re.compile(r'Page 1 of \\d+')\n",
    "review_pat = re.compile(r'<div class=\\\"the_review\\\" data-qa=\\\"review-text\\\">[;a-zA-Z\\s,-.\\'\\/\\?\\[\\]\\\":\\']*</div>')\n",
    "rating_pat = re.compile(r'Original Score:\\s([A-Z](\\+|-)?|\\d(.\\d)?(\\/\\d)?)')\n",
    "fresh_pat = re.compile(r'small\\s(fresh|rotten)\\\"')\n",
    "critic_pat = re.compile(r'\\/\\\"\\>([A-Z][a-zA-Z]+\\s[A-Z][a-zA-Z\\-]+)|([A-Z][a-zA-Z.]+\\s[A-Z].?\\s[A-Z][a-zA-Z]+)|([A-Z][a-zA-Z]+\\s[A-Z]+\\'[A-Z][a-zA-Z]+)')\n",
    "publisher_pat = re.compile(r'\\\"subtle\\\">[a-zA-Z\\s,.\\(\\)\\'\\-&;!\\/\\d+]+</em>')\n",
    "date_pat = re.compile(r'[a-zA-Z]+\\s\\d+,\\s\\d+')"
   ]
  },
  {
   "cell_type": "code",
   "execution_count": 2,
   "metadata": {},
   "outputs": [],
   "source": [
    "def get_critic_reviews_from_page(soup):\n",
    "    reviews = list()\n",
    "    rating = list()\n",
    "    fresh = list()\n",
    "    critic = list()\n",
    "    top_critic = list()\n",
    "    publisher = list()\n",
    "    date = list()\n",
    "    \n",
    "    soup = str(soup)\n",
    "    review_soup = soup.split('=\"review_table')[1].split('row review_table_row')\n",
    "    review_soup.pop(0)\n",
    "\n",
    "    for review in review_soup:\n",
    "        match = re.findall(review_pat, str(review))\n",
    "        if len(match) > 0:\n",
    "            m = match[0]            \n",
    "            for iden in ['<div class=\"the_review\" data-qa=\"review-text\"> ','</div>']:\n",
    "                m = m.replace(iden,'')\n",
    "            reviews.append(m.strip('\"'))            \n",
    "            # extract rating\n",
    "            match = re.findall(rating_pat, str(review))\n",
    "            if len(match) > 0:\n",
    "                m = match[0][0]\n",
    "                if '/1' in m:\n",
    "                    sp_m = m.split('/')\n",
    "                    if sp_m[-1] == '1':\n",
    "                        sp_m[-1] = '10'\n",
    "                    m = '/'.join(sp_m)\n",
    "                rating.append(m)\n",
    "            else:\n",
    "                rating.append(None)            \n",
    "            # extract fresh indicator\n",
    "            match = re.findall(fresh_pat, str(review))\n",
    "            if len(match) > 0:\n",
    "                fresh.append(match[0])\n",
    "            else:\n",
    "                fresh.append(None)            \n",
    "            # extract critic\n",
    "            match = re.findall(critic_pat, str(review))\n",
    "            if len(match) > 0:\n",
    "                critic.append(''.join(match[0]))\n",
    "            else:\n",
    "                critic.append(None)            \n",
    "            # check if top critic\n",
    "            if '> Top Critic<' in str(review):\n",
    "                top_critic.append(1)\n",
    "            else:\n",
    "                top_critic.append(0)            \n",
    "            # extract publisher\n",
    "            match = re.findall(publisher_pat, str(review))\n",
    "            if len(match) > 0:\n",
    "                m = match[0]\n",
    "                m = m.replace('\"subtle\">', '')\n",
    "                m = m.replace('</em>','')\n",
    "                publisher.append(m)\n",
    "            else:\n",
    "                publisher.append(None)            \n",
    "            # extract date\n",
    "            match = re.findall(date_pat, str(review))\n",
    "            if len(match) > 0:\n",
    "                date.append(match[0].strip('\"'))\n",
    "            else:\n",
    "                date.append(None)\n",
    "            \n",
    "    return [reviews, rating, fresh, critic, top_critic, publisher, date]\n",
    "\n",
    "def get_num_pages(soup):\n",
    "    match = re.findall(page_pat,str(list(soup)))\n",
    "    if len(match) > 0:\n",
    "        match = match[0]\n",
    "        match = match.split(' of ')[-1]\n",
    "        return match\n",
    "    else:\n",
    "        return None"
   ]
  },
  {
   "cell_type": "code",
   "execution_count": 3,
   "metadata": {},
   "outputs": [],
   "source": [
    "def get_critic_reviews(page):\n",
    "    info = [[],[],[],[],[],[],[]]\n",
    "    soup = make_soup(page + \"reviews\")\n",
    "#     print(soup)\n",
    "    pages = get_num_pages(soup)\n",
    "#     print(pages)\n",
    "    if pages is not None:\n",
    "        for page_num in range(1,int(pages)+1):\n",
    "            soup = make_soup(page + \"reviews?page=\" + str(page_num) + \"&sort=\")\n",
    "            c_info = get_critic_reviews_from_page(soup)\n",
    "            \n",
    "            # accumulate review info\n",
    "            for i in range(len(c_info)):\n",
    "                info[i] = info[i] + c_info[i]\n",
    "        \n",
    "        c_info = dict()\n",
    "        keys = ['reviews', 'rating', 'fresh', 'critic', 'top_critic', 'publisher', 'date']\n",
    "        for k in range(len(keys)):\n",
    "            c_info[keys[k]] = info[k]        \n",
    "    else:\n",
    "        c_info = None        \n",
    "    return c_info"
   ]
  },
  {
   "cell_type": "code",
   "execution_count": 4,
   "metadata": {},
   "outputs": [
    {
     "data": {
      "text/plain": [
       "dict_keys(['Barbie', 'Lady Bird'])"
      ]
     },
     "execution_count": 4,
     "metadata": {},
     "output_type": "execute_result"
    }
   ],
   "source": [
    "movie_urls = {'Barbie': 'https://www.rottentomatoes.com/m/barbie/reviews?type=user', \n",
    "              'Lady Bird':'https://www.rottentomatoes.com/m/lady_bird/reviews?type=user', \n"
    "             }\n",
    "\n",
    "movie_urls.keys()"
   ]
  },
  {
   "cell_type": "code",
   "execution_count": 5,
   "metadata": {},
   "outputs": [],
   "source": [
    "import pandas as pd\n",
    "\n",
    "dfs = []\n",
    "for key in movie_urls.keys():\n",
    "    temp = get_audience_reviews(movie_urls[key])\n",
    "    df = pd.DataFrame.from_dict(temp)\n",
    "    df['Film'] = key\n",
    "    dfs.append(df)"
   ]
  },
  {
   "cell_type": "code",
   "execution_count": 50,
   "metadata": {},
   "outputs": [
    {
     "data": {
      "text/html": [
       "<div>\n",
       "<style scoped>\n",
       "    .dataframe tbody tr th:only-of-type {\n",
       "        vertical-align: middle;\n",
       "    }\n",
       "\n",
       "    .dataframe tbody tr th {\n",
       "        vertical-align: top;\n",
       "    }\n",
       "\n",
       "    .dataframe thead th {\n",
       "        text-align: right;\n",
       "    }\n",
       "</style>\n",
       "<table border=\"1\" class=\"dataframe\">\n",
       "  <thead>\n",
       "    <tr style=\"text-align: right;\">\n",
       "      <th></th>\n",
       "      <th>reviews</th>\n",
       "      <th>rating</th>\n",
       "      <th>fresh</th>\n",
       "      <th>critic</th>\n",
       "      <th>top_critic</th>\n",
       "      <th>publisher</th>\n",
       "      <th>date</th>\n",
       "      <th>Film</th>\n",
       "    </tr>\n",
       "  </thead>\n",
       "  <tbody>\n",
       "    <tr>\n",
       "      <th>0</th>\n",
       "      <td>&lt;div class=\"the_review\" data-qa=\"review-text\"&gt;...</td>\n",
       "      <td>None</td>\n",
       "      <td>fresh</td>\n",
       "      <td>Karen M. Peterson</td>\n",
       "      <td>0</td>\n",
       "      <td>None</td>\n",
       "      <td>January 25, 2021</td>\n",
       "      <td>Wonder Woman 1984</td>\n",
       "    </tr>\n",
       "    <tr>\n",
       "      <th>1</th>\n",
       "      <td>&lt;div class=\"the_review\" data-qa=\"review-text\"&gt;...</td>\n",
       "      <td>C-</td>\n",
       "      <td>rotten</td>\n",
       "      <td>None</td>\n",
       "      <td>0</td>\n",
       "      <td>None</td>\n",
       "      <td>January 23, 2021</td>\n",
       "      <td>Wonder Woman 1984</td>\n",
       "    </tr>\n",
       "    <tr>\n",
       "      <th>2</th>\n",
       "      <td>&lt;div class=\"the_review\" data-qa=\"review-text\"&gt;...</td>\n",
       "      <td>2/5</td>\n",
       "      <td>rotten</td>\n",
       "      <td>None</td>\n",
       "      <td>0</td>\n",
       "      <td>None</td>\n",
       "      <td>January 22, 2021</td>\n",
       "      <td>Wonder Woman 1984</td>\n",
       "    </tr>\n",
       "    <tr>\n",
       "      <th>3</th>\n",
       "      <td>&lt;div class=\"the_review\" data-qa=\"review-text\"&gt;...</td>\n",
       "      <td>None</td>\n",
       "      <td>rotten</td>\n",
       "      <td>None</td>\n",
       "      <td>0</td>\n",
       "      <td>None</td>\n",
       "      <td>January 20, 2021</td>\n",
       "      <td>Wonder Woman 1984</td>\n",
       "    </tr>\n",
       "    <tr>\n",
       "      <th>4</th>\n",
       "      <td>&lt;div class=\"the_review\" data-qa=\"review-text\"&gt;...</td>\n",
       "      <td>None</td>\n",
       "      <td>rotten</td>\n",
       "      <td>None</td>\n",
       "      <td>0</td>\n",
       "      <td>None</td>\n",
       "      <td>January 20, 2021</td>\n",
       "      <td>Wonder Woman 1984</td>\n",
       "    </tr>\n",
       "    <tr>\n",
       "      <th>...</th>\n",
       "      <td>...</td>\n",
       "      <td>...</td>\n",
       "      <td>...</td>\n",
       "      <td>...</td>\n",
       "      <td>...</td>\n",
       "      <td>...</td>\n",
       "      <td>...</td>\n",
       "      <td>...</td>\n",
       "    </tr>\n",
       "    <tr>\n",
       "      <th>153</th>\n",
       "      <td>&lt;div class=\"the_review\" data-qa=\"review-text\"&gt;...</td>\n",
       "      <td>None</td>\n",
       "      <td>fresh</td>\n",
       "      <td>None</td>\n",
       "      <td>0</td>\n",
       "      <td>None</td>\n",
       "      <td>May 20, 2020</td>\n",
       "      <td>Lovebirds</td>\n",
       "    </tr>\n",
       "    <tr>\n",
       "      <th>154</th>\n",
       "      <td>&lt;div class=\"the_review\" data-qa=\"review-text\"&gt;...</td>\n",
       "      <td>3/5</td>\n",
       "      <td>fresh</td>\n",
       "      <td>None</td>\n",
       "      <td>0</td>\n",
       "      <td>None</td>\n",
       "      <td>May 20, 2020</td>\n",
       "      <td>Lovebirds</td>\n",
       "    </tr>\n",
       "    <tr>\n",
       "      <th>155</th>\n",
       "      <td>&lt;div class=\"the_review\" data-qa=\"review-text\"&gt;...</td>\n",
       "      <td>3/4</td>\n",
       "      <td>fresh</td>\n",
       "      <td>None</td>\n",
       "      <td>0</td>\n",
       "      <td>None</td>\n",
       "      <td>May 20, 2020</td>\n",
       "      <td>Lovebirds</td>\n",
       "    </tr>\n",
       "    <tr>\n",
       "      <th>156</th>\n",
       "      <td>&lt;div class=\"the_review\" data-qa=\"review-text\"&gt;...</td>\n",
       "      <td>3.5/5</td>\n",
       "      <td>fresh</td>\n",
       "      <td>None</td>\n",
       "      <td>0</td>\n",
       "      <td>None</td>\n",
       "      <td>May 20, 2020</td>\n",
       "      <td>Lovebirds</td>\n",
       "    </tr>\n",
       "    <tr>\n",
       "      <th>157</th>\n",
       "      <td>&lt;div class=\"the_review\" data-qa=\"review-text\"&gt;...</td>\n",
       "      <td>3/4</td>\n",
       "      <td>fresh</td>\n",
       "      <td>Sell My Info</td>\n",
       "      <td>0</td>\n",
       "      <td>None</td>\n",
       "      <td>May 20, 2020</td>\n",
       "      <td>Lovebirds</td>\n",
       "    </tr>\n",
       "  </tbody>\n",
       "</table>\n",
       "<p>4267 rows × 8 columns</p>\n",
       "</div>"
      ],
      "text/plain": [
       "                                               reviews rating   fresh  \\\n",
       "0    <div class=\"the_review\" data-qa=\"review-text\">...   None   fresh   \n",
       "1    <div class=\"the_review\" data-qa=\"review-text\">...     C-  rotten   \n",
       "2    <div class=\"the_review\" data-qa=\"review-text\">...    2/5  rotten   \n",
       "3    <div class=\"the_review\" data-qa=\"review-text\">...   None  rotten   \n",
       "4    <div class=\"the_review\" data-qa=\"review-text\">...   None  rotten   \n",
       "..                                                 ...    ...     ...   \n",
       "153  <div class=\"the_review\" data-qa=\"review-text\">...   None   fresh   \n",
       "154  <div class=\"the_review\" data-qa=\"review-text\">...    3/5   fresh   \n",
       "155  <div class=\"the_review\" data-qa=\"review-text\">...    3/4   fresh   \n",
       "156  <div class=\"the_review\" data-qa=\"review-text\">...  3.5/5   fresh   \n",
       "157  <div class=\"the_review\" data-qa=\"review-text\">...    3/4   fresh   \n",
       "\n",
       "                critic  top_critic publisher              date  \\\n",
       "0    Karen M. Peterson           0      None  January 25, 2021   \n",
       "1                 None           0      None  January 23, 2021   \n",
       "2                 None           0      None  January 22, 2021   \n",
       "3                 None           0      None  January 20, 2021   \n",
       "4                 None           0      None  January 20, 2021   \n",
       "..                 ...         ...       ...               ...   \n",
       "153               None           0      None      May 20, 2020   \n",
       "154               None           0      None      May 20, 2020   \n",
       "155               None           0      None      May 20, 2020   \n",
       "156               None           0      None      May 20, 2020   \n",
       "157       Sell My Info           0      None      May 20, 2020   \n",
       "\n",
       "                  Film  \n",
       "0    Wonder Woman 1984  \n",
       "1    Wonder Woman 1984  \n",
       "2    Wonder Woman 1984  \n",
       "3    Wonder Woman 1984  \n",
       "4    Wonder Woman 1984  \n",
       "..                 ...  \n",
       "153          Lovebirds  \n",
       "154          Lovebirds  \n",
       "155          Lovebirds  \n",
       "156          Lovebirds  \n",
       "157          Lovebirds  \n",
       "\n",
       "[4267 rows x 8 columns]"
      ]
     },
     "execution_count": 6,
     "metadata": {},
     "output_type": "execute_result"
    }
   ],
   "source": [
    "all_films = pd.concat(dfs)\n",
    "all_films"
   ]
  },
  {
   "cell_type": "code",
   "execution_count": 7,
   "metadata": {},
   "outputs": [
    {
     "data": {
      "text/html": [
       "<div>\n",
       "<style scoped>\n",
       "    .dataframe tbody tr th:only-of-type {\n",
       "        vertical-align: middle;\n",
       "    }\n",
       "\n",
       "    .dataframe tbody tr th {\n",
       "        vertical-align: top;\n",
       "    }\n",
       "\n",
       "    .dataframe thead th {\n",
       "        text-align: right;\n",
       "    }\n",
       "</style>\n",
       "<table border=\"1\" class=\"dataframe\">\n",
       "  <thead>\n",
       "    <tr style=\"text-align: right;\">\n",
       "      <th></th>\n",
       "      <th>reviews</th>\n",
       "      <th>rating</th>\n",
       "      <th>fresh</th>\n",
       "      <th>critic</th>\n",
       "      <th>top_critic</th>\n",
       "      <th>publisher</th>\n",
       "      <th>date</th>\n",
       "      <th>Film</th>\n",
       "      <th>score</th>\n",
       "    </tr>\n",
       "  </thead>\n",
       "  <tbody>\n",
       "    <tr>\n",
       "      <th>0</th>\n",
       "      <td>&lt;div class=\"the_review\" data-qa=\"review-text\"&gt;...</td>\n",
       "      <td>None</td>\n",
       "      <td>fresh</td>\n",
       "      <td>Karen M. Peterson</td>\n",
       "      <td>0</td>\n",
       "      <td>None</td>\n",
       "      <td>January 25, 2021</td>\n",
       "      <td>Wonder Woman 1984</td>\n",
       "      <td>1</td>\n",
       "    </tr>\n",
       "    <tr>\n",
       "      <th>1</th>\n",
       "      <td>&lt;div class=\"the_review\" data-qa=\"review-text\"&gt;...</td>\n",
       "      <td>C-</td>\n",
       "      <td>rotten</td>\n",
       "      <td>None</td>\n",
       "      <td>0</td>\n",
       "      <td>None</td>\n",
       "      <td>January 23, 2021</td>\n",
       "      <td>Wonder Woman 1984</td>\n",
       "      <td>0</td>\n",
       "    </tr>\n",
       "    <tr>\n",
       "      <th>2</th>\n",
       "      <td>&lt;div class=\"the_review\" data-qa=\"review-text\"&gt;...</td>\n",
       "      <td>2/5</td>\n",
       "      <td>rotten</td>\n",
       "      <td>None</td>\n",
       "      <td>0</td>\n",
       "      <td>None</td>\n",
       "      <td>January 22, 2021</td>\n",
       "      <td>Wonder Woman 1984</td>\n",
       "      <td>0</td>\n",
       "    </tr>\n",
       "    <tr>\n",
       "      <th>3</th>\n",
       "      <td>&lt;div class=\"the_review\" data-qa=\"review-text\"&gt;...</td>\n",
       "      <td>None</td>\n",
       "      <td>rotten</td>\n",
       "      <td>None</td>\n",
       "      <td>0</td>\n",
       "      <td>None</td>\n",
       "      <td>January 20, 2021</td>\n",
       "      <td>Wonder Woman 1984</td>\n",
       "      <td>0</td>\n",
       "    </tr>\n",
       "    <tr>\n",
       "      <th>4</th>\n",
       "      <td>&lt;div class=\"the_review\" data-qa=\"review-text\"&gt;...</td>\n",
       "      <td>None</td>\n",
       "      <td>rotten</td>\n",
       "      <td>None</td>\n",
       "      <td>0</td>\n",
       "      <td>None</td>\n",
       "      <td>January 20, 2021</td>\n",
       "      <td>Wonder Woman 1984</td>\n",
       "      <td>0</td>\n",
       "    </tr>\n",
       "    <tr>\n",
       "      <th>...</th>\n",
       "      <td>...</td>\n",
       "      <td>...</td>\n",
       "      <td>...</td>\n",
       "      <td>...</td>\n",
       "      <td>...</td>\n",
       "      <td>...</td>\n",
       "      <td>...</td>\n",
       "      <td>...</td>\n",
       "      <td>...</td>\n",
       "    </tr>\n",
       "    <tr>\n",
       "      <th>153</th>\n",
       "      <td>&lt;div class=\"the_review\" data-qa=\"review-text\"&gt;...</td>\n",
       "      <td>None</td>\n",
       "      <td>fresh</td>\n",
       "      <td>None</td>\n",
       "      <td>0</td>\n",
       "      <td>None</td>\n",
       "      <td>May 20, 2020</td>\n",
       "      <td>Lovebirds</td>\n",
       "      <td>1</td>\n",
       "    </tr>\n",
       "    <tr>\n",
       "      <th>154</th>\n",
       "      <td>&lt;div class=\"the_review\" data-qa=\"review-text\"&gt;...</td>\n",
       "      <td>3/5</td>\n",
       "      <td>fresh</td>\n",
       "      <td>None</td>\n",
       "      <td>0</td>\n",
       "      <td>None</td>\n",
       "      <td>May 20, 2020</td>\n",
       "      <td>Lovebirds</td>\n",
       "      <td>1</td>\n",
       "    </tr>\n",
       "    <tr>\n",
       "      <th>155</th>\n",
       "      <td>&lt;div class=\"the_review\" data-qa=\"review-text\"&gt;...</td>\n",
       "      <td>3/4</td>\n",
       "      <td>fresh</td>\n",
       "      <td>None</td>\n",
       "      <td>0</td>\n",
       "      <td>None</td>\n",
       "      <td>May 20, 2020</td>\n",
       "      <td>Lovebirds</td>\n",
       "      <td>1</td>\n",
       "    </tr>\n",
       "    <tr>\n",
       "      <th>156</th>\n",
       "      <td>&lt;div class=\"the_review\" data-qa=\"review-text\"&gt;...</td>\n",
       "      <td>3.5/5</td>\n",
       "      <td>fresh</td>\n",
       "      <td>None</td>\n",
       "      <td>0</td>\n",
       "      <td>None</td>\n",
       "      <td>May 20, 2020</td>\n",
       "      <td>Lovebirds</td>\n",
       "      <td>1</td>\n",
       "    </tr>\n",
       "    <tr>\n",
       "      <th>157</th>\n",
       "      <td>&lt;div class=\"the_review\" data-qa=\"review-text\"&gt;...</td>\n",
       "      <td>3/4</td>\n",
       "      <td>fresh</td>\n",
       "      <td>Sell My Info</td>\n",
       "      <td>0</td>\n",
       "      <td>None</td>\n",
       "      <td>May 20, 2020</td>\n",
       "      <td>Lovebirds</td>\n",
       "      <td>1</td>\n",
       "    </tr>\n",
       "  </tbody>\n",
       "</table>\n",
       "<p>4267 rows × 9 columns</p>\n",
       "</div>"
      ],
      "text/plain": [
       "                                               reviews rating   fresh  \\\n",
       "0    <div class=\"the_review\" data-qa=\"review-text\">...   None   fresh   \n",
       "1    <div class=\"the_review\" data-qa=\"review-text\">...     C-  rotten   \n",
       "2    <div class=\"the_review\" data-qa=\"review-text\">...    2/5  rotten   \n",
       "3    <div class=\"the_review\" data-qa=\"review-text\">...   None  rotten   \n",
       "4    <div class=\"the_review\" data-qa=\"review-text\">...   None  rotten   \n",
       "..                                                 ...    ...     ...   \n",
       "153  <div class=\"the_review\" data-qa=\"review-text\">...   None   fresh   \n",
       "154  <div class=\"the_review\" data-qa=\"review-text\">...    3/5   fresh   \n",
       "155  <div class=\"the_review\" data-qa=\"review-text\">...    3/4   fresh   \n",
       "156  <div class=\"the_review\" data-qa=\"review-text\">...  3.5/5   fresh   \n",
       "157  <div class=\"the_review\" data-qa=\"review-text\">...    3/4   fresh   \n",
       "\n",
       "                critic  top_critic publisher              date  \\\n",
       "0    Karen M. Peterson           0      None  January 25, 2021   \n",
       "1                 None           0      None  January 23, 2021   \n",
       "2                 None           0      None  January 22, 2021   \n",
       "3                 None           0      None  January 20, 2021   \n",
       "4                 None           0      None  January 20, 2021   \n",
       "..                 ...         ...       ...               ...   \n",
       "153               None           0      None      May 20, 2020   \n",
       "154               None           0      None      May 20, 2020   \n",
       "155               None           0      None      May 20, 2020   \n",
       "156               None           0      None      May 20, 2020   \n",
       "157       Sell My Info           0      None      May 20, 2020   \n",
       "\n",
       "                  Film  score  \n",
       "0    Wonder Woman 1984      1  \n",
       "1    Wonder Woman 1984      0  \n",
       "2    Wonder Woman 1984      0  \n",
       "3    Wonder Woman 1984      0  \n",
       "4    Wonder Woman 1984      0  \n",
       "..                 ...    ...  \n",
       "153          Lovebirds      1  \n",
       "154          Lovebirds      1  \n",
       "155          Lovebirds      1  \n",
       "156          Lovebirds      1  \n",
       "157          Lovebirds      1  \n",
       "\n",
       "[4267 rows x 9 columns]"
      ]
     },
     "execution_count": 7,
     "metadata": {},
     "output_type": "execute_result"
    }
   ],
   "source": [
    "all_films['score'] = all_films['fresh'].apply(lambda x: 1 if x == 'fresh' else 0)\n",
    "all_films"
   ]
  },
  {
   "cell_type": "code",
   "execution_count": 8,
   "metadata": {},
   "outputs": [],
   "source": [
    "all_films['date'] = pd.to_datetime(all_films['date'], format=\"%B %d, %Y\")\n",
    "all_films = all_films.sort_values('date')"
   ]
  },
  {
   "cell_type": "code",
   "execution_count": 9,
   "metadata": {},
   "outputs": [
    {
     "data": {
      "text/plain": [
       "date\n",
       "2020-12-09    1.000000\n",
       "2020-12-15    0.888889\n",
       "2020-12-16    0.900000\n",
       "2020-12-17    0.863636\n",
       "2020-12-18    0.854167\n",
       "2020-12-19    0.836735\n",
       "2020-12-20    0.830189\n",
       "2020-12-21    0.761905\n",
       "2020-12-22    0.720588\n",
       "2020-12-23    0.690476\n",
       "2020-12-24    0.650943\n",
       "2020-12-25    0.634146\n",
       "2020-12-26    0.617647\n",
       "2020-12-27    0.614286\n",
       "2020-12-28    0.602484\n",
       "2020-12-29    0.584795\n",
       "2020-12-30    0.570621\n",
       "2020-12-31    0.562842\n",
       "2021-01-02    0.559783\n",
       "2021-01-03    0.553763\n",
       "2021-01-04    0.567708\n",
       "2021-01-05    0.567010\n",
       "2021-01-06    0.564103\n",
       "2021-01-07    0.563452\n",
       "2021-01-08    0.560606\n",
       "2021-01-11    0.562814\n",
       "2021-01-12    0.562189\n",
       "2021-01-14    0.561576\n",
       "2021-01-15    0.563725\n",
       "2021-01-16    0.565217\n",
       "2021-01-20    0.559809\n",
       "2021-01-22    0.557143\n",
       "2021-01-23    0.554502\n",
       "2021-01-25    0.556604\n",
       "dtype: float64"
      ]
     },
     "execution_count": 9,
     "metadata": {},
     "output_type": "execute_result"
    }
   ],
   "source": [
    "import numpy as np\n",
    "\n",
    "\n",
    "def calculate_score(film, frame):\n",
    "    df = frame[frame['Film'] == film]\n",
    "    grouped_1 = df[['date', 'score']].groupby('date').agg([sum, 'count'])\n",
    "    grouped_1.columns = grouped_1.columns.droplevel(0)\n",
    "    return grouped_1.cumsum()['sum']/grouped_1.cumsum()['count']\n",
    "\n",
    "calculate_score(\"Wonder Woman 1984\", all_films)"
   ]
  }
 ],
 "metadata": {
  "history": [
   {
    "code": "import requests\nimport time\n\n# requirements\nfrom bs4 import BeautifulSoup\nfrom requests import TooManyRedirects\nimport re\n\ndef _make_soup(url):\n    try:\n        r = requests.get(url)\n        soup = BeautifulSoup(r.content, 'html.parser')\n    except TooManyRedirects:\n        soup = ''\n    return soup\n\n#regex patterns\npage_pat = re.compile(r'Page 1 of \\d+')\nreview_pat = re.compile(r'<div class=\\\"the_review\\\" data-qa=\\\"review-text\\\">[;a-zA-Z\\s,-.\\'\\/\\?\\[\\]\\\":\\']*</div>')\nrating_pat = re.compile(r'Original Score:\\s([A-Z](\\+|-)?|\\d(.\\d)?(\\/\\d)?)')\nfresh_pat = re.compile(r'small\\s(fresh|rotten)\\\"')\ncritic_pat = re.compile(r'\\/\\\"\\>([A-Z][a-zA-Z]+\\s[A-Z][a-zA-Z\\-]+)|([A-Z][a-zA-Z.]+\\s[A-Z].?\\s[A-Z][a-zA-Z]+)|([A-Z][a-zA-Z]+\\s[A-Z]+\\'[A-Z][a-zA-Z]+)')\npublisher_pat = re.compile(r'\\\"subtle\\\">[a-zA-Z\\s,.\\(\\)\\'\\-&;!\\/\\d+]+</em>')\ndate_pat = re.compile(r'[a-zA-Z]+\\s\\d+,\\s\\d+')",
    "id": "c5e03962df7f4eb788e0b020cc093cc3",
    "idx": 0,
    "time": "2021-01-25T01:18:09.597Z",
    "type": "execution"
   },
   {
    "id": "c5e03962df7f4eb788e0b020cc093cc3",
    "time": "2021-01-25T01:18:09.848Z",
    "type": "completion"
   },
   {
    "code": "def _get_critic_reviews_from_page(soup):\n    reviews = list()\n    rating = list()\n    fresh = list()\n    critic = list()\n    top_critic = list()\n    publisher = list()\n    date = list()\n    \n    soup = str(soup)\n    review_soup = soup.split('=\"review_table')[1].split('row review_table_row')\n    review_soup.pop(0)\n\n    for review in review_soup:\n        match = re.findall(review_pat, str(review))\n        if len(match) > 0:\n            m = match[0]            \n            for iden in ['<div class=\"the_review\" data-qa=\"review-text\"> ','</div>']:\n                m = m.replace(iden,'')\n            reviews.append(m.strip('\"'))            \n            # extract rating\n            match = re.findall(rating_pat, str(review))\n            if len(match) > 0:\n                m = match[0][0]\n                if '/1' in m:\n                    sp_m = m.split('/')\n                    if sp_m[-1] == '1':\n                        sp_m[-1] = '10'\n                    m = '/'.join(sp_m)\n                rating.append(m)\n            else:\n                rating.append(None)            \n            # extract fresh indicator\n            match = re.findall(fresh_pat, str(review))\n            if len(match) > 0:\n                fresh.append(match[0])\n            else:\n                fresh.append(None)            \n            # extract critic\n            match = re.findall(critic_pat, str(review))\n            if len(match) > 0:\n                critic.append(''.join(match[0]))\n            else:\n                critic.append(None)            \n            # check if top critic\n            if '> Top Critic<' in str(review):\n                top_critic.append(1)\n            else:\n                top_critic.append(0)            \n            # extract publisher\n            match = re.findall(publisher_pat, str(review))\n            if len(match) > 0:\n                m = match[0]\n                m = m.replace('\"subtle\">', '')\n                m = m.replace('</em>','')\n                publisher.append(m)\n            else:\n                publisher.append(None)            \n            # extract date\n            match = re.findall(date_pat, str(review))\n            if len(match) > 0:\n                date.append(match[0].strip('\"'))\n            else:\n                date.append(None)\n            \n    return [reviews, rating, fresh, critic, top_critic, publisher, date]\n\ndef _get_num_pages(soup):\n    match = re.findall(page_pat,str(list(soup)))\n    if len(match) > 0:\n        match = match[0]\n        match = match.split(' of ')[-1]\n        return match\n    else:\n        return None",
    "id": "9533bf2ea5d947349cad1e0e253e092b",
    "idx": 1,
    "time": "2021-01-25T01:18:09.871Z",
    "type": "execution"
   },
   {
    "id": "9533bf2ea5d947349cad1e0e253e092b",
    "time": "2021-01-25T01:18:09.948Z",
    "type": "completion"
   },
   {
    "code": "def get_critic_reviews(page):\n    info = [[],[],[],[],[],[],[]]\n    soup = _make_soup(page + \"reviews\")\n    pages = _get_num_pages(soup)    \n    if pages is not None:\n        for page_num in range(1,int(pages)+1):\n            soup = _make_soup(page + \"reviews?page=\" + str(page_num) + \"&sort=\")\n            c_info = _get_critic_reviews_from_page(soup)\n            \n            # accumulate review info\n            for i in range(len(c_info)):\n                info[i] = info[i] + c_info[i]\n        \n        c_info = dict()\n        keys = ['reviews', 'rating', 'fresh', 'critic', 'top_critic', 'publisher', 'date']\n        for k in range(len(keys)):\n            c_info[keys[k]] = info[k]        \n    else:\n        c_info = None        \n    return c_info",
    "id": "0e35305f712b4af996a3444a84d10747",
    "idx": 2,
    "time": "2021-01-25T01:18:11.533Z",
    "type": "execution"
   },
   {
    "id": "0e35305f712b4af996a3444a84d10747",
    "time": "2021-01-25T01:18:11.602Z",
    "type": "completion"
   },
   {
    "code": "movie_urls = {'Wonder Woman 1984': 'https://www.rottentomatoes.com/m/wonder_woman_1984/', \n              'Soul':'https://www.rottentomatoes.com/m/soul_2020/', \n              'Mulan': 'https://www.rottentomatoes.com/m/mulan_2020/',\n              'Birds of Prey': 'https://www.rottentomatoes.com/m/birds_of_prey_2020/',\n              'Sonic': 'https://www.rottentomatoes.com/m/sonic_the_hedgehog_2020/'\n             }\nmovie_urls.keys()",
    "id": "4ff40fa9832744578de2781a362a030c",
    "idx": 3,
    "time": "2021-01-25T01:20:41.344Z",
    "type": "execution"
   },
   {
    "id": "4ff40fa9832744578de2781a362a030c",
    "time": "2021-01-25T01:20:41.435Z",
    "type": "completion"
   },
   {
    "code": "movie_urls = {'Wonder Woman 1984': 'https://www.rottentomatoes.com/m/wonder_woman_1984/', \n              'Soul':'https://www.rottentomatoes.com/m/soul_2020/', \n              'Mulan': 'https://www.rottentomatoes.com/m/mulan_2020/',\n              'Birds of Prey': 'https://www.rottentomatoes.com/m/birds_of_prey_2020/',\n              'Sonic': 'https://www.rottentomatoes.com/m/sonic_the_hedgehog_2020/'\n             }\nmovie_urls.keys()",
    "id": "4ff40fa9832744578de2781a362a030c",
    "idx": 3,
    "time": "2021-01-25T01:21:27.087Z",
    "type": "execution"
   },
   {
    "id": "4ff40fa9832744578de2781a362a030c",
    "time": "2021-01-25T01:21:27.155Z",
    "type": "completion"
   },
   {
    "code": "dfs = []\nfor key in movie_urls.keys():\n    temp = get_critic_reviews(movie_urls[key])\n    df = pd.DataFrame.from_dict(temp)\n    df['Film'] = key\n    dfs.append(df)",
    "id": "f38e9518a8674699aba6001147c83642",
    "idx": 4,
    "time": "2021-01-25T01:21:54.833Z",
    "type": "execution"
   },
   {
    "id": "f38e9518a8674699aba6001147c83642",
    "time": "2021-01-25T01:22:06.677Z",
    "type": "completion"
   },
   {
    "code": "import pandas as pd\n\ndfs = []\nfor key in movie_urls.keys():\n    temp = get_critic_reviews(movie_urls[key])\n    df = pd.DataFrame.from_dict(temp)\n    df['Film'] = key\n    dfs.append(df)",
    "id": "f38e9518a8674699aba6001147c83642",
    "idx": 4,
    "time": "2021-01-25T01:22:13.794Z",
    "type": "execution"
   },
   {
    "code": "pd.concat(dfs)",
    "id": "0a80902cb72546b59051eb0895f29b1a",
    "idx": 5,
    "time": "2021-01-25T01:22:18.569Z",
    "type": "execution"
   },
   {
    "id": "f38e9518a8674699aba6001147c83642",
    "time": "2021-01-25T01:22:59.103Z",
    "type": "completion"
   },
   {
    "id": "0a80902cb72546b59051eb0895f29b1a",
    "time": "2021-01-25T01:22:59.156Z",
    "type": "completion"
   },
   {
    "code": "all_films = pd.concat(dfs)\nall_films",
    "id": "0a80902cb72546b59051eb0895f29b1a",
    "idx": 5,
    "time": "2021-01-25T01:24:16.759Z",
    "type": "execution"
   },
   {
    "id": "0a80902cb72546b59051eb0895f29b1a",
    "time": "2021-01-25T01:24:16.865Z",
    "type": "completion"
   },
   {
    "code": "all_films['score'] = all_films['fresh'].apply(lambda x: 1 if x == 'fresh' else 0)\nall_films",
    "id": "24b2201e34ef4f7ea1e3069df916f172",
    "idx": 6,
    "time": "2021-01-25T01:24:26.846Z",
    "type": "execution"
   },
   {
    "id": "24b2201e34ef4f7ea1e3069df916f172",
    "time": "2021-01-25T01:24:26.938Z",
    "type": "completion"
   },
   {
    "code": "all_films['date'] = pd.to_datetime(all_films['date'], format=\"%B %d, %Y\")\nall_films = all_films.sort_values('date')",
    "id": "f265c65d26c94a1f810d653b11a0e943",
    "idx": 7,
    "time": "2021-01-25T01:24:49.576Z",
    "type": "execution"
   },
   {
    "id": "f265c65d26c94a1f810d653b11a0e943",
    "time": "2021-01-25T01:24:49.651Z",
    "type": "completion"
   },
   {
    "code": "import numpy as np\n\n\ndef calculate_score(film):\n    df = all_films[all_films['Film'] == film]\n    grouped_1 = df[['date', 'score']].groupby('date').agg([sum, 'count'])\n    grouped_1.columns = grouped_1.columns.droplevel(0)\n    return grouped_1.cumsum()['sum']/grouped_1.cumsum()['count']\n\ncalculate_score(\"Wonder Woman 1984\")",
    "id": "12d2e21a5f854cdf88a0d8024380245c",
    "idx": 8,
    "time": "2021-01-25T01:27:31.558Z",
    "type": "execution"
   },
   {
    "id": "12d2e21a5f854cdf88a0d8024380245c",
    "time": "2021-01-25T01:27:31.667Z",
    "type": "completion"
   },
   {
    "code": "import numpy as np\n\n\ndef calculate_score(film):\n    df = all_films[all_films['Film'] == film]\n    grouped_1 = df[['date', 'score']].groupby('date').agg([sum, 'count'])\n    grouped_1.columns = grouped_1.columns.droplevel(0)\n    return grouped_1.cumsum()['sum']/grouped_1.cumsum()['count']\n\ncalculate_score(\"Wonder Woman 1984\")",
    "id": "12d2e21a5f854cdf88a0d8024380245c",
    "idx": 8,
    "time": "2021-01-25T01:28:00.501Z",
    "type": "execution"
   },
   {
    "id": "12d2e21a5f854cdf88a0d8024380245c",
    "time": "2021-01-25T01:28:00.600Z",
    "type": "completion"
   },
   {
    "code": "calculate_score(\"Wonder Woman 1984\").plot()",
    "id": "65a620d143384f8a889dd2ca82c2bf76",
    "idx": 9,
    "time": "2021-01-25T01:28:52.064Z",
    "type": "execution"
   },
   {
    "id": "65a620d143384f8a889dd2ca82c2bf76",
    "time": "2021-01-25T01:28:55.601Z",
    "type": "completion"
   },
   {
    "code": "calculate_score(\"Sonic\").plot()",
    "id": "65a620d143384f8a889dd2ca82c2bf76",
    "idx": 9,
    "time": "2021-01-25T01:29:10.973Z",
    "type": "execution"
   },
   {
    "id": "65a620d143384f8a889dd2ca82c2bf76",
    "time": "2021-01-25T01:29:11.391Z",
    "type": "completion"
   },
   {
    "code": "calculate_score(\"Mulan\").plot()",
    "id": "65a620d143384f8a889dd2ca82c2bf76",
    "idx": 9,
    "time": "2021-01-25T01:29:20.660Z",
    "type": "execution"
   },
   {
    "id": "65a620d143384f8a889dd2ca82c2bf76",
    "time": "2021-01-25T01:29:21.117Z",
    "type": "completion"
   },
   {
    "code": "calculate_score(\"Soul\").plot()",
    "id": "65a620d143384f8a889dd2ca82c2bf76",
    "idx": 9,
    "time": "2021-01-25T01:29:32.892Z",
    "type": "execution"
   },
   {
    "id": "65a620d143384f8a889dd2ca82c2bf76",
    "time": "2021-01-25T01:29:33.218Z",
    "type": "completion"
   },
   {
    "code": "# calculate_score(\"Soul\").plot()\nimport matplotlib.pyplot as plt\n\nfor key in movie_urls.keys():\n#     pd.to_numeric(df.Subs).plot.line()\n    df = all_films[all_films==key]\n    plt.plot(calculate_score(key), label=key)\n#     plt.plot(np.arange(len(df.index)), pd.to_numeric(df.Total).pct_change(), label = df.Name.values[0], color = colors[i])\n#     plt.axvline(x=30, color='red', linestyle='dashed',linewidth=0.5)\n    plt.ylabel('Percent Change in Subscribers by Day')\n    plt.xlabel(\"Day (0 is 1 month before Content Cop's release)\")\n    plt.legend()\n# plt.annotate('Content Cop released', xy=(30, 0.015), ha='center', size=10)\n# plt.title('The Impact of Content Cop')\n# plt.savefig('pct_cc.svg')",
    "id": "65a620d143384f8a889dd2ca82c2bf76",
    "idx": 9,
    "time": "2021-01-25T01:32:47.689Z",
    "type": "execution"
   },
   {
    "id": "65a620d143384f8a889dd2ca82c2bf76",
    "time": "2021-01-25T01:32:48.148Z",
    "type": "completion"
   },
   {
    "code": "#add more movies\n\nmovie_urls['Tenet'] = 'https://www.rottentomatoes.com/m/tenet'\nmovie_urls['Scoob'] = 'https://www.rottentomatoes.com/m/scoob'\nmovie_urls['The Marksman'] = 'https://www.rottentomatoes.com/m/the_marksman_2021'\nmovie_urls['Artemis Fowl'] = 'https://www.rottentomatoes.com/m/the_marksman_2021'\nmovie_urls['Lovebirds'] = 'https://www.rottentomatoes.com/m/the_lovebirds_2020'\n\nnewkeys = ['Tenet', 'Scoob', 'The Marksman', 'Artemis Fowl', 'Lovebirds']\nfor key in newkeys:\n    temp = get_critic_reviews(movie_urls[key])\n    df = pd.DataFrame.from_dict(temp)\n    df['Film'] = key\n    dfs.append(df)",
    "id": "08428b7591c54ae38b82e220e5d57d2c",
    "idx": 10,
    "time": "2021-01-25T01:38:14.916Z",
    "type": "execution"
   },
   {
    "code": "dfs",
    "id": "e3d4885a365b48c2a6ac5911004a5418",
    "idx": 11,
    "time": "2021-01-25T01:38:16.323Z",
    "type": "execution"
   },
   {
    "id": "08428b7591c54ae38b82e220e5d57d2c",
    "time": "2021-01-25T01:38:16.437Z",
    "type": "completion"
   },
   {
    "id": "e3d4885a365b48c2a6ac5911004a5418",
    "time": "2021-01-25T01:38:16.488Z",
    "type": "completion"
   },
   {
    "code": "#add more movies\n\nmovie_urls['Tenet'] = 'https://www.rottentomatoes.com/m/tenet'\nmovie_urls['Scoob'] = 'https://www.rottentomatoes.com/m/scoob'\nmovie_urls['The Marksman'] = 'https://www.rottentomatoes.com/m/the_marksman_2021'\nmovie_urls['Artemis Fowl'] = 'https://www.rottentomatoes.com/m/the_marksman_2021'\nmovie_urls['Lovebirds'] = 'https://www.rottentomatoes.com/m/the_lovebirds_2020'\n\nnewkeys = ['Tenet', 'Scoob', 'The Marksman', 'Artemis Fowl', 'Lovebirds']\nfor key in newkeys:\n    temp = get_critic_reviews(movie_urls[key])\n    print(temp)\n    df = pd.DataFrame.from_dict(temp)\n    df['Film'] = key\n    dfs.append(df)",
    "id": "08428b7591c54ae38b82e220e5d57d2c",
    "idx": 10,
    "time": "2021-01-25T01:38:48.438Z",
    "type": "execution"
   },
   {
    "id": "08428b7591c54ae38b82e220e5d57d2c",
    "time": "2021-01-25T01:38:49.943Z",
    "type": "completion"
   },
   {
    "code": "movie_urls['Tenet']",
    "id": "e3d4885a365b48c2a6ac5911004a5418",
    "idx": 11,
    "time": "2021-01-25T01:39:06.356Z",
    "type": "execution"
   },
   {
    "id": "e3d4885a365b48c2a6ac5911004a5418",
    "time": "2021-01-25T01:39:06.441Z",
    "type": "completion"
   },
   {
    "code": "get_critic_reviews(movie_urls['Tenet'])",
    "id": "e3d4885a365b48c2a6ac5911004a5418",
    "idx": 11,
    "time": "2021-01-25T01:39:14.875Z",
    "type": "execution"
   },
   {
    "id": "e3d4885a365b48c2a6ac5911004a5418",
    "time": "2021-01-25T01:39:15.298Z",
    "type": "completion"
   },
   {
    "code": "all_films.to_csv(\"all_films.csv\", index=False)",
    "id": "dd041b290f0b4e958b7399ea871fb054",
    "idx": 10,
    "time": "2021-01-25T01:39:42.406Z",
    "type": "execution"
   },
   {
    "id": "dd041b290f0b4e958b7399ea871fb054",
    "time": "2021-01-25T01:39:42.507Z",
    "type": "completion"
   },
   {
    "code": "#add more movies\n\nmovie_urls['Tenet'] = 'https://www.rottentomatoes.com/m/tenet'\nmovie_urls['Scoob'] = 'https://www.rottentomatoes.com/m/scoob'\nmovie_urls['The Marksman'] = 'https://www.rottentomatoes.com/m/the_marksman_2021'\nmovie_urls['Artemis Fowl'] = 'https://www.rottentomatoes.com/m/the_marksman_2021'\nmovie_urls['Lovebirds'] = 'https://www.rottentomatoes.com/m/the_lovebirds_2020'\n\nnewkeys = ['Tenet', 'Scoob', 'The Marksman', 'Artemis Fowl', 'Lovebirds']\nfor key in newkeys:\n    temp = get_critic_reviews(movie_urls[key])\n    df = pd.DataFrame.from_dict(temp)\n    df['Film'] = key\n    dfs.append(df)",
    "id": "08428b7591c54ae38b82e220e5d57d2c",
    "idx": 11,
    "time": "2021-01-25T01:40:12.653Z",
    "type": "execution"
   },
   {
    "id": "08428b7591c54ae38b82e220e5d57d2c",
    "time": "2021-01-25T01:40:14.176Z",
    "type": "completion"
   },
   {
    "code": "dfs",
    "id": "e3d4885a365b48c2a6ac5911004a5418",
    "idx": 12,
    "time": "2021-01-25T01:40:18.809Z",
    "type": "execution"
   },
   {
    "id": "e3d4885a365b48c2a6ac5911004a5418",
    "time": "2021-01-25T01:40:18.966Z",
    "type": "completion"
   },
   {
    "code": "dfs[7]",
    "id": "e3d4885a365b48c2a6ac5911004a5418",
    "idx": 12,
    "time": "2021-01-25T01:40:32.974Z",
    "type": "execution"
   },
   {
    "id": "e3d4885a365b48c2a6ac5911004a5418",
    "time": "2021-01-25T01:40:33.061Z",
    "type": "completion"
   },
   {
    "code": "#add more movies\n\nmovie_urls['Tenet'] = 'https://www.rottentomatoes.com/m/tenet'\nmovie_urls['Scoob'] = 'https://www.rottentomatoes.com/m/scoob'\nmovie_urls['The Marksman'] = 'https://www.rottentomatoes.com/m/the_marksman_2021'\nmovie_urls['Artemis Fowl'] = 'https://www.rottentomatoes.com/m/the_marksman_2021'\nmovie_urls['Lovebirds'] = 'https://www.rottentomatoes.com/m/the_lovebirds_2020'\n\nnewkeys = ['Tenet', 'Scoob', 'The Marksman', 'Artemis Fowl', 'Lovebirds']\nfor key in newkeys:\n    print(key)\n    temp = get_critic_reviews(movie_urls[key])\n    df = pd.DataFrame.from_dict(temp)\n    df['Film'] = key\n    dfs.append(df)",
    "id": "08428b7591c54ae38b82e220e5d57d2c",
    "idx": 11,
    "time": "2021-01-25T01:40:40.093Z",
    "type": "execution"
   },
   {
    "id": "08428b7591c54ae38b82e220e5d57d2c",
    "time": "2021-01-25T01:40:42.183Z",
    "type": "completion"
   },
   {
    "code": "#add more movies\n\nmovie_urls['Tenet'] = 'https://www.rottentomatoes.com/m/tenet'\nmovie_urls['Scoob'] = 'https://www.rottentomatoes.com/m/scoob'\nmovie_urls['The Marksman'] = 'https://www.rottentomatoes.com/m/the_marksman_2021'\nmovie_urls['Artemis Fowl'] = 'https://www.rottentomatoes.com/m/the_marksman_2021'\nmovie_urls['Lovebirds'] = 'https://www.rottentomatoes.com/m/the_lovebirds_2020'\n\nnewkeys = ['Tenet', 'Scoob', 'The Marksman', 'Artemis Fowl', 'Lovebirds']\nfor key in newkeys:\n    print(key)\n    temp = get_critic_reviews(movie_urls[key])\n    df = pd.DataFrame.from_dict(temp)\n    df['Film'] = key\n    dfs.append(df)",
    "id": "6fcb345e6cd240d19986ad40e631977a",
    "idx": 11,
    "time": "2021-01-25T02:30:24.984Z",
    "type": "execution"
   },
   {
    "code": "import requests\nimport time\n\n# requirements\nfrom bs4 import BeautifulSoup\nfrom requests import TooManyRedirects\nimport re\n\ndef _make_soup(url):\n    try:\n        r = requests.get(url)\n        soup = BeautifulSoup(r.content, 'html.parser')\n    except TooManyRedirects:\n        soup = ''\n    return soup\n\n#regex patterns\npage_pat = re.compile(r'Page 1 of \\d+')\nreview_pat = re.compile(r'<div class=\\\"the_review\\\" data-qa=\\\"review-text\\\">[;a-zA-Z\\s,-.\\'\\/\\?\\[\\]\\\":\\']*</div>')\nrating_pat = re.compile(r'Original Score:\\s([A-Z](\\+|-)?|\\d(.\\d)?(\\/\\d)?)')\nfresh_pat = re.compile(r'small\\s(fresh|rotten)\\\"')\ncritic_pat = re.compile(r'\\/\\\"\\>([A-Z][a-zA-Z]+\\s[A-Z][a-zA-Z\\-]+)|([A-Z][a-zA-Z.]+\\s[A-Z].?\\s[A-Z][a-zA-Z]+)|([A-Z][a-zA-Z]+\\s[A-Z]+\\'[A-Z][a-zA-Z]+)')\npublisher_pat = re.compile(r'\\\"subtle\\\">[a-zA-Z\\s,.\\(\\)\\'\\-&;!\\/\\d+]+</em>')\ndate_pat = re.compile(r'[a-zA-Z]+\\s\\d+,\\s\\d+')",
    "id": "6565956e55e14dfdbbf8d8aa6047c9a5",
    "idx": 0,
    "time": "2021-01-25T02:31:11.131Z",
    "type": "execution"
   },
   {
    "code": "#add more movies\n\nmovie_urls['Tenet'] = 'https://www.rottentomatoes.com/m/tenet'\nmovie_urls['Scoob'] = 'https://www.rottentomatoes.com/m/scoob'\nmovie_urls['The Marksman'] = 'https://www.rottentomatoes.com/m/the_marksman_2021'\nmovie_urls['Artemis Fowl'] = 'https://www.rottentomatoes.com/m/the_marksman_2021'\nmovie_urls['Lovebirds'] = 'https://www.rottentomatoes.com/m/the_lovebirds_2020'\n\nnewkeys = ['Tenet', 'Scoob', 'The Marksman', 'Artemis Fowl', 'Lovebirds']\nfor key in newkeys:\n    print(key)\n    temp = get_critic_reviews(movie_urls[key])\n    df = pd.DataFrame.from_dict(temp)\n    df['Film'] = key\n    dfs.append(df)",
    "id": "452da246cc0b4216939ee0c2d35311c0",
    "idx": 11,
    "time": "2021-01-25T04:58:20.981Z",
    "type": "execution"
   },
   {
    "id": "452da246cc0b4216939ee0c2d35311c0",
    "time": "2021-01-25T04:58:21.206Z",
    "type": "completion"
   },
   {
    "code": "import requests\nimport time\n\n# requirements\nfrom bs4 import BeautifulSoup\nfrom requests import TooManyRedirects\nimport re\n\ndef _make_soup(url):\n    try:\n        r = requests.get(url)\n        soup = BeautifulSoup(r.content, 'html.parser')\n    except TooManyRedirects:\n        soup = ''\n    return soup\n\n#regex patterns\npage_pat = re.compile(r'Page 1 of \\d+')\nreview_pat = re.compile(r'<div class=\\\"the_review\\\" data-qa=\\\"review-text\\\">[;a-zA-Z\\s,-.\\'\\/\\?\\[\\]\\\":\\']*</div>')\nrating_pat = re.compile(r'Original Score:\\s([A-Z](\\+|-)?|\\d(.\\d)?(\\/\\d)?)')\nfresh_pat = re.compile(r'small\\s(fresh|rotten)\\\"')\ncritic_pat = re.compile(r'\\/\\\"\\>([A-Z][a-zA-Z]+\\s[A-Z][a-zA-Z\\-]+)|([A-Z][a-zA-Z.]+\\s[A-Z].?\\s[A-Z][a-zA-Z]+)|([A-Z][a-zA-Z]+\\s[A-Z]+\\'[A-Z][a-zA-Z]+)')\npublisher_pat = re.compile(r'\\\"subtle\\\">[a-zA-Z\\s,.\\(\\)\\'\\-&;!\\/\\d+]+</em>')\ndate_pat = re.compile(r'[a-zA-Z]+\\s\\d+,\\s\\d+')",
    "id": "76632974c4304b76a236574d6b4f470e",
    "idx": 0,
    "time": "2021-01-25T04:58:25.502Z",
    "type": "execution"
   },
   {
    "id": "76632974c4304b76a236574d6b4f470e",
    "time": "2021-01-25T04:58:25.772Z",
    "type": "completion"
   },
   {
    "code": "def _get_critic_reviews_from_page(soup):\n    reviews = list()\n    rating = list()\n    fresh = list()\n    critic = list()\n    top_critic = list()\n    publisher = list()\n    date = list()\n    \n    soup = str(soup)\n    review_soup = soup.split('=\"review_table')[1].split('row review_table_row')\n    review_soup.pop(0)\n\n    for review in review_soup:\n        match = re.findall(review_pat, str(review))\n        if len(match) > 0:\n            m = match[0]            \n            for iden in ['<div class=\"the_review\" data-qa=\"review-text\"> ','</div>']:\n                m = m.replace(iden,'')\n            reviews.append(m.strip('\"'))            \n            # extract rating\n            match = re.findall(rating_pat, str(review))\n            if len(match) > 0:\n                m = match[0][0]\n                if '/1' in m:\n                    sp_m = m.split('/')\n                    if sp_m[-1] == '1':\n                        sp_m[-1] = '10'\n                    m = '/'.join(sp_m)\n                rating.append(m)\n            else:\n                rating.append(None)            \n            # extract fresh indicator\n            match = re.findall(fresh_pat, str(review))\n            if len(match) > 0:\n                fresh.append(match[0])\n            else:\n                fresh.append(None)            \n            # extract critic\n            match = re.findall(critic_pat, str(review))\n            if len(match) > 0:\n                critic.append(''.join(match[0]))\n            else:\n                critic.append(None)            \n            # check if top critic\n            if '> Top Critic<' in str(review):\n                top_critic.append(1)\n            else:\n                top_critic.append(0)            \n            # extract publisher\n            match = re.findall(publisher_pat, str(review))\n            if len(match) > 0:\n                m = match[0]\n                m = m.replace('\"subtle\">', '')\n                m = m.replace('</em>','')\n                publisher.append(m)\n            else:\n                publisher.append(None)            \n            # extract date\n            match = re.findall(date_pat, str(review))\n            if len(match) > 0:\n                date.append(match[0].strip('\"'))\n            else:\n                date.append(None)\n            \n    return [reviews, rating, fresh, critic, top_critic, publisher, date]\n\ndef _get_num_pages(soup):\n    match = re.findall(page_pat,str(list(soup)))\n    if len(match) > 0:\n        match = match[0]\n        match = match.split(' of ')[-1]\n        return match\n    else:\n        return None",
    "id": "2ad68878ffa14d7798b340fc2cb50f73",
    "idx": 1,
    "time": "2021-01-25T04:58:26.357Z",
    "type": "execution"
   },
   {
    "id": "2ad68878ffa14d7798b340fc2cb50f73",
    "time": "2021-01-25T04:58:26.438Z",
    "type": "completion"
   },
   {
    "code": "def get_critic_reviews(page):\n    info = [[],[],[],[],[],[],[]]\n    soup = _make_soup(page + \"reviews\")\n    pages = _get_num_pages(soup)    \n    if pages is not None:\n        for page_num in range(1,int(pages)+1):\n            soup = _make_soup(page + \"reviews?page=\" + str(page_num) + \"&sort=\")\n            c_info = _get_critic_reviews_from_page(soup)\n            \n            # accumulate review info\n            for i in range(len(c_info)):\n                info[i] = info[i] + c_info[i]\n        \n        c_info = dict()\n        keys = ['reviews', 'rating', 'fresh', 'critic', 'top_critic', 'publisher', 'date']\n        for k in range(len(keys)):\n            c_info[keys[k]] = info[k]        \n    else:\n        c_info = None        \n    return c_info",
    "id": "37eabf1671044138af9a456423454050",
    "idx": 2,
    "time": "2021-01-25T04:58:27.372Z",
    "type": "execution"
   },
   {
    "id": "37eabf1671044138af9a456423454050",
    "time": "2021-01-25T04:58:27.437Z",
    "type": "completion"
   },
   {
    "code": "movie_urls = {'Wonder Woman 1984': 'https://www.rottentomatoes.com/m/wonder_woman_1984/', \n              'Soul':'https://www.rottentomatoes.com/m/soul_2020/', \n              'Mulan': 'https://www.rottentomatoes.com/m/mulan_2020/',\n              'Birds of Prey': 'https://www.rottentomatoes.com/m/birds_of_prey_2020/',\n              'Sonic': 'https://www.rottentomatoes.com/m/sonic_the_hedgehog_2020/'\n             }\nmovie_urls.keys()",
    "id": "99926b7aff5d493eabbdb4a843b55104",
    "idx": 3,
    "time": "2021-01-25T04:58:28.385Z",
    "type": "execution"
   },
   {
    "id": "99926b7aff5d493eabbdb4a843b55104",
    "time": "2021-01-25T04:58:28.460Z",
    "type": "completion"
   },
   {
    "code": "#add more movies\nimport pandas as pd\n\nmovie_urls['Tenet'] = 'https://www.rottentomatoes.com/m/tenet'\nmovie_urls['Scoob'] = 'https://www.rottentomatoes.com/m/scoob'\nmovie_urls['The Marksman'] = 'https://www.rottentomatoes.com/m/the_marksman_2021'\nmovie_urls['Artemis Fowl'] = 'https://www.rottentomatoes.com/m/the_marksman_2021'\nmovie_urls['Lovebirds'] = 'https://www.rottentomatoes.com/m/the_lovebirds_2020'\n\nnewkeys = ['Tenet', 'Scoob', 'The Marksman', 'Artemis Fowl', 'Lovebirds']\nfor key in newkeys:\n    print(key)\n    temp = get_critic_reviews(movie_urls[key])\n    df = pd.DataFrame.from_dict(temp)\n    df['Film'] = key\n    dfs.append(df)",
    "id": "452da246cc0b4216939ee0c2d35311c0",
    "idx": 11,
    "time": "2021-01-25T04:58:41.486Z",
    "type": "execution"
   },
   {
    "id": "452da246cc0b4216939ee0c2d35311c0",
    "time": "2021-01-25T04:58:42.435Z",
    "type": "completion"
   },
   {
    "code": "#add more movies\nimport pandas as pd\n\nmovie_urls['Tenet'] = 'https://www.rottentomatoes.com/m/tenet'\nmovie_urls['Scoob'] = 'https://www.rottentomatoes.com/m/scoob'\nmovie_urls['The Marksman'] = 'https://www.rottentomatoes.com/m/the_marksman_2021'\nmovie_urls['Artemis Fowl'] = 'https://www.rottentomatoes.com/m/the_marksman_2021'\nmovie_urls['Lovebirds'] = 'https://www.rottentomatoes.com/m/the_lovebirds_2020'\n\nnewkeys = ['Tenet', 'Scoob', 'The Marksman', 'Artemis Fowl', 'Lovebirds']\ndfs = []\n\nfor key in newkeys:\n    print(key)\n    temp = get_critic_reviews(movie_urls[key])\n    df = pd.DataFrame.from_dict(temp)\n    df['Film'] = key\n    dfs.append(df)",
    "id": "452da246cc0b4216939ee0c2d35311c0",
    "idx": 11,
    "time": "2021-01-25T04:58:57.238Z",
    "type": "execution"
   },
   {
    "id": "452da246cc0b4216939ee0c2d35311c0",
    "time": "2021-01-25T04:58:58.931Z",
    "type": "completion"
   },
   {
    "code": "dfs",
    "id": "d2b653a5564e49b588c9834bf6ae03c3",
    "idx": 12,
    "time": "2021-01-25T04:59:00.950Z",
    "type": "execution"
   },
   {
    "id": "d2b653a5564e49b588c9834bf6ae03c3",
    "time": "2021-01-25T04:59:01.025Z",
    "type": "completion"
   },
   {
    "code": "#add more movies\nimport pandas as pd\n\nmovie_urls['Tenet'] = 'https://www.rottentomatoes.com/m/tenet'\nmovie_urls['Scoob'] = 'https://www.rottentomatoes.com/m/scoob'\nmovie_urls['The Marksman'] = 'https://www.rottentomatoes.com/m/the_marksman_2021'\nmovie_urls['Artemis Fowl'] = 'https://www.rottentomatoes.com/m/the_marksman_2021'\nmovie_urls['Lovebirds'] = 'https://www.rottentomatoes.com/m/the_lovebirds_2020'\n\nnewkeys = ['Tenet', 'Scoob', 'The Marksman', 'Artemis Fowl', 'Lovebirds']\ndfs = []\n\nfor key in newkeys:\n    print(movie_urls[key])\n    temp = get_critic_reviews(movie_urls[key])\n    df = pd.DataFrame.from_dict(temp)\n    df['Film'] = key\n    dfs.append(df)",
    "id": "452da246cc0b4216939ee0c2d35311c0",
    "idx": 11,
    "time": "2021-01-25T04:59:34.058Z",
    "type": "execution"
   },
   {
    "code": "#add more movies\nimport pandas as pd\n\nmovie_urls['Tenet'] = 'https://www.rottentomatoes.com/m/tenet'\nmovie_urls['Scoob'] = 'https://www.rottentomatoes.com/m/scoob'\nmovie_urls['The Marksman'] = 'https://www.rottentomatoes.com/m/the_marksman_2021'\nmovie_urls['Artemis Fowl'] = 'https://www.rottentomatoes.com/m/the_marksman_2021'\nmovie_urls['Lovebirds'] = 'https://www.rottentomatoes.com/m/the_lovebirds_2020'\n\nnewkeys = ['Tenet', 'Scoob', 'The Marksman', 'Artemis Fowl', 'Lovebirds']\ndfs = []\n\nfor key in newkeys:\n    print(movie_urls[key])\n    temp = get_critic_reviews(movie_urls[key])\n    df = pd.DataFrame.from_dict(temp)\n    df['Film'] = key\n    dfs.append(df)",
    "id": "d7130be7a30d41d69ee77114450264e8",
    "idx": 11,
    "time": "2021-01-25T05:01:13.573Z",
    "type": "execution"
   },
   {
    "code": "import requests\nimport time\n\n# requirements\nfrom bs4 import BeautifulSoup\nfrom requests import TooManyRedirects\nimport re\n\ndef _make_soup(url):\n    try:\n        r = requests.get(url)\n        soup = BeautifulSoup(r.content, 'html.parser')\n    except TooManyRedirects:\n        soup = ''\n    return soup\n\n#regex patterns\npage_pat = re.compile(r'Page 1 of \\d+')\nreview_pat = re.compile(r'<div class=\\\"the_review\\\" data-qa=\\\"review-text\\\">[;a-zA-Z\\s,-.\\'\\/\\?\\[\\]\\\":\\']*</div>')\nrating_pat = re.compile(r'Original Score:\\s([A-Z](\\+|-)?|\\d(.\\d)?(\\/\\d)?)')\nfresh_pat = re.compile(r'small\\s(fresh|rotten)\\\"')\ncritic_pat = re.compile(r'\\/\\\"\\>([A-Z][a-zA-Z]+\\s[A-Z][a-zA-Z\\-]+)|([A-Z][a-zA-Z.]+\\s[A-Z].?\\s[A-Z][a-zA-Z]+)|([A-Z][a-zA-Z]+\\s[A-Z]+\\'[A-Z][a-zA-Z]+)')\npublisher_pat = re.compile(r'\\\"subtle\\\">[a-zA-Z\\s,.\\(\\)\\'\\-&;!\\/\\d+]+</em>')\ndate_pat = re.compile(r'[a-zA-Z]+\\s\\d+,\\s\\d+')",
    "id": "f6c275693e8745899eb9ab41762579c5",
    "idx": 0,
    "time": "2021-01-25T16:36:33.413Z",
    "type": "execution"
   },
   {
    "id": "f6c275693e8745899eb9ab41762579c5",
    "time": "2021-01-25T16:36:33.660Z",
    "type": "completion"
   },
   {
    "code": "def _get_critic_reviews_from_page(soup):\n    reviews = list()\n    rating = list()\n    fresh = list()\n    critic = list()\n    top_critic = list()\n    publisher = list()\n    date = list()\n    \n    soup = str(soup)\n    review_soup = soup.split('=\"review_table')[1].split('row review_table_row')\n    review_soup.pop(0)\n\n    for review in review_soup:\n        match = re.findall(review_pat, str(review))\n        if len(match) > 0:\n            m = match[0]            \n            for iden in ['<div class=\"the_review\" data-qa=\"review-text\"> ','</div>']:\n                m = m.replace(iden,'')\n            reviews.append(m.strip('\"'))            \n            # extract rating\n            match = re.findall(rating_pat, str(review))\n            if len(match) > 0:\n                m = match[0][0]\n                if '/1' in m:\n                    sp_m = m.split('/')\n                    if sp_m[-1] == '1':\n                        sp_m[-1] = '10'\n                    m = '/'.join(sp_m)\n                rating.append(m)\n            else:\n                rating.append(None)            \n            # extract fresh indicator\n            match = re.findall(fresh_pat, str(review))\n            if len(match) > 0:\n                fresh.append(match[0])\n            else:\n                fresh.append(None)            \n            # extract critic\n            match = re.findall(critic_pat, str(review))\n            if len(match) > 0:\n                critic.append(''.join(match[0]))\n            else:\n                critic.append(None)            \n            # check if top critic\n            if '> Top Critic<' in str(review):\n                top_critic.append(1)\n            else:\n                top_critic.append(0)            \n            # extract publisher\n            match = re.findall(publisher_pat, str(review))\n            if len(match) > 0:\n                m = match[0]\n                m = m.replace('\"subtle\">', '')\n                m = m.replace('</em>','')\n                publisher.append(m)\n            else:\n                publisher.append(None)            \n            # extract date\n            match = re.findall(date_pat, str(review))\n            if len(match) > 0:\n                date.append(match[0].strip('\"'))\n            else:\n                date.append(None)\n            \n    return [reviews, rating, fresh, critic, top_critic, publisher, date]\n\ndef _get_num_pages(soup):\n    match = re.findall(page_pat,str(list(soup)))\n    if len(match) > 0:\n        match = match[0]\n        match = match.split(' of ')[-1]\n        return match\n    else:\n        return None",
    "id": "86f10fc9d73f494b92c2cfddf43a204b",
    "idx": 1,
    "time": "2021-01-25T16:36:34.078Z",
    "type": "execution"
   },
   {
    "id": "86f10fc9d73f494b92c2cfddf43a204b",
    "time": "2021-01-25T16:36:34.165Z",
    "type": "completion"
   },
   {
    "code": "def get_critic_reviews(page):\n    info = [[],[],[],[],[],[],[]]\n    soup = _make_soup(page + \"reviews\")\n    pages = _get_num_pages(soup)    \n    if pages is not None:\n        for page_num in range(1,int(pages)+1):\n            soup = _make_soup(page + \"reviews?page=\" + str(page_num) + \"&sort=\")\n            c_info = _get_critic_reviews_from_page(soup)\n            \n            # accumulate review info\n            for i in range(len(c_info)):\n                info[i] = info[i] + c_info[i]\n        \n        c_info = dict()\n        keys = ['reviews', 'rating', 'fresh', 'critic', 'top_critic', 'publisher', 'date']\n        for k in range(len(keys)):\n            c_info[keys[k]] = info[k]        \n    else:\n        c_info = None        \n    return c_info",
    "id": "8e2d555ea9a54a3eb45e118bc3006d87",
    "idx": 2,
    "time": "2021-01-25T16:36:34.830Z",
    "type": "execution"
   },
   {
    "id": "8e2d555ea9a54a3eb45e118bc3006d87",
    "time": "2021-01-25T16:36:34.898Z",
    "type": "completion"
   },
   {
    "code": "#add more movies\nimport pandas as pd\n\nmovie_urls['Tenet'] = 'https://www.rottentomatoes.com/m/tenet'\nmovie_urls['Scoob'] = 'https://www.rottentomatoes.com/m/scoob'\nmovie_urls['The Marksman'] = 'https://www.rottentomatoes.com/m/the_marksman_2021'\nmovie_urls['Artemis Fowl'] = 'https://www.rottentomatoes.com/m/the_marksman_2021'\nmovie_urls['Lovebirds'] = 'https://www.rottentomatoes.com/m/the_lovebirds_2020'\n\nnewkeys = ['Tenet', 'Scoob', 'The Marksman', 'Artemis Fowl', 'Lovebirds']\ndfs = []\n\nfor key in newkeys:\n    print(movie_urls[key])\n    temp = get_critic_reviews(movie_urls[key])\n    df = pd.DataFrame.from_dict(temp)\n    df['Film'] = key\n    dfs.append(df)",
    "id": "22fa8e30b0f64b598b8acd6736da276a",
    "idx": 11,
    "time": "2021-01-25T16:36:47.045Z",
    "type": "execution"
   },
   {
    "id": "22fa8e30b0f64b598b8acd6736da276a",
    "time": "2021-01-25T16:36:47.674Z",
    "type": "completion"
   },
   {
    "code": "movie_urls = {'Wonder Woman 1984': 'https://www.rottentomatoes.com/m/wonder_woman_1984/', \n              'Soul':'https://www.rottentomatoes.com/m/soul_2020/', \n              'Mulan': 'https://www.rottentomatoes.com/m/mulan_2020/',\n              'Birds of Prey': 'https://www.rottentomatoes.com/m/birds_of_prey_2020/',\n              'Sonic': 'https://www.rottentomatoes.com/m/sonic_the_hedgehog_2020/'\n             }\nmovie_urls.keys()",
    "id": "ca47067600704db28d331a12c9536b11",
    "idx": 3,
    "time": "2021-01-25T16:36:53.406Z",
    "type": "execution"
   },
   {
    "id": "ca47067600704db28d331a12c9536b11",
    "time": "2021-01-25T16:36:53.481Z",
    "type": "completion"
   },
   {
    "code": "#add more movies\nimport pandas as pd\n\nmovie_urls['Tenet'] = 'https://www.rottentomatoes.com/m/tenet'\nmovie_urls['Scoob'] = 'https://www.rottentomatoes.com/m/scoob'\nmovie_urls['The Marksman'] = 'https://www.rottentomatoes.com/m/the_marksman_2021'\nmovie_urls['Artemis Fowl'] = 'https://www.rottentomatoes.com/m/the_marksman_2021'\nmovie_urls['Lovebirds'] = 'https://www.rottentomatoes.com/m/the_lovebirds_2020'\n\nnewkeys = ['Tenet', 'Scoob', 'The Marksman', 'Artemis Fowl', 'Lovebirds']\ndfs = []\n\nfor key in newkeys:\n    print(movie_urls[key])\n    temp = get_critic_reviews(movie_urls[key])\n    df = pd.DataFrame.from_dict(temp)\n    df['Film'] = key\n    dfs.append(df)",
    "id": "22fa8e30b0f64b598b8acd6736da276a",
    "idx": 11,
    "time": "2021-01-25T16:36:56.636Z",
    "type": "execution"
   },
   {
    "id": "22fa8e30b0f64b598b8acd6736da276a",
    "time": "2021-01-25T16:36:58.525Z",
    "type": "completion"
   },
   {
    "code": "dfs",
    "id": "9b5af4a1b7a7445cac3f9370f0090bbf",
    "idx": 12,
    "time": "2021-01-25T16:37:06.121Z",
    "type": "execution"
   },
   {
    "id": "9b5af4a1b7a7445cac3f9370f0090bbf",
    "time": "2021-01-25T16:37:06.211Z",
    "type": "completion"
   },
   {
    "code": "def get_critic_reviews(page):\n    info = [[],[],[],[],[],[],[]]\n    soup = _make_soup(page + \"reviews\")\n    print(soup)\n    pages = _get_num_pages(soup)    \n    if pages is not None:\n        for page_num in range(1,int(pages)+1):\n            soup = _make_soup(page + \"reviews?page=\" + str(page_num) + \"&sort=\")\n            c_info = _get_critic_reviews_from_page(soup)\n            \n            # accumulate review info\n            for i in range(len(c_info)):\n                info[i] = info[i] + c_info[i]\n        \n        c_info = dict()\n        keys = ['reviews', 'rating', 'fresh', 'critic', 'top_critic', 'publisher', 'date']\n        for k in range(len(keys)):\n            c_info[keys[k]] = info[k]        \n    else:\n        c_info = None        \n    return c_info",
    "id": "8e2d555ea9a54a3eb45e118bc3006d87",
    "idx": 2,
    "time": "2021-01-25T16:37:29.731Z",
    "type": "execution"
   },
   {
    "id": "8e2d555ea9a54a3eb45e118bc3006d87",
    "time": "2021-01-25T16:37:29.802Z",
    "type": "completion"
   },
   {
    "code": "#add more movies\nimport pandas as pd\n\nmovie_urls['Tenet'] = 'https://www.rottentomatoes.com/m/tenet'\nmovie_urls['Scoob'] = 'https://www.rottentomatoes.com/m/scoob'\nmovie_urls['The Marksman'] = 'https://www.rottentomatoes.com/m/the_marksman_2021'\nmovie_urls['Artemis Fowl'] = 'https://www.rottentomatoes.com/m/the_marksman_2021'\nmovie_urls['Lovebirds'] = 'https://www.rottentomatoes.com/m/the_lovebirds_2020'\n\nnewkeys = ['Tenet', 'Scoob', 'The Marksman', 'Artemis Fowl', 'Lovebirds']\ndfs = []\n\nfor key in newkeys:\n    print(movie_urls[key])\n    temp = get_critic_reviews(movie_urls[key])\n    df = pd.DataFrame.from_dict(temp)\n    df['Film'] = key\n    dfs.append(df)",
    "id": "22fa8e30b0f64b598b8acd6736da276a",
    "idx": 11,
    "time": "2021-01-25T16:37:33.285Z",
    "type": "execution"
   },
   {
    "id": "22fa8e30b0f64b598b8acd6736da276a",
    "time": "2021-01-25T16:37:37.343Z",
    "type": "completion"
   },
   {
    "code": "def get_critic_reviews(page):\n    info = [[],[],[],[],[],[],[]]\n    soup = _make_soup(page + \"reviews\")\n#     print(soup)\n    pages = _get_num_pages(soup)\n    print(pages)\n    if pages is not None:\n        for page_num in range(1,int(pages)+1):\n            soup = _make_soup(page + \"reviews?page=\" + str(page_num) + \"&sort=\")\n            c_info = _get_critic_reviews_from_page(soup)\n            \n            # accumulate review info\n            for i in range(len(c_info)):\n                info[i] = info[i] + c_info[i]\n        \n        c_info = dict()\n        keys = ['reviews', 'rating', 'fresh', 'critic', 'top_critic', 'publisher', 'date']\n        for k in range(len(keys)):\n            c_info[keys[k]] = info[k]        \n    else:\n        c_info = None        \n    return c_info",
    "id": "8e2d555ea9a54a3eb45e118bc3006d87",
    "idx": 2,
    "time": "2021-01-25T16:38:08.381Z",
    "type": "execution"
   },
   {
    "id": "8e2d555ea9a54a3eb45e118bc3006d87",
    "time": "2021-01-25T16:38:08.463Z",
    "type": "completion"
   },
   {
    "code": "#add more movies\nimport pandas as pd\n\nmovie_urls['Tenet'] = 'https://www.rottentomatoes.com/m/tenet'\nmovie_urls['Scoob'] = 'https://www.rottentomatoes.com/m/scoob'\nmovie_urls['The Marksman'] = 'https://www.rottentomatoes.com/m/the_marksman_2021'\nmovie_urls['Artemis Fowl'] = 'https://www.rottentomatoes.com/m/the_marksman_2021'\nmovie_urls['Lovebirds'] = 'https://www.rottentomatoes.com/m/the_lovebirds_2020'\n\nnewkeys = ['Tenet', 'Scoob', 'The Marksman', 'Artemis Fowl', 'Lovebirds']\ndfs = []\n\nfor key in newkeys:\n    print(movie_urls[key])\n    temp = get_critic_reviews(movie_urls[key])\n    df = pd.DataFrame.from_dict(temp)\n    df['Film'] = key\n    dfs.append(df)",
    "id": "22fa8e30b0f64b598b8acd6736da276a",
    "idx": 11,
    "time": "2021-01-25T16:38:13.734Z",
    "type": "execution"
   },
   {
    "id": "22fa8e30b0f64b598b8acd6736da276a",
    "time": "2021-01-25T16:38:16.429Z",
    "type": "completion"
   },
   {
    "code": "get_critic_reviews(movie_urls[\"Sonic\"])",
    "id": "9b5af4a1b7a7445cac3f9370f0090bbf",
    "idx": 12,
    "time": "2021-01-25T16:38:38.792Z",
    "type": "execution"
   },
   {
    "id": "9b5af4a1b7a7445cac3f9370f0090bbf",
    "time": "2021-01-25T16:38:52.063Z",
    "type": "completion"
   },
   {
    "code": "def get_critic_reviews(page):\n    info = [[],[],[],[],[],[],[]]\n    soup = _make_soup(page + \"reviews\")\n#     print(soup)\n    pages = _get_num_pages(soup)\n#     print(pages)\n    if pages is not None:\n        for page_num in range(1,int(pages)+1):\n            soup = _make_soup(page + \"reviews?page=\" + str(page_num) + \"&sort=\")\n            c_info = _get_critic_reviews_from_page(soup)\n            \n            # accumulate review info\n            for i in range(len(c_info)):\n                info[i] = info[i] + c_info[i]\n        \n        c_info = dict()\n        keys = ['reviews', 'rating', 'fresh', 'critic', 'top_critic', 'publisher', 'date']\n        for k in range(len(keys)):\n            c_info[keys[k]] = info[k]        \n    else:\n        c_info = None        \n    return c_info",
    "id": "8e2d555ea9a54a3eb45e118bc3006d87",
    "idx": 2,
    "time": "2021-01-25T16:39:43.666Z",
    "type": "execution"
   },
   {
    "id": "8e2d555ea9a54a3eb45e118bc3006d87",
    "time": "2021-01-25T16:39:43.753Z",
    "type": "completion"
   },
   {
    "code": "#add more movies\nimport pandas as pd\n\nmovie_urls['Tenet'] = 'https://www.rottentomatoes.com/m/tenet/'\nmovie_urls['Scoob'] = 'https://www.rottentomatoes.com/m/scoob/'\nmovie_urls['The Marksman'] = 'https://www.rottentomatoes.com/m/the_marksman_2021/'\nmovie_urls['Artemis Fowl'] = 'https://www.rottentomatoes.com/m/the_marksman_2021/'\nmovie_urls['Lovebirds'] = 'https://www.rottentomatoes.com/m/the_lovebirds_2020/'\n\nnewkeys = ['Tenet', 'Scoob', 'The Marksman', 'Artemis Fowl', 'Lovebirds']\ndfs = []\n\nfor key in newkeys:\n    print(movie_urls[key])\n    temp = get_critic_reviews(movie_urls[key])\n    df = pd.DataFrame.from_dict(temp)\n    df['Film'] = key\n    dfs.append(df)",
    "id": "22fa8e30b0f64b598b8acd6736da276a",
    "idx": 11,
    "time": "2021-01-25T16:39:47.308Z",
    "type": "execution"
   },
   {
    "code": "dfs",
    "id": "9b5af4a1b7a7445cac3f9370f0090bbf",
    "idx": 12,
    "time": "2021-01-25T16:39:51.046Z",
    "type": "execution"
   },
   {
    "id": "22fa8e30b0f64b598b8acd6736da276a",
    "time": "2021-01-25T16:40:39.261Z",
    "type": "completion"
   },
   {
    "id": "9b5af4a1b7a7445cac3f9370f0090bbf",
    "time": "2021-01-25T16:40:39.323Z",
    "type": "completion"
   },
   {
    "code": "new_films = pd.concat(dfs)\nnew_films",
    "id": "9b5af4a1b7a7445cac3f9370f0090bbf",
    "idx": 12,
    "time": "2021-01-25T16:46:35.036Z",
    "type": "execution"
   },
   {
    "id": "9b5af4a1b7a7445cac3f9370f0090bbf",
    "time": "2021-01-25T16:46:35.155Z",
    "type": "completion"
   },
   {
    "code": "import matplotlib.pyplot as plt\n\nfor key in newkeys:\n#     pd.to_numeric(df.Subs).plot.line()\n    df = new_films[new_films==key]\n    plt.plot(calculate_score(key), label=key)\n#     plt.plot(np.arange(len(df.index)), pd.to_numeric(df.Total).pct_change(), label = df.Name.values[0], color = colors[i])\n#     plt.axvline(x=30, color='red', linestyle='dashed',linewidth=0.5)\n    plt.ylabel('Percent Change in Subscribers by Day')\n    plt.xlabel(\"Day (0 is 1 month before Content Cop's release)\")\n    plt.legend()",
    "id": "768287d1dd5b4a3c813d1579a31b214e",
    "idx": 13,
    "time": "2021-01-25T16:47:06.094Z",
    "type": "execution"
   },
   {
    "id": "768287d1dd5b4a3c813d1579a31b214e",
    "time": "2021-01-25T16:47:06.496Z",
    "type": "completion"
   },
   {
    "code": "all_films",
    "id": "cb7d4c021a974c90ad1b658312c5d12a",
    "idx": 14,
    "time": "2021-01-25T16:47:30.137Z",
    "type": "execution"
   },
   {
    "id": "cb7d4c021a974c90ad1b658312c5d12a",
    "time": "2021-01-25T16:47:30.229Z",
    "type": "completion"
   },
   {
    "code": "import numpy as np\n\n\ndef calculate_score(film, frame):\n    df = frame[frame['Film'] == film]\n    grouped_1 = df[['date', 'score']].groupby('date').agg([sum, 'count'])\n    grouped_1.columns = grouped_1.columns.droplevel(0)\n    return grouped_1.cumsum()['sum']/grouped_1.cumsum()['count']\n\ncalculate_score(\"Wonder Woman 1984\")",
    "id": "b7543fc5990140e28811654f3dba74af",
    "idx": 8,
    "time": "2021-01-25T16:47:54.048Z",
    "type": "execution"
   },
   {
    "id": "b7543fc5990140e28811654f3dba74af",
    "time": "2021-01-25T16:47:54.143Z",
    "type": "completion"
   },
   {
    "code": "import matplotlib.pyplot as plt\n\nfor key in newkeys:\n#     pd.to_numeric(df.Subs).plot.line()\n    df = new_films[new_films==key]\n    plt.plot(calculate_score(key, new_films), label=key)\n#     plt.plot(np.arange(len(df.index)), pd.to_numeric(df.Total).pct_change(), label = df.Name.values[0], color = colors[i])\n#     plt.axvline(x=30, color='red', linestyle='dashed',linewidth=0.5)\n    plt.ylabel('Percent Change in Subscribers by Day')\n    plt.xlabel(\"Day (0 is 1 month before Content Cop's release)\")\n    plt.legend()",
    "id": "768287d1dd5b4a3c813d1579a31b214e",
    "idx": 13,
    "time": "2021-01-25T16:48:02.482Z",
    "type": "execution"
   },
   {
    "id": "768287d1dd5b4a3c813d1579a31b214e",
    "time": "2021-01-25T16:48:02.628Z",
    "type": "completion"
   },
   {
    "code": "new_films['score'] = new_films['fresh'].apply(lambda x: 1 if x == 'fresh' else 0)\nnew_films",
    "id": "f25df37cb47345e5ae1ead72417b9cbd",
    "idx": 13,
    "time": "2021-01-25T16:48:51.174Z",
    "type": "execution"
   },
   {
    "id": "f25df37cb47345e5ae1ead72417b9cbd",
    "time": "2021-01-25T16:48:51.281Z",
    "type": "completion"
   },
   {
    "code": "import matplotlib.pyplot as plt\n\nfor key in newkeys:\n#     pd.to_numeric(df.Subs).plot.line()\n    df = new_films[new_films==key]\n    plt.plot(calculate_score(key, new_films), label=key)\n#     plt.plot(np.arange(len(df.index)), pd.to_numeric(df.Total).pct_change(), label = df.Name.values[0], color = colors[i])\n#     plt.axvline(x=30, color='red', linestyle='dashed',linewidth=0.5)\n    plt.ylabel('Percent Change in Subscribers by Day')\n    plt.xlabel(\"Day (0 is 1 month before Content Cop's release)\")\n    plt.legend()",
    "id": "768287d1dd5b4a3c813d1579a31b214e",
    "idx": 14,
    "time": "2021-01-25T16:48:55.915Z",
    "type": "execution"
   },
   {
    "id": "768287d1dd5b4a3c813d1579a31b214e",
    "time": "2021-01-25T16:48:58.159Z",
    "type": "completion"
   },
   {
    "code": "new_films['date'] = pd.to_datetime(new_films['date'], format=\"%B %d, %Y\")\nnew_films = new_films.sort_values('date')",
    "id": "28d1a83a910348ba8934a7819639d756",
    "idx": 14,
    "time": "2021-01-25T16:49:56.207Z",
    "type": "execution"
   },
   {
    "id": "28d1a83a910348ba8934a7819639d756",
    "time": "2021-01-25T16:49:56.284Z",
    "type": "completion"
   },
   {
    "code": "import matplotlib.pyplot as plt\n\nfor key in newkeys:\n#     pd.to_numeric(df.Subs).plot.line()\n    df = new_films[new_films==key]\n    plt.plot(calculate_score(key, new_films), label=key)\n#     plt.plot(np.arange(len(df.index)), pd.to_numeric(df.Total).pct_change(), label = df.Name.values[0], color = colors[i])\n#     plt.axvline(x=30, color='red', linestyle='dashed',linewidth=0.5)\n    plt.ylabel('Percent Change in Subscribers by Day')\n    plt.xlabel(\"Day (0 is 1 month before Content Cop's release)\")\n    plt.legend()",
    "id": "768287d1dd5b4a3c813d1579a31b214e",
    "idx": 15,
    "time": "2021-01-25T16:49:56.802Z",
    "type": "execution"
   },
   {
    "id": "768287d1dd5b4a3c813d1579a31b214e",
    "time": "2021-01-25T16:49:57.341Z",
    "type": "completion"
   },
   {
    "code": "new_films",
    "id": "557b1997b7eb45ad88a2c779fa6d30a3",
    "idx": 15,
    "time": "2021-01-25T16:50:17.436Z",
    "type": "execution"
   },
   {
    "id": "557b1997b7eb45ad88a2c779fa6d30a3",
    "time": "2021-01-25T16:50:17.528Z",
    "type": "completion"
   },
   {
    "code": "all_films = pd.read_csv(\"all_films.csv\")\nall_films",
    "id": "cb7d4c021a974c90ad1b658312c5d12a",
    "idx": 17,
    "time": "2021-01-25T16:50:46.392Z",
    "type": "execution"
   },
   {
    "id": "cb7d4c021a974c90ad1b658312c5d12a",
    "time": "2021-01-25T16:50:46.521Z",
    "type": "completion"
   },
   {
    "code": "pd.concat(all_films, new_films)",
    "id": "0e8ce1f74d87429e8734ed645fc4ad98",
    "idx": 18,
    "time": "2021-01-25T16:50:54.950Z",
    "type": "execution"
   },
   {
    "id": "0e8ce1f74d87429e8734ed645fc4ad98",
    "time": "2021-01-25T16:50:55.034Z",
    "type": "completion"
   },
   {
    "code": "pd.concat([all_films, new_films])",
    "id": "0e8ce1f74d87429e8734ed645fc4ad98",
    "idx": 18,
    "time": "2021-01-25T16:51:04.058Z",
    "type": "execution"
   },
   {
    "id": "0e8ce1f74d87429e8734ed645fc4ad98",
    "time": "2021-01-25T16:51:04.168Z",
    "type": "completion"
   },
   {
    "code": "all_films = pd.concat([all_films, new_films])",
    "id": "0e8ce1f74d87429e8734ed645fc4ad98",
    "idx": 18,
    "time": "2021-01-25T16:51:10.672Z",
    "type": "execution"
   },
   {
    "id": "0e8ce1f74d87429e8734ed645fc4ad98",
    "time": "2021-01-25T16:51:10.747Z",
    "type": "completion"
   },
   {
    "code": "for key in movie_urls.keys():\n#     pd.to_numeric(df.Subs).plot.line()\n    df = all_films[all_films==key]\n    plt.plot(calculate_score(key, all_films), label=key)\n#     plt.plot(np.arange(len(df.index)), pd.to_numeric(df.Total).pct_change(), label = df.Name.values[0], color = colors[i])\n#     plt.axvline(x=30, color='red', linestyle='dashed',linewidth=0.5)\n    plt.ylabel('Percent Change in Subscribers by Day')\n    plt.xlabel(\"Day (0 is 1 month before Content Cop's release)\")\n    plt.legend()\n# plt.annotate('Content Cop released', xy=(30, 0.015), ha='center', size=10)\n# plt.title('The Impact of Content Cop')\n# plt.savefig('pct_cc.svg')",
    "id": "38b87d872cee42608a2da2aae2a0d985",
    "idx": 19,
    "time": "2021-01-25T16:51:34.324Z",
    "type": "execution"
   },
   {
    "id": "38b87d872cee42608a2da2aae2a0d985",
    "time": "2021-01-25T16:51:34.736Z",
    "type": "completion"
   },
   {
    "code": "all_films['date'] = pd.to_datetime(all_films['date'], format=\"%B %d, %Y\")\nall_films = all_films.sort_values('date')",
    "id": "9a24c85940a04b4f89db22e13764af47",
    "idx": 19,
    "time": "2021-01-25T16:52:10.504Z",
    "type": "execution"
   },
   {
    "id": "9a24c85940a04b4f89db22e13764af47",
    "time": "2021-01-25T16:52:10.686Z",
    "type": "completion"
   },
   {
    "code": "for key in movie_urls.keys():\n#     pd.to_numeric(df.Subs).plot.line()\n    df = all_films[all_films==key]\n    plt.plot(calculate_score(key, all_films), label=key)\n#     plt.plot(np.arange(len(df.index)), pd.to_numeric(df.Total).pct_change(), label = df.Name.values[0], color = colors[i])\n#     plt.axvline(x=30, color='red', linestyle='dashed',linewidth=0.5)\n    plt.ylabel('Percent Change in Subscribers by Day')\n    plt.xlabel(\"Day (0 is 1 month before Content Cop's release)\")\n    plt.legend()\n# plt.annotate('Content Cop released', xy=(30, 0.015), ha='center', size=10)\n# plt.title('The Impact of Content Cop')\n# plt.savefig('pct_cc.svg')",
    "id": "38b87d872cee42608a2da2aae2a0d985",
    "idx": 20,
    "time": "2021-01-25T16:52:11.426Z",
    "type": "execution"
   },
   {
    "id": "38b87d872cee42608a2da2aae2a0d985",
    "time": "2021-01-25T16:52:11.914Z",
    "type": "completion"
   },
   {
    "code": "all_films['date'] = pd.to_datetime(all_films['date'])\nall_films = all_films.sort_values('date')",
    "id": "9a24c85940a04b4f89db22e13764af47",
    "idx": 19,
    "time": "2021-01-25T16:52:53.629Z",
    "type": "execution"
   },
   {
    "id": "9a24c85940a04b4f89db22e13764af47",
    "time": "2021-01-25T16:52:53.704Z",
    "type": "completion"
   },
   {
    "code": "for key in movie_urls.keys():\n#     pd.to_numeric(df.Subs).plot.line()\n    df = all_films[all_films==key]\n    plt.plot(calculate_score(key, all_films), label=key)\n#     plt.plot(np.arange(len(df.index)), pd.to_numeric(df.Total).pct_change(), label = df.Name.values[0], color = colors[i])\n#     plt.axvline(x=30, color='red', linestyle='dashed',linewidth=0.5)\n    plt.ylabel('Percent Change in Subscribers by Day')\n    plt.xlabel(\"Day (0 is 1 month before Content Cop's release)\")\n    plt.legend()\n# plt.annotate('Content Cop released', xy=(30, 0.015), ha='center', size=10)\n# plt.title('The Impact of Content Cop')\n# plt.savefig('pct_cc.svg')",
    "id": "38b87d872cee42608a2da2aae2a0d985",
    "idx": 20,
    "time": "2021-01-25T16:52:55.815Z",
    "type": "execution"
   },
   {
    "id": "38b87d872cee42608a2da2aae2a0d985",
    "time": "2021-01-25T16:52:56.442Z",
    "type": "completion"
   },
   {
    "code": "calculate_score(\"Lovebirds\",all_films)",
    "id": "8c3d3fca7294407980c1e709032f69b3",
    "idx": 21,
    "time": "2021-01-25T16:53:43.200Z",
    "type": "execution"
   },
   {
    "id": "8c3d3fca7294407980c1e709032f69b3",
    "time": "2021-01-25T16:53:43.296Z",
    "type": "completion"
   },
   {
    "code": "dfs",
    "id": "c5a30e54c362450e8ae6e35bce30ecab",
    "idx": 22,
    "time": "2021-01-25T16:54:09.357Z",
    "type": "execution"
   },
   {
    "id": "c5a30e54c362450e8ae6e35bce30ecab",
    "time": "2021-01-25T16:54:09.532Z",
    "type": "completion"
   },
   {
    "code": "calculate_score(\"Artemis Fowl\",all_films)",
    "id": "8c3d3fca7294407980c1e709032f69b3",
    "idx": 21,
    "time": "2021-01-25T16:54:27.122Z",
    "type": "execution"
   },
   {
    "id": "8c3d3fca7294407980c1e709032f69b3",
    "time": "2021-01-25T16:54:27.215Z",
    "type": "completion"
   },
   {
    "code": "calculate_score(\"Artemis Fowl\",all_films).plot()",
    "id": "8c3d3fca7294407980c1e709032f69b3",
    "idx": 21,
    "time": "2021-01-25T16:54:38.001Z",
    "type": "execution"
   },
   {
    "id": "8c3d3fca7294407980c1e709032f69b3",
    "time": "2021-01-25T16:54:38.415Z",
    "type": "completion"
   },
   {
    "code": "#add more movies\nimport pandas as pd\n\nmovie_urls['Tenet'] = 'https://www.rottentomatoes.com/m/tenet/'\nmovie_urls['Scoob'] = 'https://www.rottentomatoes.com/m/scoob/'\nmovie_urls['The Marksman'] = 'https://www.rottentomatoes.com/m/the_marksman_2021/'\nmovie_urls['Artemis Fowl'] = 'https://www.rottentomatoes.com/m/artemis_fowl/'\nmovie_urls['Lovebirds'] = 'https://www.rottentomatoes.com/m/the_lovebirds_2020/'\n\nnewkeys = ['Tenet', 'Scoob', 'The Marksman', 'Artemis Fowl', 'Lovebirds']\ndfs = []\n\nfor key in newkeys:\n    print(movie_urls[key])\n    temp = get_critic_reviews(movie_urls[key])\n    df = pd.DataFrame.from_dict(temp)\n    df['Film'] = key\n    dfs.append(df)",
    "id": "22fa8e30b0f64b598b8acd6736da276a",
    "idx": 11,
    "time": "2021-01-25T16:55:27.487Z",
    "type": "execution"
   },
   {
    "code": "new_films = pd.concat(dfs)\nnew_films",
    "id": "9b5af4a1b7a7445cac3f9370f0090bbf",
    "idx": 12,
    "time": "2021-01-25T16:55:27.650Z",
    "type": "execution"
   },
   {
    "code": "new_films['score'] = new_films['fresh'].apply(lambda x: 1 if x == 'fresh' else 0)\nnew_films",
    "id": "f25df37cb47345e5ae1ead72417b9cbd",
    "idx": 13,
    "time": "2021-01-25T16:55:27.835Z",
    "type": "execution"
   },
   {
    "code": "new_films['date'] = pd.to_datetime(new_films['date'], format=\"%B %d, %Y\")\nnew_films = new_films.sort_values('date')",
    "id": "28d1a83a910348ba8934a7819639d756",
    "idx": 14,
    "time": "2021-01-25T16:55:28.030Z",
    "type": "execution"
   },
   {
    "code": "new_films",
    "id": "557b1997b7eb45ad88a2c779fa6d30a3",
    "idx": 15,
    "time": "2021-01-25T16:55:28.238Z",
    "type": "execution"
   },
   {
    "code": "import matplotlib.pyplot as plt\n\nfor key in newkeys:\n#     pd.to_numeric(df.Subs).plot.line()\n    df = new_films[new_films==key]\n    plt.plot(calculate_score(key, new_films), label=key)\n#     plt.plot(np.arange(len(df.index)), pd.to_numeric(df.Total).pct_change(), label = df.Name.values[0], color = colors[i])\n#     plt.axvline(x=30, color='red', linestyle='dashed',linewidth=0.5)\n    plt.ylabel('Percent Change in Subscribers by Day')\n    plt.xlabel(\"Day (0 is 1 month before Content Cop's release)\")\n    plt.legend()",
    "id": "768287d1dd5b4a3c813d1579a31b214e",
    "idx": 16,
    "time": "2021-01-25T16:55:28.802Z",
    "type": "execution"
   },
   {
    "code": "all_films = pd.read_csv(\"all_films.csv\")\nall_films",
    "id": "cb7d4c021a974c90ad1b658312c5d12a",
    "idx": 17,
    "time": "2021-01-25T16:55:30.535Z",
    "type": "execution"
   },
   {
    "code": "all_films = pd.concat([all_films, new_films])",
    "id": "0e8ce1f74d87429e8734ed645fc4ad98",
    "idx": 18,
    "time": "2021-01-25T16:55:30.815Z",
    "type": "execution"
   },
   {
    "code": "all_films['date'] = pd.to_datetime(all_films['date'])\nall_films = all_films.sort_values('date')",
    "id": "9a24c85940a04b4f89db22e13764af47",
    "idx": 19,
    "time": "2021-01-25T16:55:31.294Z",
    "type": "execution"
   },
   {
    "code": "for key in movie_urls.keys():\n#     pd.to_numeric(df.Subs).plot.line()\n    df = all_films[all_films==key]\n    plt.plot(calculate_score(key, all_films), label=key)\n#     plt.plot(np.arange(len(df.index)), pd.to_numeric(df.Total).pct_change(), label = df.Name.values[0], color = colors[i])\n#     plt.axvline(x=30, color='red', linestyle='dashed',linewidth=0.5)\n    plt.ylabel('Percent Change in Subscribers by Day')\n    plt.xlabel(\"Day (0 is 1 month before Content Cop's release)\")\n    plt.legend()\n# plt.annotate('Content Cop released', xy=(30, 0.015), ha='center', size=10)\n# plt.title('The Impact of Content Cop')\n# plt.savefig('pct_cc.svg')",
    "id": "38b87d872cee42608a2da2aae2a0d985",
    "idx": 20,
    "time": "2021-01-25T16:55:31.879Z",
    "type": "execution"
   },
   {
    "code": "calculate_score(\"Artemis Fowl\",all_films).plot()",
    "id": "8c3d3fca7294407980c1e709032f69b3",
    "idx": 21,
    "time": "2021-01-25T16:55:34.391Z",
    "type": "execution"
   },
   {
    "id": "22fa8e30b0f64b598b8acd6736da276a",
    "time": "2021-01-25T16:56:13.940Z",
    "type": "completion"
   },
   {
    "id": "9b5af4a1b7a7445cac3f9370f0090bbf",
    "time": "2021-01-25T16:56:14.001Z",
    "type": "completion"
   },
   {
    "id": "f25df37cb47345e5ae1ead72417b9cbd",
    "time": "2021-01-25T16:56:14.005Z",
    "type": "completion"
   },
   {
    "id": "28d1a83a910348ba8934a7819639d756",
    "time": "2021-01-25T16:56:14.022Z",
    "type": "completion"
   },
   {
    "id": "557b1997b7eb45ad88a2c779fa6d30a3",
    "time": "2021-01-25T16:56:14.031Z",
    "type": "completion"
   },
   {
    "id": "768287d1dd5b4a3c813d1579a31b214e",
    "time": "2021-01-25T16:56:14.431Z",
    "type": "completion"
   },
   {
    "id": "cb7d4c021a974c90ad1b658312c5d12a",
    "time": "2021-01-25T16:56:14.435Z",
    "type": "completion"
   },
   {
    "id": "0e8ce1f74d87429e8734ed645fc4ad98",
    "time": "2021-01-25T16:56:14.436Z",
    "type": "completion"
   },
   {
    "id": "9a24c85940a04b4f89db22e13764af47",
    "time": "2021-01-25T16:56:14.444Z",
    "type": "completion"
   },
   {
    "id": "38b87d872cee42608a2da2aae2a0d985",
    "time": "2021-01-25T16:56:14.986Z",
    "type": "completion"
   },
   {
    "id": "8c3d3fca7294407980c1e709032f69b3",
    "time": "2021-01-25T16:56:15.135Z",
    "type": "completion"
   },
   {
    "code": "calculate_score(\"Wonder Woman 1984\",all_films).plot()",
    "id": "c5a30e54c362450e8ae6e35bce30ecab",
    "idx": 22,
    "time": "2021-01-25T16:58:10.714Z",
    "type": "execution"
   },
   {
    "id": "c5a30e54c362450e8ae6e35bce30ecab",
    "time": "2021-01-25T16:58:11.228Z",
    "type": "completion"
   },
   {
    "code": "calculate_score(\"Mulan\",all_films).plot()",
    "id": "f621f1fe85de4ece889fcb42a4c9be45",
    "idx": 23,
    "time": "2021-01-25T16:58:34.649Z",
    "type": "execution"
   },
   {
    "id": "f621f1fe85de4ece889fcb42a4c9be45",
    "time": "2021-01-25T16:58:35.082Z",
    "type": "completion"
   },
   {
    "code": "calculate_score(\"Tenet\",all_films).plot()",
    "id": "9aa215e710244e988e051ae025606f59",
    "idx": 24,
    "time": "2021-01-25T16:58:40.851Z",
    "type": "execution"
   },
   {
    "id": "9aa215e710244e988e051ae025606f59",
    "time": "2021-01-25T16:58:41.178Z",
    "type": "completion"
   },
   {
    "code": "calculate_score(\"Birds of Prey\",all_films).plot()",
    "id": "f164a2c26f3941c68aea5f9bfc3468ed",
    "idx": 25,
    "time": "2021-01-25T17:00:48.750Z",
    "type": "execution"
   },
   {
    "id": "f164a2c26f3941c68aea5f9bfc3468ed",
    "time": "2021-01-25T17:00:49.186Z",
    "type": "completion"
   },
   {
    "code": "calculate_score(\"Lovebirds\",all_films).plot()",
    "id": "f164a2c26f3941c68aea5f9bfc3468ed",
    "idx": 25,
    "time": "2021-01-25T17:01:23.937Z",
    "type": "execution"
   },
   {
    "id": "f164a2c26f3941c68aea5f9bfc3468ed",
    "time": "2021-01-25T17:01:24.287Z",
    "type": "completion"
   },
   {
    "code": "def plot_film(film):\n    df = all_films[all_films==film]\n    plt.plot(calculate_score(film, all_films))\n    plt.axhline(y=0.75, color='yellow', linestyle='dashed',linewidth=0.5)\n    plt.axhline(y=0.6, color='red', linestyle='dashed',linewidth=0.5)",
    "id": "a939598316054d528c40aab130b5481c",
    "idx": 21,
    "time": "2021-01-25T17:04:03.192Z",
    "type": "execution"
   },
   {
    "id": "a939598316054d528c40aab130b5481c",
    "time": "2021-01-25T17:04:03.263Z",
    "type": "completion"
   },
   {
    "code": "# calculate_score(\"Artemis Fowl\",all_films).plot()\nplot_film(\"Artemis Fowl\")",
    "id": "8c3d3fca7294407980c1e709032f69b3",
    "idx": 22,
    "time": "2021-01-25T17:04:16.689Z",
    "type": "execution"
   },
   {
    "id": "8c3d3fca7294407980c1e709032f69b3",
    "time": "2021-01-25T17:04:17.342Z",
    "type": "completion"
   },
   {
    "code": "calculate_score(\"Artemis Fowl\",all_films)\n# plot_film(\"Artemis Fowl\")",
    "id": "8c3d3fca7294407980c1e709032f69b3",
    "idx": 22,
    "time": "2021-01-25T17:05:33.826Z",
    "type": "execution"
   },
   {
    "id": "8c3d3fca7294407980c1e709032f69b3",
    "time": "2021-01-25T17:05:33.916Z",
    "type": "completion"
   },
   {
    "code": "calculate_score(\"Artemis Fowl\",all_films).max()\n# plot_film(\"Artemis Fowl\")",
    "id": "8c3d3fca7294407980c1e709032f69b3",
    "idx": 22,
    "time": "2021-01-25T17:06:41.263Z",
    "type": "execution"
   },
   {
    "id": "8c3d3fca7294407980c1e709032f69b3",
    "time": "2021-01-25T17:06:41.348Z",
    "type": "completion"
   },
   {
    "code": "calculate_score(\"Artemis Fowl\",all_films).min()\n# plot_film(\"Artemis Fowl\")",
    "id": "8c3d3fca7294407980c1e709032f69b3",
    "idx": 22,
    "time": "2021-01-25T17:06:44.272Z",
    "type": "execution"
   },
   {
    "id": "8c3d3fca7294407980c1e709032f69b3",
    "time": "2021-01-25T17:06:44.354Z",
    "type": "completion"
   },
   {
    "code": "calculate_score(\"Artemis Fowl\",all_films)\n# plot_film(\"Artemis Fowl\")",
    "id": "8c3d3fca7294407980c1e709032f69b3",
    "idx": 22,
    "time": "2021-01-25T17:06:50.551Z",
    "type": "execution"
   },
   {
    "id": "8c3d3fca7294407980c1e709032f69b3",
    "time": "2021-01-25T17:06:50.647Z",
    "type": "completion"
   },
   {
    "code": "def plot_film(film):\n    df = all_films[all_films==film]\n    series = calculate_score(film, all_films)\n    plt.plot(series)\n    plt.axhline(y=0.75, color='yellow', linestyle='dashed',linewidth=0.5)\n    plt.axhline(y=0.6, color='red', linestyle='dashed',linewidth=0.5)\n    plt.ylim(series.min(), series.max())",
    "id": "a939598316054d528c40aab130b5481c",
    "idx": 21,
    "time": "2021-01-25T17:07:23.892Z",
    "type": "execution"
   },
   {
    "id": "a939598316054d528c40aab130b5481c",
    "time": "2021-01-25T17:07:23.962Z",
    "type": "completion"
   },
   {
    "code": "calculate_score(\"Artemis Fowl\",all_films)\n# plot_film(\"Artemis Fowl\")",
    "id": "8c3d3fca7294407980c1e709032f69b3",
    "idx": 22,
    "time": "2021-01-25T17:07:24.639Z",
    "type": "execution"
   },
   {
    "id": "8c3d3fca7294407980c1e709032f69b3",
    "time": "2021-01-25T17:07:24.731Z",
    "type": "completion"
   },
   {
    "code": "# calculate_score(\"Artemis Fowl\",all_films)\nplot_film(\"Artemis Fowl\")",
    "id": "8c3d3fca7294407980c1e709032f69b3",
    "idx": 22,
    "time": "2021-01-25T17:07:29.976Z",
    "type": "execution"
   },
   {
    "id": "8c3d3fca7294407980c1e709032f69b3",
    "time": "2021-01-25T17:07:30.443Z",
    "type": "completion"
   },
   {
    "code": "# calculate_score(\"Wonder Woman 1984\",all_films).plot()\nplot_film(\"Wonder Woman 1984\")",
    "id": "c5a30e54c362450e8ae6e35bce30ecab",
    "idx": 23,
    "time": "2021-01-25T17:07:43.538Z",
    "type": "execution"
   },
   {
    "id": "c5a30e54c362450e8ae6e35bce30ecab",
    "time": "2021-01-25T17:07:43.878Z",
    "type": "completion"
   },
   {
    "code": "# calculate_score(\"Mulan\",all_films).plot()\nplot_film(\"Mulan\")",
    "id": "f621f1fe85de4ece889fcb42a4c9be45",
    "idx": 24,
    "time": "2021-01-25T17:09:14.444Z",
    "type": "execution"
   },
   {
    "id": "f621f1fe85de4ece889fcb42a4c9be45",
    "time": "2021-01-25T17:09:14.799Z",
    "type": "completion"
   },
   {
    "code": "# calculate_score(\"Tenet\",all_films).plot()\nplot_film(\"Tenet\")",
    "id": "9aa215e710244e988e051ae025606f59",
    "idx": 25,
    "time": "2021-01-25T17:09:22.942Z",
    "type": "execution"
   },
   {
    "id": "9aa215e710244e988e051ae025606f59",
    "time": "2021-01-25T17:09:23.252Z",
    "type": "completion"
   },
   {
    "code": "def plot_film(film):\n    df = all_films[all_films==film]\n    series = calculate_score(film, all_films)\n    plt.plot(series)\n#     plt.axhline(y=0.75, color='yellow', linestyle='dashed',linewidth=0.5)\n#     plt.axhline(y=0.6, color='red', linestyle='dashed',linewidth=0.5)\n    ax.axhspan(0.75, 1, alpha=0.5, color='green')\n    ax.axhspan(0.6,75, alpha=0.5, color='yellow')\n    ax.axhspan(0, 0.6, alpha=0.5, color='red')\n    plt.ylim(series.min(), series.max())",
    "id": "a939598316054d528c40aab130b5481c",
    "idx": 21,
    "time": "2021-01-25T17:13:19.201Z",
    "type": "execution"
   },
   {
    "id": "a939598316054d528c40aab130b5481c",
    "time": "2021-01-25T17:13:19.293Z",
    "type": "completion"
   },
   {
    "code": "# calculate_score(\"Artemis Fowl\",all_films)\nplot_film(\"Artemis Fowl\")",
    "id": "8c3d3fca7294407980c1e709032f69b3",
    "idx": 22,
    "time": "2021-01-25T17:13:20.080Z",
    "type": "execution"
   },
   {
    "id": "8c3d3fca7294407980c1e709032f69b3",
    "time": "2021-01-25T17:13:20.413Z",
    "type": "completion"
   },
   {
    "code": "def plot_film(film):\n    df = all_films[all_films==film]\n    series = calculate_score(film, all_films)\n    plt.plot(series)\n#     plt.axhline(y=0.75, color='yellow', linestyle='dashed',linewidth=0.5)\n#     plt.axhline(y=0.6, color='red', linestyle='dashed',linewidth=0.5)\n    plt.axhspan(0.75, 1, alpha=0.5, color='green')\n    plt.axhspan(0.6,75, alpha=0.5, color='yellow')\n    plt.axhspan(0, 0.6, alpha=0.5, color='red')\n    plt.ylim(series.min(), series.max())",
    "id": "a939598316054d528c40aab130b5481c",
    "idx": 21,
    "time": "2021-01-25T17:13:28.829Z",
    "type": "execution"
   },
   {
    "id": "a939598316054d528c40aab130b5481c",
    "time": "2021-01-25T17:13:28.898Z",
    "type": "completion"
   },
   {
    "code": "# calculate_score(\"Artemis Fowl\",all_films)\nplot_film(\"Artemis Fowl\")",
    "id": "8c3d3fca7294407980c1e709032f69b3",
    "idx": 22,
    "time": "2021-01-25T17:13:29.360Z",
    "type": "execution"
   },
   {
    "id": "8c3d3fca7294407980c1e709032f69b3",
    "time": "2021-01-25T17:13:29.747Z",
    "type": "completion"
   },
   {
    "code": "# calculate_score(\"Wonder Woman 1984\",all_films).plot()\nplot_film(\"Wonder Woman 1984\")",
    "id": "c5a30e54c362450e8ae6e35bce30ecab",
    "idx": 23,
    "time": "2021-01-25T17:13:32.823Z",
    "type": "execution"
   },
   {
    "id": "c5a30e54c362450e8ae6e35bce30ecab",
    "time": "2021-01-25T17:13:33.152Z",
    "type": "completion"
   },
   {
    "code": "def plot_film(film):\n    df = all_films[all_films==film]\n    series = calculate_score(film, all_films)\n    plt.plot(series)\n    plt.axhline(y=0.75, color='yellow', linestyle='dashed',linewidth=0.5)\n    plt.axhline(y=0.6, color='red', linestyle='dashed',linewidth=0.5)\n    plt.axhspan(0.75, 1, alpha=0.5, color='green')\n    plt.axhspan(0.6,75, alpha=0.5, color='yellow')\n    plt.axhspan(0, 0.6, alpha=0.5, color='red')\n    plt.ylim(series.min(), series.max())",
    "id": "a939598316054d528c40aab130b5481c",
    "idx": 21,
    "time": "2021-01-25T17:14:05.655Z",
    "type": "execution"
   },
   {
    "id": "a939598316054d528c40aab130b5481c",
    "time": "2021-01-25T17:14:05.735Z",
    "type": "completion"
   },
   {
    "code": "# calculate_score(\"Artemis Fowl\",all_films)\nplot_film(\"Artemis Fowl\")",
    "id": "8c3d3fca7294407980c1e709032f69b3",
    "idx": 22,
    "time": "2021-01-25T17:14:06.083Z",
    "type": "execution"
   },
   {
    "id": "8c3d3fca7294407980c1e709032f69b3",
    "time": "2021-01-25T17:14:06.546Z",
    "type": "completion"
   },
   {
    "code": "# calculate_score(\"Wonder Woman 1984\",all_films).plot()\nplot_film(\"Wonder Woman 1984\")",
    "id": "c5a30e54c362450e8ae6e35bce30ecab",
    "idx": 23,
    "time": "2021-01-25T17:14:06.551Z",
    "type": "execution"
   },
   {
    "id": "c5a30e54c362450e8ae6e35bce30ecab",
    "time": "2021-01-25T17:14:06.896Z",
    "type": "completion"
   },
   {
    "code": "def plot_film(film):\n    df = all_films[all_films==film]\n    series = calculate_score(film, all_films)    \n    plt.axhline(y=0.75, color='yellow', linestyle='dashed',linewidth=0.5)\n    plt.axhline(y=0.6, color='red', linestyle='dashed',linewidth=0.5)\n    plt.axhspan(0.75, 1, alpha=0.5, color='green')\n    plt.axhspan(0.6,75, alpha=0.5, color='yellow')\n    plt.axhspan(0, 0.6, alpha=0.5, color='red')\n    plt.plot(series)\n    plt.ylim(series.min(), series.max())",
    "id": "a939598316054d528c40aab130b5481c",
    "idx": 21,
    "time": "2021-01-25T17:14:21.050Z",
    "type": "execution"
   },
   {
    "id": "a939598316054d528c40aab130b5481c",
    "time": "2021-01-25T17:14:21.143Z",
    "type": "completion"
   },
   {
    "code": "# calculate_score(\"Artemis Fowl\",all_films)\nplot_film(\"Artemis Fowl\")",
    "id": "8c3d3fca7294407980c1e709032f69b3",
    "idx": 22,
    "time": "2021-01-25T17:14:21.438Z",
    "type": "execution"
   },
   {
    "id": "8c3d3fca7294407980c1e709032f69b3",
    "time": "2021-01-25T17:14:21.722Z",
    "type": "completion"
   },
   {
    "code": "# calculate_score(\"Wonder Woman 1984\",all_films).plot()\nplot_film(\"Wonder Woman 1984\")",
    "id": "c5a30e54c362450e8ae6e35bce30ecab",
    "idx": 23,
    "time": "2021-01-25T17:14:26.067Z",
    "type": "execution"
   },
   {
    "id": "c5a30e54c362450e8ae6e35bce30ecab",
    "time": "2021-01-25T17:14:26.457Z",
    "type": "completion"
   },
   {
    "code": "def plot_film(film):\n    df = all_films[all_films==film]\n    series = calculate_score(film, all_films)\n    plt.plot(series)\n    plt.axhline(y=0.75, color='yellow', linestyle='dashed',linewidth=0.5)\n    plt.axhline(y=0.6, color='red', linestyle='dashed',linewidth=0.5)\n    plt.axhspan(0.75, 1, alpha=0.5, color='green')\n    plt.axhspan(0.6,75, alpha=0.5, color='yellow')\n    plt.axhspan(0, 0.6, alpha=0.5, color='red')\n    plt.ylim(series.min(), series.max())",
    "id": "a939598316054d528c40aab130b5481c",
    "idx": 21,
    "time": "2021-01-25T17:15:29.926Z",
    "type": "execution"
   },
   {
    "id": "a939598316054d528c40aab130b5481c",
    "time": "2021-01-25T17:15:29.994Z",
    "type": "completion"
   },
   {
    "code": "# calculate_score(\"Artemis Fowl\",all_films)\nplot_film(\"Artemis Fowl\")",
    "id": "8c3d3fca7294407980c1e709032f69b3",
    "idx": 22,
    "time": "2021-01-25T17:15:30.303Z",
    "type": "execution"
   },
   {
    "id": "8c3d3fca7294407980c1e709032f69b3",
    "time": "2021-01-25T17:15:30.617Z",
    "type": "completion"
   },
   {
    "code": "# calculate_score(\"Wonder Woman 1984\",all_films).plot()\nplot_film(\"Wonder Woman 1984\")",
    "id": "c5a30e54c362450e8ae6e35bce30ecab",
    "idx": 23,
    "time": "2021-01-25T17:15:30.775Z",
    "type": "execution"
   },
   {
    "id": "c5a30e54c362450e8ae6e35bce30ecab",
    "time": "2021-01-25T17:15:31.105Z",
    "type": "completion"
   },
   {
    "code": "def plot_film(film):\n    df = all_films[all_films==film]\n    series = calculate_score(film, all_films)\n    plt.plot(series)\n    plt.axhline(y=0.75, color='yellow', linestyle='dashed',linewidth=0.5)\n    plt.axhline(y=0.6, color='red', linestyle='dashed',linewidth=0.5)\n    plt.axhspan(0.75, 1, alpha=0.5, color='lightgreen')\n    plt.axhspan(0.6,75, alpha=0.5, color='yellow')\n    plt.axhspan(0, 0.6, alpha=0.5, color='red')\n    plt.ylim(series.min(), series.max())",
    "id": "a939598316054d528c40aab130b5481c",
    "idx": 21,
    "time": "2021-01-25T17:17:40.973Z",
    "type": "execution"
   },
   {
    "id": "a939598316054d528c40aab130b5481c",
    "time": "2021-01-25T17:17:41.050Z",
    "type": "completion"
   },
   {
    "code": "# calculate_score(\"Artemis Fowl\",all_films)\nplot_film(\"Artemis Fowl\")",
    "id": "8c3d3fca7294407980c1e709032f69b3",
    "idx": 22,
    "time": "2021-01-25T17:17:41.439Z",
    "type": "execution"
   },
   {
    "id": "8c3d3fca7294407980c1e709032f69b3",
    "time": "2021-01-25T17:17:41.807Z",
    "type": "completion"
   },
   {
    "code": "# calculate_score(\"Wonder Woman 1984\",all_films).plot()\nplot_film(\"Wonder Woman 1984\")",
    "id": "c5a30e54c362450e8ae6e35bce30ecab",
    "idx": 23,
    "time": "2021-01-25T17:17:42.268Z",
    "type": "execution"
   },
   {
    "id": "c5a30e54c362450e8ae6e35bce30ecab",
    "time": "2021-01-25T17:17:42.687Z",
    "type": "completion"
   },
   {
    "code": "def plot_film(film):\n    df = all_films[all_films==film]\n    series = calculate_score(film, all_films)\n    plt.plot(series)\n    plt.axhline(y=0.75, color='yellow', linestyle='dashed',linewidth=0.5)\n    plt.axhline(y=0.6, color='red', linestyle='dashed',linewidth=0.5)\n    plt.axhspan(0.75, 1, alpha=0.5, color='darkgreen')\n    plt.axhspan(0.6,75, alpha=0.5, color='yellow')\n    plt.axhspan(0, 0.6, alpha=0.5, color='red')\n    plt.ylim(series.min(), series.max())",
    "id": "a939598316054d528c40aab130b5481c",
    "idx": 21,
    "time": "2021-01-25T17:18:09.627Z",
    "type": "execution"
   },
   {
    "id": "a939598316054d528c40aab130b5481c",
    "time": "2021-01-25T17:18:09.696Z",
    "type": "completion"
   },
   {
    "code": "# calculate_score(\"Artemis Fowl\",all_films)\nplot_film(\"Artemis Fowl\")",
    "id": "8c3d3fca7294407980c1e709032f69b3",
    "idx": 22,
    "time": "2021-01-25T17:18:10.336Z",
    "type": "execution"
   },
   {
    "id": "8c3d3fca7294407980c1e709032f69b3",
    "time": "2021-01-25T17:18:10.724Z",
    "type": "completion"
   },
   {
    "code": "# calculate_score(\"Wonder Woman 1984\",all_films).plot()\nplot_film(\"Wonder Woman 1984\")",
    "id": "c5a30e54c362450e8ae6e35bce30ecab",
    "idx": 23,
    "time": "2021-01-25T17:18:11.328Z",
    "type": "execution"
   },
   {
    "id": "c5a30e54c362450e8ae6e35bce30ecab",
    "time": "2021-01-25T17:18:11.777Z",
    "type": "completion"
   },
   {
    "code": "def plot_film(film):\n    df = all_films[all_films==film]\n    series = calculate_score(film, all_films)\n    plt.plot(series)\n    plt.axhline(y=0.75, color='yellow', linestyle='dashed',linewidth=0.5)\n    plt.axhline(y=0.6, color='red', linestyle='dashed',linewidth=0.5)\n    plt.axhspan(0.75, 1, alpha=0.5, color='green')\n    plt.axhspan(0.6,75, alpha=0.5, color='yellow')\n    plt.axhspan(0, 0.6, alpha=0.5, color='red')\n    plt.ylim(series.min(), series.max())",
    "id": "a939598316054d528c40aab130b5481c",
    "idx": 21,
    "time": "2021-01-25T17:18:32.730Z",
    "type": "execution"
   },
   {
    "id": "a939598316054d528c40aab130b5481c",
    "time": "2021-01-25T17:18:32.799Z",
    "type": "completion"
   },
   {
    "code": "def plot_film(film):\n    df = all_films[all_films==film]\n    series = calculate_score(film, all_films)\n    plt.plot(series)\n    plt.axhline(y=0.75, color='yellow', linestyle='dashed',linewidth=0.5)\n    plt.axhline(y=0.6, color='red', linestyle='dashed',linewidth=0.5)\n    plt.axhspan(0.75, 1, alpha=0.5, color='#2ca02c)\n    plt.axhspan(0.6,75, alpha=0.5, color='yellow')\n    plt.axhspan(0, 0.6, alpha=0.5, color='red')\n    plt.ylim(series.min(), series.max())",
    "id": "a939598316054d528c40aab130b5481c",
    "idx": 21,
    "time": "2021-01-25T17:19:07.895Z",
    "type": "execution"
   },
   {
    "id": "a939598316054d528c40aab130b5481c",
    "time": "2021-01-25T17:19:08.001Z",
    "type": "completion"
   },
   {
    "code": "# calculate_score(\"Artemis Fowl\",all_films)\nplot_film(\"Artemis Fowl\")",
    "id": "8c3d3fca7294407980c1e709032f69b3",
    "idx": 22,
    "time": "2021-01-25T17:19:08.347Z",
    "type": "execution"
   },
   {
    "code": "# calculate_score(\"Wonder Woman 1984\",all_films).plot()\nplot_film(\"Wonder Woman 1984\")",
    "id": "c5a30e54c362450e8ae6e35bce30ecab",
    "idx": 23,
    "time": "2021-01-25T17:19:08.623Z",
    "type": "execution"
   },
   {
    "id": "8c3d3fca7294407980c1e709032f69b3",
    "time": "2021-01-25T17:19:08.660Z",
    "type": "completion"
   },
   {
    "id": "c5a30e54c362450e8ae6e35bce30ecab",
    "time": "2021-01-25T17:19:08.942Z",
    "type": "completion"
   },
   {
    "code": "def plot_film(film):\n    df = all_films[all_films==film]\n    series = calculate_score(film, all_films)\n    plt.plot(series)\n    plt.axhline(y=0.75, color='yellow', linestyle='dashed',linewidth=0.5)\n    plt.axhline(y=0.6, color='red', linestyle='dashed',linewidth=0.5)\n    plt.axhspan(0.75, 1, alpha=0.5, color='#2ca02c')\n    plt.axhspan(0.6,75, alpha=0.5, color='yellow')\n    plt.axhspan(0, 0.6, alpha=0.5, color='red')\n    plt.ylim(series.min(), series.max())",
    "id": "a939598316054d528c40aab130b5481c",
    "idx": 21,
    "time": "2021-01-25T17:19:13.446Z",
    "type": "execution"
   },
   {
    "id": "a939598316054d528c40aab130b5481c",
    "time": "2021-01-25T17:19:13.517Z",
    "type": "completion"
   },
   {
    "code": "# calculate_score(\"Artemis Fowl\",all_films)\nplot_film(\"Artemis Fowl\")",
    "id": "8c3d3fca7294407980c1e709032f69b3",
    "idx": 22,
    "time": "2021-01-25T17:19:14.036Z",
    "type": "execution"
   },
   {
    "code": "# calculate_score(\"Wonder Woman 1984\",all_films).plot()\nplot_film(\"Wonder Woman 1984\")",
    "id": "c5a30e54c362450e8ae6e35bce30ecab",
    "idx": 23,
    "time": "2021-01-25T17:19:14.349Z",
    "type": "execution"
   },
   {
    "id": "8c3d3fca7294407980c1e709032f69b3",
    "time": "2021-01-25T17:19:14.381Z",
    "type": "completion"
   },
   {
    "id": "c5a30e54c362450e8ae6e35bce30ecab",
    "time": "2021-01-25T17:19:14.726Z",
    "type": "completion"
   },
   {
    "code": "%config InlineBackend.figure_format = 'svg'",
    "id": "2d3d335f5b634d9686f3738ede5c2e78",
    "idx": 21,
    "time": "2021-01-25T17:19:49.466Z",
    "type": "execution"
   },
   {
    "id": "2d3d335f5b634d9686f3738ede5c2e78",
    "time": "2021-01-25T17:19:49.549Z",
    "type": "completion"
   },
   {
    "code": "def plot_film(film):\n    df = all_films[all_films==film]\n    series = calculate_score(film, all_films)\n    plt.plot(series)\n    plt.axhline(y=0.75, color='yellow', linestyle='dashed',linewidth=0.5)\n    plt.axhline(y=0.6, color='red', linestyle='dashed',linewidth=0.5)\n    plt.axhspan(0.75, 1, alpha=0.5, color='#2ca02c')\n    plt.axhspan(0.6,75, alpha=0.5, color='yellow')\n    plt.axhspan(0, 0.6, alpha=0.5, color='red')\n    plt.ylim(series.min(), series.max())",
    "id": "a939598316054d528c40aab130b5481c",
    "idx": 22,
    "time": "2021-01-25T17:19:50.028Z",
    "type": "execution"
   },
   {
    "id": "a939598316054d528c40aab130b5481c",
    "time": "2021-01-25T17:19:50.098Z",
    "type": "completion"
   },
   {
    "code": "# calculate_score(\"Artemis Fowl\",all_films)\nplot_film(\"Artemis Fowl\")",
    "id": "8c3d3fca7294407980c1e709032f69b3",
    "idx": 23,
    "time": "2021-01-25T17:19:50.922Z",
    "type": "execution"
   },
   {
    "id": "8c3d3fca7294407980c1e709032f69b3",
    "time": "2021-01-25T17:19:51.315Z",
    "type": "completion"
   },
   {
    "code": "# calculate_score(\"Wonder Woman 1984\",all_films).plot()\nplot_film(\"Wonder Woman 1984\")",
    "id": "c5a30e54c362450e8ae6e35bce30ecab",
    "idx": 24,
    "time": "2021-01-25T17:19:51.969Z",
    "type": "execution"
   },
   {
    "id": "c5a30e54c362450e8ae6e35bce30ecab",
    "time": "2021-01-25T17:19:52.375Z",
    "type": "completion"
   },
   {
    "code": "def plot_film(film):\n    df = all_films[all_films==film]\n    series = calculate_score(film, all_films)\n    plt.plot(series)\n    plt.axhline(y=0.75, color='yellow', linestyle='dashed',linewidth=0.5)\n    plt.axhline(y=0.6, color='red', linestyle='dashed',linewidth=0.5)\n    plt.axhspan(0.75, 1, alpha=0.5, color='#2ca02c')\n    plt.axhspan(0.6,75, alpha=0.5, color='yellow')\n    plt.axhspan(0, 0.6, alpha=0.5, color='red')\n    plt.ylim(series.min(), series.max())\n    plt.title(film + \" Rotten Tomatoes Score over Time\")",
    "id": "a939598316054d528c40aab130b5481c",
    "idx": 22,
    "time": "2021-01-25T17:20:25.381Z",
    "type": "execution"
   },
   {
    "id": "a939598316054d528c40aab130b5481c",
    "time": "2021-01-25T17:20:25.457Z",
    "type": "completion"
   },
   {
    "code": "# calculate_score(\"Artemis Fowl\",all_films)\nplot_film(\"Artemis Fowl\")",
    "id": "8c3d3fca7294407980c1e709032f69b3",
    "idx": 23,
    "time": "2021-01-25T17:20:25.697Z",
    "type": "execution"
   },
   {
    "id": "8c3d3fca7294407980c1e709032f69b3",
    "time": "2021-01-25T17:20:26.133Z",
    "type": "completion"
   },
   {
    "code": "# calculate_score(\"Wonder Woman 1984\",all_films).plot()\nplot_film(\"Wonder Woman 1984\")",
    "id": "c5a30e54c362450e8ae6e35bce30ecab",
    "idx": 24,
    "time": "2021-01-25T17:20:26.968Z",
    "type": "execution"
   },
   {
    "id": "c5a30e54c362450e8ae6e35bce30ecab",
    "time": "2021-01-25T17:20:27.480Z",
    "type": "completion"
   },
   {
    "code": "def plot_film(film):\n    df = all_films[all_films==film]\n    series = calculate_score(film, all_films)\n    plt.plot(series)\n    plt.axhline(y=0.75, color='yellow', linestyle='dashed',linewidth=0.5)\n    plt.axhline(y=0.6, color='red', linestyle='dashed',linewidth=0.5)\n    plt.axhspan(0.75, 1, alpha=0.5, color='#2ca02c')\n#     plt.axhspan(0.6,75, alpha=0.5, color='yellow')\n    plt.axhspan(0, 0.6, alpha=0.5, color='red')\n    plt.ylim(series.min(), series.max())\n    plt.title(film + \" Rotten Tomatoes Score over Time\")",
    "id": "a939598316054d528c40aab130b5481c",
    "idx": 22,
    "time": "2021-01-25T17:20:44.932Z",
    "type": "execution"
   },
   {
    "id": "a939598316054d528c40aab130b5481c",
    "time": "2021-01-25T17:20:45.003Z",
    "type": "completion"
   },
   {
    "code": "# calculate_score(\"Artemis Fowl\",all_films)\nplot_film(\"Artemis Fowl\")",
    "id": "8c3d3fca7294407980c1e709032f69b3",
    "idx": 23,
    "time": "2021-01-25T17:20:45.296Z",
    "type": "execution"
   },
   {
    "id": "8c3d3fca7294407980c1e709032f69b3",
    "time": "2021-01-25T17:20:45.725Z",
    "type": "completion"
   },
   {
    "code": "# calculate_score(\"Wonder Woman 1984\",all_films).plot()\nplot_film(\"Wonder Woman 1984\")",
    "id": "c5a30e54c362450e8ae6e35bce30ecab",
    "idx": 24,
    "time": "2021-01-25T17:20:45.729Z",
    "type": "execution"
   },
   {
    "id": "c5a30e54c362450e8ae6e35bce30ecab",
    "time": "2021-01-25T17:20:46.153Z",
    "type": "completion"
   },
   {
    "code": "def plot_film(film):\n    df = all_films[all_films==film]\n    series = calculate_score(film, all_films)\n    plt.plot(series)\n    plt.axhline(y=0.75, color='yellow', linestyle='dashed',linewidth=0.5)\n    plt.axhline(y=0.6, color='red', linestyle='dashed',linewidth=0.5)\n    plt.axhspan(0.75, 1, alpha=0.5, color='#2ca02c')\n    plt.axhspan(0.6,.75, alpha=0.5, color='yellow')\n    plt.axhspan(0, 0.6, alpha=0.5, color='red')\n    plt.ylim(series.min(), series.max())\n    plt.title(film + \" Rotten Tomatoes Score over Time\")",
    "id": "a939598316054d528c40aab130b5481c",
    "idx": 22,
    "time": "2021-01-25T17:21:01.059Z",
    "type": "execution"
   },
   {
    "id": "a939598316054d528c40aab130b5481c",
    "time": "2021-01-25T17:21:01.132Z",
    "type": "completion"
   },
   {
    "code": "# calculate_score(\"Artemis Fowl\",all_films)\nplot_film(\"Artemis Fowl\")",
    "id": "8c3d3fca7294407980c1e709032f69b3",
    "idx": 23,
    "time": "2021-01-25T17:21:01.353Z",
    "type": "execution"
   },
   {
    "code": "# calculate_score(\"Wonder Woman 1984\",all_films).plot()\nplot_film(\"Wonder Woman 1984\")",
    "id": "c5a30e54c362450e8ae6e35bce30ecab",
    "idx": 24,
    "time": "2021-01-25T17:21:01.882Z",
    "type": "execution"
   },
   {
    "id": "8c3d3fca7294407980c1e709032f69b3",
    "time": "2021-01-25T17:21:01.975Z",
    "type": "completion"
   },
   {
    "id": "c5a30e54c362450e8ae6e35bce30ecab",
    "time": "2021-01-25T17:21:02.344Z",
    "type": "completion"
   },
   {
    "code": "def plot_film(film):\n    df = all_films[all_films==film]\n    series = calculate_score(film, all_films)\n    plt.plot(series)\n    plt.axhline(y=0.75, color='yellow', linestyle='dashed',linewidth=0.5)\n    plt.axhline(y=0.6, color='red', linestyle='dashed',linewidth=0.5)\n    plt.axhspan(0.75, 1, alpha=0.5, color='green')\n    plt.axhspan(0.6,.75, alpha=0.5, color='yellow')\n    plt.axhspan(0, 0.6, alpha=0.5, color='red')\n    plt.ylim(series.min(), series.max())\n    plt.title(film + \" Rotten Tomatoes Score over Time\")",
    "id": "a939598316054d528c40aab130b5481c",
    "idx": 22,
    "time": "2021-01-25T17:21:10.520Z",
    "type": "execution"
   },
   {
    "id": "a939598316054d528c40aab130b5481c",
    "time": "2021-01-25T17:21:10.590Z",
    "type": "completion"
   },
   {
    "code": "# calculate_score(\"Artemis Fowl\",all_films)\nplot_film(\"Artemis Fowl\")",
    "id": "8c3d3fca7294407980c1e709032f69b3",
    "idx": 23,
    "time": "2021-01-25T17:21:10.743Z",
    "type": "execution"
   },
   {
    "code": "# calculate_score(\"Wonder Woman 1984\",all_films).plot()\nplot_film(\"Wonder Woman 1984\")",
    "id": "c5a30e54c362450e8ae6e35bce30ecab",
    "idx": 24,
    "time": "2021-01-25T17:21:10.964Z",
    "type": "execution"
   },
   {
    "id": "8c3d3fca7294407980c1e709032f69b3",
    "time": "2021-01-25T17:21:11.072Z",
    "type": "completion"
   },
   {
    "id": "c5a30e54c362450e8ae6e35bce30ecab",
    "time": "2021-01-25T17:21:11.394Z",
    "type": "completion"
   },
   {
    "code": "def plot_film(film):\n    df = all_films[all_films==film]\n    series = calculate_score(film, all_films)\n    plt.plot(series)\n    plt.axhline(y=0.75, color='yellow', linestyle='dashed',linewidth=0.5)\n    plt.axhline(y=0.6, color='red', linestyle='dashed',linewidth=0.5)\n    plt.axhspan(0.75, 1, alpha=0.5, color='lightgreen')\n    plt.axhspan(0.6,.75, alpha=0.5, color='yellow')\n    plt.axhspan(0, 0.6, alpha=0.5, color='red')\n    plt.ylim(series.min(), series.max())\n    plt.title(film + \" Rotten Tomatoes Score over Time\")",
    "id": "a939598316054d528c40aab130b5481c",
    "idx": 22,
    "time": "2021-01-25T17:21:14.950Z",
    "type": "execution"
   },
   {
    "id": "a939598316054d528c40aab130b5481c",
    "time": "2021-01-25T17:21:15.081Z",
    "type": "completion"
   },
   {
    "code": "# calculate_score(\"Artemis Fowl\",all_films)\nplot_film(\"Artemis Fowl\")",
    "id": "8c3d3fca7294407980c1e709032f69b3",
    "idx": 23,
    "time": "2021-01-25T17:21:15.121Z",
    "type": "execution"
   },
   {
    "code": "# calculate_score(\"Wonder Woman 1984\",all_films).plot()\nplot_film(\"Wonder Woman 1984\")",
    "id": "c5a30e54c362450e8ae6e35bce30ecab",
    "idx": 24,
    "time": "2021-01-25T17:21:15.256Z",
    "type": "execution"
   },
   {
    "id": "8c3d3fca7294407980c1e709032f69b3",
    "time": "2021-01-25T17:21:15.539Z",
    "type": "completion"
   },
   {
    "id": "c5a30e54c362450e8ae6e35bce30ecab",
    "time": "2021-01-25T17:21:15.747Z",
    "type": "completion"
   },
   {
    "code": "def plot_film(film):\n    df = all_films[all_films==film]\n    series = calculate_score(film, all_films)\n    plt.plot(series)\n    plt.axhline(y=0.75, color='yellow', linestyle='dashed',linewidth=0.5)\n    plt.axhline(y=0.6, color='red', linestyle='dashed',linewidth=0.5)\n    plt.axhspan(0.75, 1, alpha=0.5, color='lightgreen')\n    plt.axhspan(0.6,.75, alpha=0.5, color='yellow')\n    plt.axhspan(0, 0.6, alpha=0.5, color='salmon')\n    plt.ylim(series.min(), series.max())\n    plt.title(film + \" Rotten Tomatoes Score over Time\")",
    "id": "a939598316054d528c40aab130b5481c",
    "idx": 22,
    "time": "2021-01-25T17:21:43.750Z",
    "type": "execution"
   },
   {
    "id": "a939598316054d528c40aab130b5481c",
    "time": "2021-01-25T17:21:43.825Z",
    "type": "completion"
   },
   {
    "code": "# calculate_score(\"Artemis Fowl\",all_films)\nplot_film(\"Artemis Fowl\")",
    "id": "8c3d3fca7294407980c1e709032f69b3",
    "idx": 23,
    "time": "2021-01-25T17:21:44.127Z",
    "type": "execution"
   },
   {
    "code": "# calculate_score(\"Wonder Woman 1984\",all_films).plot()\nplot_film(\"Wonder Woman 1984\")",
    "id": "c5a30e54c362450e8ae6e35bce30ecab",
    "idx": 24,
    "time": "2021-01-25T17:21:44.575Z",
    "type": "execution"
   },
   {
    "id": "8c3d3fca7294407980c1e709032f69b3",
    "time": "2021-01-25T17:21:44.692Z",
    "type": "completion"
   },
   {
    "id": "c5a30e54c362450e8ae6e35bce30ecab",
    "time": "2021-01-25T17:21:45.043Z",
    "type": "completion"
   },
   {
    "code": "def plot_film(film):\n    df = all_films[all_films==film]\n    series = calculate_score(film, all_films)\n    plt.plot(series)\n    plt.axhline(y=0.75, color='yellow', linestyle='dashed',linewidth=0.5)\n    plt.axhline(y=0.6, color='red', linestyle='dashed',linewidth=0.5)\n    plt.axhspan(0.75, 1, alpha=0.5, color='lightgreen')\n    plt.axhspan(0.6,.75, alpha=0.5, color='lightyellow')\n    plt.axhspan(0, 0.6, alpha=0.5, color='salmon')\n    plt.ylim(series.min(), series.max())\n    plt.title(film + \" Rotten Tomatoes Score over Time\")",
    "id": "a939598316054d528c40aab130b5481c",
    "idx": 22,
    "time": "2021-01-25T17:22:14.400Z",
    "type": "execution"
   },
   {
    "id": "a939598316054d528c40aab130b5481c",
    "time": "2021-01-25T17:22:14.473Z",
    "type": "completion"
   },
   {
    "code": "# calculate_score(\"Artemis Fowl\",all_films)\nplot_film(\"Artemis Fowl\")",
    "id": "8c3d3fca7294407980c1e709032f69b3",
    "idx": 23,
    "time": "2021-01-25T17:22:14.601Z",
    "type": "execution"
   },
   {
    "code": "# calculate_score(\"Wonder Woman 1984\",all_films).plot()\nplot_film(\"Wonder Woman 1984\")",
    "id": "c5a30e54c362450e8ae6e35bce30ecab",
    "idx": 24,
    "time": "2021-01-25T17:22:14.781Z",
    "type": "execution"
   },
   {
    "id": "8c3d3fca7294407980c1e709032f69b3",
    "time": "2021-01-25T17:22:15.055Z",
    "type": "completion"
   },
   {
    "id": "c5a30e54c362450e8ae6e35bce30ecab",
    "time": "2021-01-25T17:22:15.323Z",
    "type": "completion"
   },
   {
    "code": "def plot_film(film):\n    df = all_films[all_films==film]\n    series = calculate_score(film, all_films)\n    plt.plot(series)\n    plt.axhline(y=0.75, color='yellow', linestyle='dashed',linewidth=0.5)\n    plt.axhline(y=0.6, color='red', linestyle='dashed',linewidth=0.5)\n    plt.axhspan(0.75, 1, alpha=0.5, color='lightgreen')\n    plt.axhspan(0.6,.75, alpha=0.5, color='lemonchiffon')\n    plt.axhspan(0, 0.6, alpha=0.5, color='salmon')\n    plt.ylim(series.min(), series.max())\n    plt.title(film + \" Rotten Tomatoes Score over Time\")",
    "id": "a939598316054d528c40aab130b5481c",
    "idx": 22,
    "time": "2021-01-25T17:22:33.110Z",
    "type": "execution"
   },
   {
    "id": "a939598316054d528c40aab130b5481c",
    "time": "2021-01-25T17:22:33.185Z",
    "type": "completion"
   },
   {
    "code": "# calculate_score(\"Artemis Fowl\",all_films)\nplot_film(\"Artemis Fowl\")",
    "id": "8c3d3fca7294407980c1e709032f69b3",
    "idx": 23,
    "time": "2021-01-25T17:22:33.335Z",
    "type": "execution"
   },
   {
    "id": "8c3d3fca7294407980c1e709032f69b3",
    "time": "2021-01-25T17:22:33.810Z",
    "type": "completion"
   },
   {
    "code": "def plot_film(film):\n    df = all_films[all_films==film]\n    series = calculate_score(film, all_films)\n    plt.plot(series)\n    plt.axhline(y=0.75, color='yellow', linestyle='dashed',linewidth=0.5)\n    plt.axhline(y=0.6, color='red', linestyle='dashed',linewidth=0.5)\n    plt.axhspan(0.75, 1, alpha=0.5, color='lightgreen')\n    plt.axhspan(0.6,.75, alpha=0.5, color='#F6F7A8')\n    plt.axhspan(0, 0.6, alpha=0.5, color='salmon')\n    plt.ylim(series.min(), series.max())\n    plt.title(film + \" Rotten Tomatoes Score over Time\")",
    "id": "a939598316054d528c40aab130b5481c",
    "idx": 22,
    "time": "2021-01-25T17:23:13.790Z",
    "type": "execution"
   },
   {
    "id": "a939598316054d528c40aab130b5481c",
    "time": "2021-01-25T17:23:13.862Z",
    "type": "completion"
   },
   {
    "code": "# calculate_score(\"Artemis Fowl\",all_films)\nplot_film(\"Artemis Fowl\")",
    "id": "8c3d3fca7294407980c1e709032f69b3",
    "idx": 23,
    "time": "2021-01-25T17:23:14.142Z",
    "type": "execution"
   },
   {
    "code": "# calculate_score(\"Wonder Woman 1984\",all_films).plot()\nplot_film(\"Wonder Woman 1984\")",
    "id": "c5a30e54c362450e8ae6e35bce30ecab",
    "idx": 24,
    "time": "2021-01-25T17:23:14.481Z",
    "type": "execution"
   },
   {
    "id": "8c3d3fca7294407980c1e709032f69b3",
    "time": "2021-01-25T17:23:14.721Z",
    "type": "completion"
   },
   {
    "id": "c5a30e54c362450e8ae6e35bce30ecab",
    "time": "2021-01-25T17:23:14.814Z",
    "type": "completion"
   },
   {
    "code": "# calculate_score(\"Mulan\",all_films).plot()\nplot_film(\"Mulan\")",
    "id": "f621f1fe85de4ece889fcb42a4c9be45",
    "idx": 25,
    "time": "2021-01-25T17:23:36.287Z",
    "type": "execution"
   },
   {
    "id": "f621f1fe85de4ece889fcb42a4c9be45",
    "time": "2021-01-25T17:23:36.908Z",
    "type": "completion"
   },
   {
    "code": "def plot_film(film):\n    df = all_films[all_films==film]\n    series = calculate_score(film, all_films)\n    plt.plot(series)\n    plt.axhline(y=0.75, color='yellow', linestyle='dashed',linewidth=0.5)\n    plt.axhline(y=0.6, color='red', linestyle='dashed',linewidth=0.5)\n    plt.axhspan(0.75, 1, alpha=0.5, color='lightgreen')\n    plt.axhspan(0.6,.75, alpha=0.5, color='#F6F7A8')\n    plt.axhspan(0, 0.6, alpha=0.5, color='salmon')\n    plt.ylim(series.min(), series.max())\n    plt.set_xticklabels(rotation = 45)\n    plt.title(film + \" Rotten Tomatoes Score over Time\")",
    "id": "a939598316054d528c40aab130b5481c",
    "idx": 22,
    "time": "2021-01-25T17:25:05.749Z",
    "type": "execution"
   },
   {
    "id": "a939598316054d528c40aab130b5481c",
    "time": "2021-01-25T17:25:05.819Z",
    "type": "completion"
   },
   {
    "code": "# calculate_score(\"Artemis Fowl\",all_films)\nplot_film(\"Artemis Fowl\")",
    "id": "8c3d3fca7294407980c1e709032f69b3",
    "idx": 23,
    "time": "2021-01-25T17:25:07.033Z",
    "type": "execution"
   },
   {
    "id": "8c3d3fca7294407980c1e709032f69b3",
    "time": "2021-01-25T17:25:07.474Z",
    "type": "completion"
   },
   {
    "code": "def plot_film(film):\n    df = all_films[all_films==film]\n    series = calculate_score(film, all_films)\n    plt.plot(series)\n    plt.axhline(y=0.75, color='yellow', linestyle='dashed',linewidth=0.5)\n    plt.axhline(y=0.6, color='red', linestyle='dashed',linewidth=0.5)\n    plt.axhspan(0.75, 1, alpha=0.5, color='lightgreen')\n    plt.axhspan(0.6,.75, alpha=0.5, color='#F6F7A8')\n    plt.axhspan(0, 0.6, alpha=0.5, color='salmon')\n    plt.ylim(series.min(), series.max())\n    plt.title(film + \" Rotten Tomatoes Score over Time\")",
    "id": "a939598316054d528c40aab130b5481c",
    "idx": 22,
    "time": "2021-01-25T17:25:13.218Z",
    "type": "execution"
   },
   {
    "id": "a939598316054d528c40aab130b5481c",
    "time": "2021-01-25T17:25:13.286Z",
    "type": "completion"
   },
   {
    "code": "# calculate_score(\"Artemis Fowl\",all_films)\nplot_film(\"Artemis Fowl\")",
    "id": "8c3d3fca7294407980c1e709032f69b3",
    "idx": 23,
    "time": "2021-01-25T17:25:13.368Z",
    "type": "execution"
   },
   {
    "code": "# calculate_score(\"Wonder Woman 1984\",all_films).plot()\nplot_film(\"Wonder Woman 1984\")",
    "id": "c5a30e54c362450e8ae6e35bce30ecab",
    "idx": 24,
    "time": "2021-01-25T17:25:13.512Z",
    "type": "execution"
   },
   {
    "id": "8c3d3fca7294407980c1e709032f69b3",
    "time": "2021-01-25T17:25:13.767Z",
    "type": "completion"
   },
   {
    "id": "c5a30e54c362450e8ae6e35bce30ecab",
    "time": "2021-01-25T17:25:13.991Z",
    "type": "completion"
   },
   {
    "code": "# calculate_score(\"Mulan\",all_films).plot()\nplot_film(\"Mulan\")",
    "id": "f621f1fe85de4ece889fcb42a4c9be45",
    "idx": 25,
    "time": "2021-01-25T17:25:19.724Z",
    "type": "execution"
   },
   {
    "id": "f621f1fe85de4ece889fcb42a4c9be45",
    "time": "2021-01-25T17:25:20.239Z",
    "type": "completion"
   },
   {
    "code": "# calculate_score(\"Tenet\",all_films).plot()\nplot_film(\"Tenet\")",
    "id": "9aa215e710244e988e051ae025606f59",
    "idx": 26,
    "time": "2021-01-25T17:25:20.384Z",
    "type": "execution"
   },
   {
    "id": "9aa215e710244e988e051ae025606f59",
    "time": "2021-01-25T17:25:20.823Z",
    "type": "completion"
   },
   {
    "code": "calculate_score(\"Lovebirds\",all_films).plot()",
    "id": "f164a2c26f3941c68aea5f9bfc3468ed",
    "idx": 27,
    "time": "2021-01-25T17:25:25.385Z",
    "type": "execution"
   },
   {
    "id": "f164a2c26f3941c68aea5f9bfc3468ed",
    "time": "2021-01-25T17:25:25.847Z",
    "type": "completion"
   },
   {
    "code": "plot_film(\"Lovebirds\")",
    "id": "f164a2c26f3941c68aea5f9bfc3468ed",
    "idx": 27,
    "time": "2021-01-25T17:25:33.281Z",
    "type": "execution"
   },
   {
    "id": "f164a2c26f3941c68aea5f9bfc3468ed",
    "time": "2021-01-25T17:25:33.798Z",
    "type": "completion"
   },
   {
    "code": "def plot_film(film):\n    df = all_films[all_films==film]\n    series = calculate_score(film, all_films)\n    plt.plot(series)\n    plt.axhline(y=0.75, color='yellow', linestyle='dashed',linewidth=0.5)\n    plt.axhline(y=0.6, color='red', linestyle='dashed',linewidth=0.5)\n    plt.axhspan(0.75, 1, alpha=0.5, color='lightgreen')\n    plt.axhspan(0.6,.75, alpha=0.5, color='#F6F7A8')\n    plt.axhspan(0, 0.6, alpha=0.5, color='salmon')\n    plt.ylim(series.min(), series.max())\n    plt.xticks(rotation=45, ha=\"right\")\n    plt.title(film + \" Rotten Tomatoes Score over Time\")",
    "id": "a939598316054d528c40aab130b5481c",
    "idx": 22,
    "time": "2021-01-25T17:26:38.887Z",
    "type": "execution"
   },
   {
    "id": "a939598316054d528c40aab130b5481c",
    "time": "2021-01-25T17:26:38.956Z",
    "type": "completion"
   },
   {
    "code": "# calculate_score(\"Artemis Fowl\",all_films)\nplot_film(\"Artemis Fowl\")",
    "id": "8c3d3fca7294407980c1e709032f69b3",
    "idx": 23,
    "time": "2021-01-25T17:26:39.404Z",
    "type": "execution"
   },
   {
    "id": "8c3d3fca7294407980c1e709032f69b3",
    "time": "2021-01-25T17:26:39.859Z",
    "type": "completion"
   },
   {
    "code": "# calculate_score(\"Wonder Woman 1984\",all_films).plot()\nplot_film(\"Wonder Woman 1984\")",
    "id": "c5a30e54c362450e8ae6e35bce30ecab",
    "idx": 24,
    "time": "2021-01-25T17:26:40.395Z",
    "type": "execution"
   },
   {
    "id": "c5a30e54c362450e8ae6e35bce30ecab",
    "time": "2021-01-25T17:26:41.039Z",
    "type": "completion"
   },
   {
    "code": "# calculate_score(\"Mulan\",all_films).plot()\nplot_film(\"Mulan\")",
    "id": "f621f1fe85de4ece889fcb42a4c9be45",
    "idx": 25,
    "time": "2021-01-25T17:26:45.313Z",
    "type": "execution"
   },
   {
    "code": "# calculate_score(\"Tenet\",all_films).plot()\nplot_film(\"Tenet\")",
    "id": "9aa215e710244e988e051ae025606f59",
    "idx": 26,
    "time": "2021-01-25T17:26:45.522Z",
    "type": "execution"
   },
   {
    "code": "plot_film(\"Lovebirds\")",
    "id": "f164a2c26f3941c68aea5f9bfc3468ed",
    "idx": 27,
    "time": "2021-01-25T17:26:45.693Z",
    "type": "execution"
   },
   {
    "id": "f621f1fe85de4ece889fcb42a4c9be45",
    "time": "2021-01-25T17:26:45.915Z",
    "type": "completion"
   },
   {
    "id": "9aa215e710244e988e051ae025606f59",
    "time": "2021-01-25T17:26:45.919Z",
    "type": "completion"
   },
   {
    "id": "f164a2c26f3941c68aea5f9bfc3468ed",
    "time": "2021-01-25T17:26:46.043Z",
    "type": "completion"
   },
   {
    "code": "import requests\nimport time\n\n# requirements\nfrom bs4 import BeautifulSoup\nfrom requests import TooManyRedirects\nimport re\n\ndef _make_soup(url):\n    try:\n        r = requests.get(url)\n        soup = BeautifulSoup(r.content, 'html.parser')\n    except TooManyRedirects:\n        soup = ''\n    return soup\n\n#regex patterns\npage_pat = re.compile(r'Page 1 of \\d+')\nreview_pat = re.compile(r'<div class=\\\"the_review\\\" data-qa=\\\"review-text\\\">[;a-zA-Z\\s,-.\\'\\/\\?\\[\\]\\\":\\']*</div>')\nrating_pat = re.compile(r'Original Score:\\s([A-Z](\\+|-)?|\\d(.\\d)?(\\/\\d)?)')\nfresh_pat = re.compile(r'small\\s(fresh|rotten)\\\"')\ncritic_pat = re.compile(r'\\/\\\"\\>([A-Z][a-zA-Z]+\\s[A-Z][a-zA-Z\\-]+)|([A-Z][a-zA-Z.]+\\s[A-Z].?\\s[A-Z][a-zA-Z]+)|([A-Z][a-zA-Z]+\\s[A-Z]+\\'[A-Z][a-zA-Z]+)')\npublisher_pat = re.compile(r'\\\"subtle\\\">[a-zA-Z\\s,.\\(\\)\\'\\-&;!\\/\\d+]+</em>')\ndate_pat = re.compile(r'[a-zA-Z]+\\s\\d+,\\s\\d+')",
    "id": "e766526218b9448bbc84fddcf8350cbe",
    "idx": 0,
    "time": "2021-01-25T23:51:33.216Z",
    "type": "execution"
   },
   {
    "code": "def _get_critic_reviews_from_page(soup):\n    reviews = list()\n    rating = list()\n    fresh = list()\n    critic = list()\n    top_critic = list()\n    publisher = list()\n    date = list()\n    \n    soup = str(soup)\n    review_soup = soup.split('=\"review_table')[1].split('row review_table_row')\n    review_soup.pop(0)\n\n    for review in review_soup:\n        match = re.findall(review_pat, str(review))\n        if len(match) > 0:\n            m = match[0]            \n            for iden in ['<div class=\"the_review\" data-qa=\"review-text\"> ','</div>']:\n                m = m.replace(iden,'')\n            reviews.append(m.strip('\"'))            \n            # extract rating\n            match = re.findall(rating_pat, str(review))\n            if len(match) > 0:\n                m = match[0][0]\n                if '/1' in m:\n                    sp_m = m.split('/')\n                    if sp_m[-1] == '1':\n                        sp_m[-1] = '10'\n                    m = '/'.join(sp_m)\n                rating.append(m)\n            else:\n                rating.append(None)            \n            # extract fresh indicator\n            match = re.findall(fresh_pat, str(review))\n            if len(match) > 0:\n                fresh.append(match[0])\n            else:\n                fresh.append(None)            \n            # extract critic\n            match = re.findall(critic_pat, str(review))\n            if len(match) > 0:\n                critic.append(''.join(match[0]))\n            else:\n                critic.append(None)            \n            # check if top critic\n            if '> Top Critic<' in str(review):\n                top_critic.append(1)\n            else:\n                top_critic.append(0)            \n            # extract publisher\n            match = re.findall(publisher_pat, str(review))\n            if len(match) > 0:\n                m = match[0]\n                m = m.replace('\"subtle\">', '')\n                m = m.replace('</em>','')\n                publisher.append(m)\n            else:\n                publisher.append(None)            \n            # extract date\n            match = re.findall(date_pat, str(review))\n            if len(match) > 0:\n                date.append(match[0].strip('\"'))\n            else:\n                date.append(None)\n            \n    return [reviews, rating, fresh, critic, top_critic, publisher, date]\n\ndef _get_num_pages(soup):\n    match = re.findall(page_pat,str(list(soup)))\n    if len(match) > 0:\n        match = match[0]\n        match = match.split(' of ')[-1]\n        return match\n    else:\n        return None",
    "id": "3177ae4def194e6a81c8c22695398971",
    "idx": 1,
    "time": "2021-01-25T23:51:33.227Z",
    "type": "execution"
   },
   {
    "code": "def get_critic_reviews(page):\n    info = [[],[],[],[],[],[],[]]\n    soup = _make_soup(page + \"reviews\")\n#     print(soup)\n    pages = _get_num_pages(soup)\n#     print(pages)\n    if pages is not None:\n        for page_num in range(1,int(pages)+1):\n            soup = _make_soup(page + \"reviews?page=\" + str(page_num) + \"&sort=\")\n            c_info = _get_critic_reviews_from_page(soup)\n            \n            # accumulate review info\n            for i in range(len(c_info)):\n                info[i] = info[i] + c_info[i]\n        \n        c_info = dict()\n        keys = ['reviews', 'rating', 'fresh', 'critic', 'top_critic', 'publisher', 'date']\n        for k in range(len(keys)):\n            c_info[keys[k]] = info[k]        \n    else:\n        c_info = None        \n    return c_info",
    "id": "04edfe558ec2423998eb0859ae7b1b4d",
    "idx": 2,
    "time": "2021-01-25T23:51:33.230Z",
    "type": "execution"
   },
   {
    "code": "movie_urls = {'Wonder Woman 1984': 'https://www.rottentomatoes.com/m/wonder_woman_1984/', \n              'Soul':'https://www.rottentomatoes.com/m/soul_2020/', \n              'Mulan': 'https://www.rottentomatoes.com/m/mulan_2020/',\n              'Birds of Prey': 'https://www.rottentomatoes.com/m/birds_of_prey_2020/',\n              'Sonic': 'https://www.rottentomatoes.com/m/sonic_the_hedgehog_2020/'\n             }\nmovie_urls.keys()",
    "id": "8ea7dd65ad8e41449a53059eb028b56c",
    "idx": 3,
    "time": "2021-01-25T23:51:33.234Z",
    "type": "execution"
   },
   {
    "code": "import pandas as pd\n\ndfs = []\nfor key in movie_urls.keys():\n    temp = get_critic_reviews(movie_urls[key])\n    df = pd.DataFrame.from_dict(temp)\n    df['Film'] = key\n    dfs.append(df)",
    "id": "04b78cb5b075485194f632e013f6e2e7",
    "idx": 4,
    "time": "2021-01-25T23:51:33.238Z",
    "type": "execution"
   },
   {
    "code": "all_films = pd.concat(dfs)\nall_films",
    "id": "9dfb573d4c7547c68f4a1fcaa4a62a64",
    "idx": 5,
    "time": "2021-01-25T23:51:33.242Z",
    "type": "execution"
   },
   {
    "code": "all_films['score'] = all_films['fresh'].apply(lambda x: 1 if x == 'fresh' else 0)\nall_films",
    "id": "b2655460ddf347b7ad6317d57d6c9c74",
    "idx": 6,
    "time": "2021-01-25T23:51:33.246Z",
    "type": "execution"
   },
   {
    "code": "all_films['date'] = pd.to_datetime(all_films['date'], format=\"%B %d, %Y\")\nall_films = all_films.sort_values('date')",
    "id": "f90cbc5ba5dc4d978c6ef1bef3c771bf",
    "idx": 7,
    "time": "2021-01-25T23:51:33.248Z",
    "type": "execution"
   },
   {
    "code": "import numpy as np\n\n\ndef calculate_score(film, frame):\n    df = frame[frame['Film'] == film]\n    grouped_1 = df[['date', 'score']].groupby('date').agg([sum, 'count'])\n    grouped_1.columns = grouped_1.columns.droplevel(0)\n    return grouped_1.cumsum()['sum']/grouped_1.cumsum()['count']\n\ncalculate_score(\"Wonder Woman 1984\")",
    "id": "1c4f93d3bcca40e1850500ce0ab27ead",
    "idx": 8,
    "time": "2021-01-25T23:51:33.253Z",
    "type": "execution"
   },
   {
    "code": "# calculate_score(\"Soul\").plot()\nimport matplotlib.pyplot as plt\n\nfor key in movie_urls.keys():\n#     pd.to_numeric(df.Subs).plot.line()\n    df = all_films[all_films==key]\n    plt.plot(calculate_score(key), label=key)\n#     plt.plot(np.arange(len(df.index)), pd.to_numeric(df.Total).pct_change(), label = df.Name.values[0], color = colors[i])\n#     plt.axvline(x=30, color='red', linestyle='dashed',linewidth=0.5)\n    plt.ylabel('Percent Change in Subscribers by Day')\n    plt.xlabel(\"Day (0 is 1 month before Content Cop's release)\")\n    plt.legend()\n# plt.annotate('Content Cop released', xy=(30, 0.015), ha='center', size=10)\n# plt.title('The Impact of Content Cop')\n# plt.savefig('pct_cc.svg')",
    "id": "5282402c126d480a8e20d3a8650b5b33",
    "idx": 9,
    "time": "2021-01-25T23:51:33.259Z",
    "type": "execution"
   },
   {
    "code": "# all_films.to_csv(\"all_films.csv\", index=False)",
    "id": "436946f5dbc543a9a4b64879435dbca8",
    "idx": 10,
    "time": "2021-01-25T23:51:33.261Z",
    "type": "execution"
   },
   {
    "code": "#add more movies\nimport pandas as pd\n\nmovie_urls['Tenet'] = 'https://www.rottentomatoes.com/m/tenet/'\nmovie_urls['Scoob'] = 'https://www.rottentomatoes.com/m/scoob/'\nmovie_urls['The Marksman'] = 'https://www.rottentomatoes.com/m/the_marksman_2021/'\nmovie_urls['Artemis Fowl'] = 'https://www.rottentomatoes.com/m/artemis_fowl/'\nmovie_urls['Lovebirds'] = 'https://www.rottentomatoes.com/m/the_lovebirds_2020/'\n\nnewkeys = ['Tenet', 'Scoob', 'The Marksman', 'Artemis Fowl', 'Lovebirds']\ndfs = []\n\nfor key in newkeys:\n    print(movie_urls[key])\n    temp = get_critic_reviews(movie_urls[key])\n    df = pd.DataFrame.from_dict(temp)\n    df['Film'] = key\n    dfs.append(df)",
    "id": "5428c7586a36435f8c1923bafc3ca968",
    "idx": 11,
    "time": "2021-01-25T23:51:33.264Z",
    "type": "execution"
   },
   {
    "code": "new_films = pd.concat(dfs)\nnew_films",
    "id": "8556a717af25468fb8004d0eae3d751d",
    "idx": 12,
    "time": "2021-01-25T23:51:33.268Z",
    "type": "execution"
   },
   {
    "code": "new_films['score'] = new_films['fresh'].apply(lambda x: 1 if x == 'fresh' else 0)\nnew_films",
    "id": "93fa76876e8d4c0f8412aebc9cb47935",
    "idx": 13,
    "time": "2021-01-25T23:51:33.271Z",
    "type": "execution"
   },
   {
    "code": "new_films['date'] = pd.to_datetime(new_films['date'], format=\"%B %d, %Y\")\nnew_films = new_films.sort_values('date')",
    "id": "05b49e4d479440d5b089d5b17d360896",
    "idx": 14,
    "time": "2021-01-25T23:51:33.273Z",
    "type": "execution"
   },
   {
    "code": "new_films",
    "id": "6f87adab3b0d410e81f6805b14273410",
    "idx": 15,
    "time": "2021-01-25T23:51:33.276Z",
    "type": "execution"
   },
   {
    "code": "import matplotlib.pyplot as plt\n\nfor key in newkeys:\n#     pd.to_numeric(df.Subs).plot.line()\n    df = new_films[new_films==key]\n    plt.plot(calculate_score(key, new_films), label=key)\n#     plt.plot(np.arange(len(df.index)), pd.to_numeric(df.Total).pct_change(), label = df.Name.values[0], color = colors[i])\n#     plt.axvline(x=30, color='red', linestyle='dashed',linewidth=0.5)\n    plt.ylabel('Percent Change in Subscribers by Day')\n    plt.xlabel(\"Day (0 is 1 month before Content Cop's release)\")\n    plt.legend()",
    "id": "b952a1aa8312432d895ce1aa15bacd22",
    "idx": 16,
    "time": "2021-01-25T23:51:33.278Z",
    "type": "execution"
   },
   {
    "code": "all_films = pd.read_csv(\"all_films.csv\")\nall_films",
    "id": "c1115d26f4774c7788fb0c1858f90243",
    "idx": 17,
    "time": "2021-01-25T23:51:33.283Z",
    "type": "execution"
   },
   {
    "code": "all_films = pd.concat([all_films, new_films])",
    "id": "da199b52f5074ac58c27fb5da33cabfb",
    "idx": 18,
    "time": "2021-01-25T23:51:33.286Z",
    "type": "execution"
   },
   {
    "code": "all_films['date'] = pd.to_datetime(all_films['date'])\nall_films = all_films.sort_values('date')",
    "id": "ab91beeacbf34355899cbd20f276b6ff",
    "idx": 19,
    "time": "2021-01-25T23:51:33.291Z",
    "type": "execution"
   },
   {
    "code": "for key in movie_urls.keys():\n#     pd.to_numeric(df.Subs).plot.line()\n    df = all_films[all_films==key]\n    plt.plot(calculate_score(key, all_films), label=key)\n#     plt.plot(np.arange(len(df.index)), pd.to_numeric(df.Total).pct_change(), label = df.Name.values[0], color = colors[i])\n#     plt.axvline(x=30, color='red', linestyle='dashed',linewidth=0.5)\n    plt.ylabel('Percent Change in Subscribers by Day')\n    plt.xlabel(\"Day (0 is 1 month before Content Cop's release)\")\n    plt.legend()\n# plt.annotate('Content Cop released', xy=(30, 0.015), ha='center', size=10)\n# plt.title('The Impact of Content Cop')\n# plt.savefig('pct_cc.svg')",
    "id": "5b7a2cc3ce754041a2f51ac30d184f11",
    "idx": 20,
    "time": "2021-01-25T23:51:33.296Z",
    "type": "execution"
   },
   {
    "code": "%config InlineBackend.figure_format = 'svg'",
    "id": "52f037e9877f488b8382eab7fadca779",
    "idx": 21,
    "time": "2021-01-25T23:51:33.298Z",
    "type": "execution"
   },
   {
    "code": "def plot_film(film):\n    df = all_films[all_films==film]\n    series = calculate_score(film, all_films)\n    plt.plot(series)\n    plt.axhline(y=0.75, color='yellow', linestyle='dashed',linewidth=0.5)\n    plt.axhline(y=0.6, color='red', linestyle='dashed',linewidth=0.5)\n    plt.axhspan(0.75, 1, alpha=0.5, color='lightgreen')\n    plt.axhspan(0.6,.75, alpha=0.5, color='#F6F7A8')\n    plt.axhspan(0, 0.6, alpha=0.5, color='salmon')\n    plt.ylim(series.min(), series.max())\n    plt.xticks(rotation=45, ha=\"right\")\n    plt.title(film + \" Rotten Tomatoes Score over Time\")",
    "id": "c1ba019435894a888c9905cd549b0ef7",
    "idx": 22,
    "time": "2021-01-25T23:51:33.300Z",
    "type": "execution"
   },
   {
    "code": "# calculate_score(\"Artemis Fowl\",all_films)\nplot_film(\"Artemis Fowl\")",
    "id": "ef78aef00f4449e7808156cbe19fd185",
    "idx": 23,
    "time": "2021-01-25T23:51:33.305Z",
    "type": "execution"
   },
   {
    "code": "# calculate_score(\"Wonder Woman 1984\",all_films).plot()\nplot_film(\"Wonder Woman 1984\")",
    "id": "0a404ab049dd4467b70d0d61418c3ee6",
    "idx": 24,
    "time": "2021-01-25T23:51:33.309Z",
    "type": "execution"
   },
   {
    "code": "# calculate_score(\"Mulan\",all_films).plot()\nplot_film(\"Mulan\")",
    "id": "2a43857a9ef34ea1abe592610e444bcf",
    "idx": 25,
    "time": "2021-01-25T23:51:33.311Z",
    "type": "execution"
   },
   {
    "code": "# calculate_score(\"Tenet\",all_films).plot()\nplot_film(\"Tenet\")",
    "id": "65786b7888c04290b82271e76903c656",
    "idx": 26,
    "time": "2021-01-25T23:51:33.314Z",
    "type": "execution"
   },
   {
    "code": "plot_film(\"Lovebirds\")",
    "id": "e0aaebca47bf495b843933d6a4192cd5",
    "idx": 27,
    "time": "2021-01-25T23:51:33.317Z",
    "type": "execution"
   },
   {
    "id": "e766526218b9448bbc84fddcf8350cbe",
    "time": "2021-01-25T23:51:33.442Z",
    "type": "completion"
   },
   {
    "id": "3177ae4def194e6a81c8c22695398971",
    "time": "2021-01-25T23:51:33.463Z",
    "type": "completion"
   },
   {
    "id": "04edfe558ec2423998eb0859ae7b1b4d",
    "time": "2021-01-25T23:51:33.501Z",
    "type": "completion"
   },
   {
    "id": "8ea7dd65ad8e41449a53059eb028b56c",
    "time": "2021-01-25T23:51:33.512Z",
    "type": "completion"
   },
   {
    "id": "04b78cb5b075485194f632e013f6e2e7",
    "time": "2021-01-25T23:52:33.956Z",
    "type": "completion"
   },
   {
    "id": "9dfb573d4c7547c68f4a1fcaa4a62a64",
    "time": "2021-01-25T23:52:34.020Z",
    "type": "completion"
   },
   {
    "id": "b2655460ddf347b7ad6317d57d6c9c74",
    "time": "2021-01-25T23:52:34.029Z",
    "type": "completion"
   },
   {
    "id": "f90cbc5ba5dc4d978c6ef1bef3c771bf",
    "time": "2021-01-25T23:52:34.046Z",
    "type": "completion"
   },
   {
    "id": "1c4f93d3bcca40e1850500ce0ab27ead",
    "time": "2021-01-25T23:52:34.107Z",
    "type": "completion"
   },
   {
    "id": "5282402c126d480a8e20d3a8650b5b33",
    "time": "2021-01-25T23:52:34.109Z",
    "type": "completion"
   },
   {
    "id": "436946f5dbc543a9a4b64879435dbca8",
    "time": "2021-01-25T23:52:34.154Z",
    "type": "completion"
   },
   {
    "id": "5428c7586a36435f8c1923bafc3ca968",
    "time": "2021-01-25T23:52:34.159Z",
    "type": "completion"
   },
   {
    "id": "8556a717af25468fb8004d0eae3d751d",
    "time": "2021-01-25T23:52:34.164Z",
    "type": "completion"
   },
   {
    "id": "93fa76876e8d4c0f8412aebc9cb47935",
    "time": "2021-01-25T23:52:34.174Z",
    "type": "completion"
   },
   {
    "id": "05b49e4d479440d5b089d5b17d360896",
    "time": "2021-01-25T23:52:34.182Z",
    "type": "completion"
   },
   {
    "id": "6f87adab3b0d410e81f6805b14273410",
    "time": "2021-01-25T23:52:34.185Z",
    "type": "completion"
   },
   {
    "id": "b952a1aa8312432d895ce1aa15bacd22",
    "time": "2021-01-25T23:52:34.190Z",
    "type": "completion"
   },
   {
    "id": "c1115d26f4774c7788fb0c1858f90243",
    "time": "2021-01-25T23:52:34.194Z",
    "type": "completion"
   },
   {
    "id": "da199b52f5074ac58c27fb5da33cabfb",
    "time": "2021-01-25T23:52:34.220Z",
    "type": "completion"
   },
   {
    "id": "ab91beeacbf34355899cbd20f276b6ff",
    "time": "2021-01-25T23:52:34.221Z",
    "type": "completion"
   },
   {
    "id": "5b7a2cc3ce754041a2f51ac30d184f11",
    "time": "2021-01-25T23:52:34.221Z",
    "type": "completion"
   },
   {
    "id": "52f037e9877f488b8382eab7fadca779",
    "time": "2021-01-25T23:52:34.222Z",
    "type": "completion"
   },
   {
    "id": "c1ba019435894a888c9905cd549b0ef7",
    "time": "2021-01-25T23:52:34.222Z",
    "type": "completion"
   },
   {
    "id": "ef78aef00f4449e7808156cbe19fd185",
    "time": "2021-01-25T23:52:34.222Z",
    "type": "completion"
   },
   {
    "id": "0a404ab049dd4467b70d0d61418c3ee6",
    "time": "2021-01-25T23:52:34.223Z",
    "type": "completion"
   },
   {
    "id": "2a43857a9ef34ea1abe592610e444bcf",
    "time": "2021-01-25T23:52:34.223Z",
    "type": "completion"
   },
   {
    "id": "65786b7888c04290b82271e76903c656",
    "time": "2021-01-25T23:52:34.223Z",
    "type": "completion"
   },
   {
    "id": "e0aaebca47bf495b843933d6a4192cd5",
    "time": "2021-01-25T23:52:34.224Z",
    "type": "completion"
   },
   {
    "code": "import numpy as np\n\n\ndef calculate_score(film, frame):\n    df = frame[frame['Film'] == film]\n    grouped_1 = df[['date', 'score']].groupby('date').agg([sum, 'count'])\n    grouped_1.columns = grouped_1.columns.droplevel(0)\n    return grouped_1.cumsum()['sum']/grouped_1.cumsum()['count']\n\ncalculate_score(\"Wonder Woman 1984\", all_films)",
    "id": "1c4f93d3bcca40e1850500ce0ab27ead",
    "idx": 8,
    "time": "2021-01-25T23:53:22.636Z",
    "type": "execution"
   },
   {
    "id": "1c4f93d3bcca40e1850500ce0ab27ead",
    "time": "2021-01-25T23:53:22.732Z",
    "type": "completion"
   },
   {
    "code": "# calculate_score(\"Soul\").plot()\nimport matplotlib.pyplot as plt\n\nfor key in movie_urls.keys():\n#     pd.to_numeric(df.Subs).plot.line()\n    df = all_films[all_films==key]\n    plt.plot(calculate_score(key), label=key)\n#     plt.plot(np.arange(len(df.index)), pd.to_numeric(df.Total).pct_change(), label = df.Name.values[0], color = colors[i])\n#     plt.axvline(x=30, color='red', linestyle='dashed',linewidth=0.5)\n    plt.ylabel('Percent Change in Subscribers by Day')\n    plt.xlabel(\"Day (0 is 1 month before Content Cop's release)\")\n    plt.legend()\n# plt.annotate('Content Cop released', xy=(30, 0.015), ha='center', size=10)\n# plt.title('The Impact of Content Cop')\n# plt.savefig('pct_cc.svg')",
    "id": "5282402c126d480a8e20d3a8650b5b33",
    "idx": 9,
    "time": "2021-01-25T23:53:23.418Z",
    "type": "execution"
   },
   {
    "code": "# all_films.to_csv(\"all_films.csv\", index=False)",
    "id": "436946f5dbc543a9a4b64879435dbca8",
    "idx": 10,
    "time": "2021-01-25T23:53:23.583Z",
    "type": "execution"
   },
   {
    "code": "#add more movies\nimport pandas as pd\n\nmovie_urls['Tenet'] = 'https://www.rottentomatoes.com/m/tenet/'\nmovie_urls['Scoob'] = 'https://www.rottentomatoes.com/m/scoob/'\nmovie_urls['The Marksman'] = 'https://www.rottentomatoes.com/m/the_marksman_2021/'\nmovie_urls['Artemis Fowl'] = 'https://www.rottentomatoes.com/m/artemis_fowl/'\nmovie_urls['Lovebirds'] = 'https://www.rottentomatoes.com/m/the_lovebirds_2020/'\n\nnewkeys = ['Tenet', 'Scoob', 'The Marksman', 'Artemis Fowl', 'Lovebirds']\ndfs = []\n\nfor key in newkeys:\n    print(movie_urls[key])\n    temp = get_critic_reviews(movie_urls[key])\n    df = pd.DataFrame.from_dict(temp)\n    df['Film'] = key\n    dfs.append(df)",
    "id": "5428c7586a36435f8c1923bafc3ca968",
    "idx": 11,
    "time": "2021-01-25T23:53:23.720Z",
    "type": "execution"
   },
   {
    "id": "5282402c126d480a8e20d3a8650b5b33",
    "time": "2021-01-25T23:53:23.814Z",
    "type": "completion"
   },
   {
    "code": "new_films = pd.concat(dfs)\nnew_films",
    "id": "8556a717af25468fb8004d0eae3d751d",
    "idx": 12,
    "time": "2021-01-25T23:53:23.855Z",
    "type": "execution"
   },
   {
    "id": "436946f5dbc543a9a4b64879435dbca8",
    "time": "2021-01-25T23:53:23.911Z",
    "type": "completion"
   },
   {
    "code": "new_films['score'] = new_films['fresh'].apply(lambda x: 1 if x == 'fresh' else 0)\nnew_films",
    "id": "93fa76876e8d4c0f8412aebc9cb47935",
    "idx": 13,
    "time": "2021-01-25T23:53:24.001Z",
    "type": "execution"
   },
   {
    "code": "new_films['date'] = pd.to_datetime(new_films['date'], format=\"%B %d, %Y\")\nnew_films = new_films.sort_values('date')",
    "id": "05b49e4d479440d5b089d5b17d360896",
    "idx": 14,
    "time": "2021-01-25T23:53:24.137Z",
    "type": "execution"
   },
   {
    "code": "new_films",
    "id": "6f87adab3b0d410e81f6805b14273410",
    "idx": 15,
    "time": "2021-01-25T23:53:24.269Z",
    "type": "execution"
   },
   {
    "code": "import matplotlib.pyplot as plt\n\nfor key in newkeys:\n#     pd.to_numeric(df.Subs).plot.line()\n    df = new_films[new_films==key]\n    plt.plot(calculate_score(key, new_films), label=key)\n#     plt.plot(np.arange(len(df.index)), pd.to_numeric(df.Total).pct_change(), label = df.Name.values[0], color = colors[i])\n#     plt.axvline(x=30, color='red', linestyle='dashed',linewidth=0.5)\n    plt.ylabel('Percent Change in Subscribers by Day')\n    plt.xlabel(\"Day (0 is 1 month before Content Cop's release)\")\n    plt.legend()",
    "id": "b952a1aa8312432d895ce1aa15bacd22",
    "idx": 16,
    "time": "2021-01-25T23:53:24.960Z",
    "type": "execution"
   },
   {
    "code": "all_films = pd.read_csv(\"all_films.csv\")\nall_films",
    "id": "c1115d26f4774c7788fb0c1858f90243",
    "idx": 17,
    "time": "2021-01-25T23:53:25.364Z",
    "type": "execution"
   },
   {
    "code": "all_films = pd.concat([all_films, new_films])",
    "id": "da199b52f5074ac58c27fb5da33cabfb",
    "idx": 18,
    "time": "2021-01-25T23:53:26.623Z",
    "type": "execution"
   },
   {
    "code": "all_films['date'] = pd.to_datetime(all_films['date'])\nall_films = all_films.sort_values('date')",
    "id": "ab91beeacbf34355899cbd20f276b6ff",
    "idx": 19,
    "time": "2021-01-25T23:53:26.797Z",
    "type": "execution"
   },
   {
    "code": "for key in movie_urls.keys():\n#     pd.to_numeric(df.Subs).plot.line()\n    df = all_films[all_films==key]\n    plt.plot(calculate_score(key, all_films), label=key)\n#     plt.plot(np.arange(len(df.index)), pd.to_numeric(df.Total).pct_change(), label = df.Name.values[0], color = colors[i])\n#     plt.axvline(x=30, color='red', linestyle='dashed',linewidth=0.5)\n    plt.ylabel('Percent Change in Subscribers by Day')\n    plt.xlabel(\"Day (0 is 1 month before Content Cop's release)\")\n    plt.legend()\n# plt.annotate('Content Cop released', xy=(30, 0.015), ha='center', size=10)\n# plt.title('The Impact of Content Cop')\n# plt.savefig('pct_cc.svg')",
    "id": "5b7a2cc3ce754041a2f51ac30d184f11",
    "idx": 20,
    "time": "2021-01-25T23:53:27.197Z",
    "type": "execution"
   },
   {
    "code": "%config InlineBackend.figure_format = 'svg'",
    "id": "52f037e9877f488b8382eab7fadca779",
    "idx": 21,
    "time": "2021-01-25T23:53:27.518Z",
    "type": "execution"
   },
   {
    "code": "def plot_film(film):\n    df = all_films[all_films==film]\n    series = calculate_score(film, all_films)\n    plt.plot(series)\n    plt.axhline(y=0.75, color='yellow', linestyle='dashed',linewidth=0.5)\n    plt.axhline(y=0.6, color='red', linestyle='dashed',linewidth=0.5)\n    plt.axhspan(0.75, 1, alpha=0.5, color='lightgreen')\n    plt.axhspan(0.6,.75, alpha=0.5, color='#F6F7A8')\n    plt.axhspan(0, 0.6, alpha=0.5, color='salmon')\n    plt.ylim(series.min(), series.max())\n    plt.xticks(rotation=45, ha=\"right\")\n    plt.title(film + \" Rotten Tomatoes Score over Time\")",
    "id": "c1ba019435894a888c9905cd549b0ef7",
    "idx": 22,
    "time": "2021-01-25T23:53:27.749Z",
    "type": "execution"
   },
   {
    "code": "# calculate_score(\"Artemis Fowl\",all_films)\nplot_film(\"Artemis Fowl\")",
    "id": "ef78aef00f4449e7808156cbe19fd185",
    "idx": 23,
    "time": "2021-01-25T23:53:28.411Z",
    "type": "execution"
   },
   {
    "code": "# calculate_score(\"Wonder Woman 1984\",all_films).plot()\nplot_film(\"Wonder Woman 1984\")",
    "id": "0a404ab049dd4467b70d0d61418c3ee6",
    "idx": 24,
    "time": "2021-01-25T23:53:28.865Z",
    "type": "execution"
   },
   {
    "code": "# calculate_score(\"Mulan\",all_films).plot()\nplot_film(\"Mulan\")",
    "id": "2a43857a9ef34ea1abe592610e444bcf",
    "idx": 25,
    "time": "2021-01-25T23:53:29.074Z",
    "type": "execution"
   },
   {
    "code": "# calculate_score(\"Tenet\",all_films).plot()\nplot_film(\"Tenet\")",
    "id": "65786b7888c04290b82271e76903c656",
    "idx": 26,
    "time": "2021-01-25T23:53:30.303Z",
    "type": "execution"
   },
   {
    "code": "plot_film(\"Lovebirds\")",
    "id": "e0aaebca47bf495b843933d6a4192cd5",
    "idx": 27,
    "time": "2021-01-25T23:53:30.483Z",
    "type": "execution"
   },
   {
    "id": "5428c7586a36435f8c1923bafc3ca968",
    "time": "2021-01-25T23:54:16.506Z",
    "type": "completion"
   },
   {
    "id": "8556a717af25468fb8004d0eae3d751d",
    "time": "2021-01-25T23:54:16.574Z",
    "type": "completion"
   },
   {
    "id": "93fa76876e8d4c0f8412aebc9cb47935",
    "time": "2021-01-25T23:54:16.580Z",
    "type": "completion"
   },
   {
    "id": "05b49e4d479440d5b089d5b17d360896",
    "time": "2021-01-25T23:54:16.591Z",
    "type": "completion"
   },
   {
    "id": "6f87adab3b0d410e81f6805b14273410",
    "time": "2021-01-25T23:54:16.618Z",
    "type": "completion"
   },
   {
    "id": "b952a1aa8312432d895ce1aa15bacd22",
    "time": "2021-01-25T23:54:17.052Z",
    "type": "completion"
   },
   {
    "id": "c1115d26f4774c7788fb0c1858f90243",
    "time": "2021-01-25T23:54:17.105Z",
    "type": "completion"
   },
   {
    "id": "da199b52f5074ac58c27fb5da33cabfb",
    "time": "2021-01-25T23:54:17.106Z",
    "type": "completion"
   },
   {
    "id": "ab91beeacbf34355899cbd20f276b6ff",
    "time": "2021-01-25T23:54:17.117Z",
    "type": "completion"
   },
   {
    "id": "5b7a2cc3ce754041a2f51ac30d184f11",
    "time": "2021-01-25T23:54:17.650Z",
    "type": "completion"
   },
   {
    "id": "52f037e9877f488b8382eab7fadca779",
    "time": "2021-01-25T23:54:17.651Z",
    "type": "completion"
   },
   {
    "id": "c1ba019435894a888c9905cd549b0ef7",
    "time": "2021-01-25T23:54:17.654Z",
    "type": "completion"
   },
   {
    "id": "ef78aef00f4449e7808156cbe19fd185",
    "time": "2021-01-25T23:54:17.789Z",
    "type": "completion"
   },
   {
    "id": "0a404ab049dd4467b70d0d61418c3ee6",
    "time": "2021-01-25T23:54:18.002Z",
    "type": "completion"
   },
   {
    "id": "2a43857a9ef34ea1abe592610e444bcf",
    "time": "2021-01-25T23:54:18.245Z",
    "type": "completion"
   },
   {
    "id": "65786b7888c04290b82271e76903c656",
    "time": "2021-01-25T23:54:18.426Z",
    "type": "completion"
   },
   {
    "id": "e0aaebca47bf495b843933d6a4192cd5",
    "time": "2021-01-25T23:54:18.660Z",
    "type": "completion"
   },
   {
    "code": "movie_urls.keys()",
    "id": "5c77203b73374f79834e654618454c6b",
    "idx": 28,
    "time": "2021-01-26T00:01:15.591Z",
    "type": "execution"
   },
   {
    "id": "5c77203b73374f79834e654618454c6b",
    "time": "2021-01-26T00:01:15.665Z",
    "type": "completion"
   },
   {
    "code": "plot_film(\"Scoob\")",
    "id": "3a481fd02aa84ea38fd299dcfe535da0",
    "idx": 29,
    "time": "2021-01-26T00:01:25.361Z",
    "type": "execution"
   },
   {
    "id": "3a481fd02aa84ea38fd299dcfe535da0",
    "time": "2021-01-26T00:01:25.908Z",
    "type": "completion"
   },
   {
    "code": "plot_film(\"Birds of Prey\")",
    "id": "6394cfe562784e659b5064f12cf4d5bd",
    "idx": 30,
    "time": "2021-01-26T00:01:39.020Z",
    "type": "execution"
   },
   {
    "id": "6394cfe562784e659b5064f12cf4d5bd",
    "time": "2021-01-26T00:01:39.634Z",
    "type": "completion"
   },
   {
    "code": "plot_film(\"The Marksman\")",
    "id": "fe50567c006443d49003b8d9964f7c51",
    "idx": 31,
    "time": "2021-01-26T00:02:01.792Z",
    "type": "execution"
   },
   {
    "id": "fe50567c006443d49003b8d9964f7c51",
    "time": "2021-01-26T00:02:02.414Z",
    "type": "completion"
   },
   {
    "code": "all_films.to_csv(\"new_films.csv\",index=False)",
    "id": "1bb6aaa02dcc4c139d551d168e0ec998",
    "idx": 32,
    "time": "2021-01-26T00:02:19.251Z",
    "type": "execution"
   },
   {
    "id": "1bb6aaa02dcc4c139d551d168e0ec998",
    "time": "2021-01-26T00:02:19.371Z",
    "type": "completion"
   },
   {
    "code": "movie_urls.keys()",
    "id": "2e83538edf3e4f8d8a711a00861b4787",
    "idx": 33,
    "time": "2021-01-26T00:20:04.927Z",
    "type": "execution"
   },
   {
    "id": "2e83538edf3e4f8d8a711a00861b4787",
    "time": "2021-01-26T00:20:05.028Z",
    "type": "completion"
   },
   {
    "code": "plot_film(\"Soul\")",
    "id": "8f7b56a98a6e452690e75713a765558d",
    "idx": 34,
    "time": "2021-01-26T00:20:23.743Z",
    "type": "execution"
   },
   {
    "id": "8f7b56a98a6e452690e75713a765558d",
    "time": "2021-01-26T00:20:24.235Z",
    "type": "completion"
   },
   {
    "code": "plot_film(\"Lovebirds\")",
    "id": "8f7b56a98a6e452690e75713a765558d",
    "idx": 34,
    "time": "2021-01-26T00:20:32.751Z",
    "type": "execution"
   },
   {
    "id": "8f7b56a98a6e452690e75713a765558d",
    "time": "2021-01-26T00:20:33.410Z",
    "type": "completion"
   },
   {
    "code": "plot_film(\"Sonic\")",
    "id": "8f7b56a98a6e452690e75713a765558d",
    "idx": 34,
    "time": "2021-01-26T00:20:44.355Z",
    "type": "execution"
   },
   {
    "id": "8f7b56a98a6e452690e75713a765558d",
    "time": "2021-01-26T00:20:44.987Z",
    "type": "completion"
   },
   {
    "code": "all_films[all_films[\"Film\"]==\"Sonic\"]",
    "id": "559fe0f6f2444bfc8a4127bcf693f6cc",
    "idx": 35,
    "time": "2021-01-26T00:21:14.422Z",
    "type": "execution"
   },
   {
    "id": "559fe0f6f2444bfc8a4127bcf693f6cc",
    "time": "2021-01-26T00:21:14.550Z",
    "type": "completion"
   },
   {
    "code": "all_films[all_films[\"Film\"]==\"Sonic\"].sort_values(\"date\")",
    "id": "559fe0f6f2444bfc8a4127bcf693f6cc",
    "idx": 35,
    "time": "2021-01-26T00:21:27.842Z",
    "type": "execution"
   },
   {
    "id": "559fe0f6f2444bfc8a4127bcf693f6cc",
    "time": "2021-01-26T00:21:27.995Z",
    "type": "completion"
   },
   {
    "code": "all_films[(all_films[\"Film\"]==\"Sonic\") & (all_films[\"date\"]==\"2020-02-12\")]",
    "id": "559fe0f6f2444bfc8a4127bcf693f6cc",
    "idx": 35,
    "time": "2021-01-26T00:22:07.931Z",
    "type": "execution"
   },
   {
    "id": "559fe0f6f2444bfc8a4127bcf693f6cc",
    "time": "2021-01-26T00:22:08.019Z",
    "type": "completion"
   },
   {
    "code": "movie_urls = {'Wonder Woman 1984': 'https://www.rottentomatoes.com/m/wonder_woman_1984/', \n              'Soul':'https://www.rottentomatoes.com/m/soul_2020/', \n              'Mulan': 'https://www.rottentomatoes.com/m/mulan_2020/',\n              'Birds of Prey': 'https://www.rottentomatoes.com/m/birds_of_prey_2020/',\n              'Sonic': 'https://www.rottentomatoes.com/m/sonic_the_hedgehog_2020/'\n             }\n\nmovie_urls[\"Captain Marvel\"] = \"https://www.rottentomatoes.com/m/captain_marvel/\"\nmovie_urls[\"Lion King\"] = \"https://www.rottentomatoes.com/m/the_lion_king_2019/\"\nmovie_urls[\"Aladdin\"] = \"https://www.rottentomatoes.com/m/aladdin/\"\nmovie_urls[\"Joker\"] = \"https://www.rottentomatoes.com/m/joker_2019/\"\nmovie_urls[\"Shazam!\"] = \"https://www.rottentomatoes.com/m/shazam/\"\nmovie_urls[\"Godzilla: King of the Monsters\"] = \"https://www.rottentomatoes.com/m/godzilla_king_of_the_monsters_2019/\"\nmovie_urls.keys()",
    "id": "ba75f81eae0c43879ade708c52166e21",
    "idx": 3,
    "time": "2021-01-27T00:18:07.772Z",
    "type": "execution"
   },
   {
    "id": "ba75f81eae0c43879ade708c52166e21",
    "time": "2021-01-27T00:18:07.882Z",
    "type": "completion"
   },
   {
    "code": "import requests\nimport time\n\n# requirements\nfrom bs4 import BeautifulSoup\nfrom requests import TooManyRedirects\nimport re\n\ndef _make_soup(url):\n    try:\n        r = requests.get(url)\n        soup = BeautifulSoup(r.content, 'html.parser')\n    except TooManyRedirects:\n        soup = ''\n    return soup\n\n#regex patterns\npage_pat = re.compile(r'Page 1 of \\d+')\nreview_pat = re.compile(r'<div class=\\\"the_review\\\" data-qa=\\\"review-text\\\">[;a-zA-Z\\s,-.\\'\\/\\?\\[\\]\\\":\\']*</div>')\nrating_pat = re.compile(r'Original Score:\\s([A-Z](\\+|-)?|\\d(.\\d)?(\\/\\d)?)')\nfresh_pat = re.compile(r'small\\s(fresh|rotten)\\\"')\ncritic_pat = re.compile(r'\\/\\\"\\>([A-Z][a-zA-Z]+\\s[A-Z][a-zA-Z\\-]+)|([A-Z][a-zA-Z.]+\\s[A-Z].?\\s[A-Z][a-zA-Z]+)|([A-Z][a-zA-Z]+\\s[A-Z]+\\'[A-Z][a-zA-Z]+)')\npublisher_pat = re.compile(r'\\\"subtle\\\">[a-zA-Z\\s,.\\(\\)\\'\\-&;!\\/\\d+]+</em>')\ndate_pat = re.compile(r'[a-zA-Z]+\\s\\d+,\\s\\d+')",
    "id": "c088557172df4ee88340993c0d83f871",
    "idx": 0,
    "time": "2021-01-27T00:18:15.198Z",
    "type": "execution"
   },
   {
    "code": "def _get_critic_reviews_from_page(soup):\n    reviews = list()\n    rating = list()\n    fresh = list()\n    critic = list()\n    top_critic = list()\n    publisher = list()\n    date = list()\n    \n    soup = str(soup)\n    review_soup = soup.split('=\"review_table')[1].split('row review_table_row')\n    review_soup.pop(0)\n\n    for review in review_soup:\n        match = re.findall(review_pat, str(review))\n        if len(match) > 0:\n            m = match[0]            \n            for iden in ['<div class=\"the_review\" data-qa=\"review-text\"> ','</div>']:\n                m = m.replace(iden,'')\n            reviews.append(m.strip('\"'))            \n            # extract rating\n            match = re.findall(rating_pat, str(review))\n            if len(match) > 0:\n                m = match[0][0]\n                if '/1' in m:\n                    sp_m = m.split('/')\n                    if sp_m[-1] == '1':\n                        sp_m[-1] = '10'\n                    m = '/'.join(sp_m)\n                rating.append(m)\n            else:\n                rating.append(None)            \n            # extract fresh indicator\n            match = re.findall(fresh_pat, str(review))\n            if len(match) > 0:\n                fresh.append(match[0])\n            else:\n                fresh.append(None)            \n            # extract critic\n            match = re.findall(critic_pat, str(review))\n            if len(match) > 0:\n                critic.append(''.join(match[0]))\n            else:\n                critic.append(None)            \n            # check if top critic\n            if '> Top Critic<' in str(review):\n                top_critic.append(1)\n            else:\n                top_critic.append(0)            \n            # extract publisher\n            match = re.findall(publisher_pat, str(review))\n            if len(match) > 0:\n                m = match[0]\n                m = m.replace('\"subtle\">', '')\n                m = m.replace('</em>','')\n                publisher.append(m)\n            else:\n                publisher.append(None)            \n            # extract date\n            match = re.findall(date_pat, str(review))\n            if len(match) > 0:\n                date.append(match[0].strip('\"'))\n            else:\n                date.append(None)\n            \n    return [reviews, rating, fresh, critic, top_critic, publisher, date]\n\ndef _get_num_pages(soup):\n    match = re.findall(page_pat,str(list(soup)))\n    if len(match) > 0:\n        match = match[0]\n        match = match.split(' of ')[-1]\n        return match\n    else:\n        return None",
    "id": "473f70b9197047778ba396a40a4ed7a7",
    "idx": 1,
    "time": "2021-01-27T00:18:15.200Z",
    "type": "execution"
   },
   {
    "code": "def get_critic_reviews(page):\n    info = [[],[],[],[],[],[],[]]\n    soup = _make_soup(page + \"reviews\")\n#     print(soup)\n    pages = _get_num_pages(soup)\n#     print(pages)\n    if pages is not None:\n        for page_num in range(1,int(pages)+1):\n            soup = _make_soup(page + \"reviews?page=\" + str(page_num) + \"&sort=\")\n            c_info = _get_critic_reviews_from_page(soup)\n            \n            # accumulate review info\n            for i in range(len(c_info)):\n                info[i] = info[i] + c_info[i]\n        \n        c_info = dict()\n        keys = ['reviews', 'rating', 'fresh', 'critic', 'top_critic', 'publisher', 'date']\n        for k in range(len(keys)):\n            c_info[keys[k]] = info[k]        \n    else:\n        c_info = None        \n    return c_info",
    "id": "2a164d4bc03440c287cd2aa9baee929e",
    "idx": 2,
    "time": "2021-01-27T00:18:15.202Z",
    "type": "execution"
   },
   {
    "code": "movie_urls = {'Wonder Woman 1984': 'https://www.rottentomatoes.com/m/wonder_woman_1984/', \n              'Soul':'https://www.rottentomatoes.com/m/soul_2020/', \n              'Mulan': 'https://www.rottentomatoes.com/m/mulan_2020/',\n              'Birds of Prey': 'https://www.rottentomatoes.com/m/birds_of_prey_2020/',\n              'Sonic': 'https://www.rottentomatoes.com/m/sonic_the_hedgehog_2020/'\n             }\n\nmovie_urls[\"Captain Marvel\"] = \"https://www.rottentomatoes.com/m/captain_marvel/\"\nmovie_urls[\"Lion King\"] = \"https://www.rottentomatoes.com/m/the_lion_king_2019/\"\nmovie_urls[\"Aladdin\"] = \"https://www.rottentomatoes.com/m/aladdin/\"\nmovie_urls[\"Joker\"] = \"https://www.rottentomatoes.com/m/joker_2019/\"\nmovie_urls[\"Shazam!\"] = \"https://www.rottentomatoes.com/m/shazam/\"\nmovie_urls[\"Godzilla: King of the Monsters\"] = \"https://www.rottentomatoes.com/m/godzilla_king_of_the_monsters_2019/\"\nmovie_urls.keys()",
    "id": "ba75f81eae0c43879ade708c52166e21",
    "idx": 3,
    "time": "2021-01-27T00:18:15.204Z",
    "type": "execution"
   },
   {
    "code": "import pandas as pd\n\ndfs = []\nfor key in movie_urls.keys():\n    temp = get_critic_reviews(movie_urls[key])\n    df = pd.DataFrame.from_dict(temp)\n    df['Film'] = key\n    dfs.append(df)",
    "id": "a1ef4cd89f0f41c8a9233b92ab030587",
    "idx": 4,
    "time": "2021-01-27T00:18:15.206Z",
    "type": "execution"
   },
   {
    "code": "all_films = pd.concat(dfs)\nall_films",
    "id": "0ef9e93206b741ab896dda73e440fe69",
    "idx": 5,
    "time": "2021-01-27T00:18:15.208Z",
    "type": "execution"
   },
   {
    "code": "all_films['score'] = all_films['fresh'].apply(lambda x: 1 if x == 'fresh' else 0)\nall_films",
    "id": "bd3af87003f34f009f0f49e7c7cea343",
    "idx": 6,
    "time": "2021-01-27T00:18:15.210Z",
    "type": "execution"
   },
   {
    "code": "all_films['date'] = pd.to_datetime(all_films['date'], format=\"%B %d, %Y\")\nall_films = all_films.sort_values('date')",
    "id": "59dcb1b5e4a6427482402c1d1c927436",
    "idx": 7,
    "time": "2021-01-27T00:18:15.211Z",
    "type": "execution"
   },
   {
    "code": "import numpy as np\n\n\ndef calculate_score(film, frame):\n    df = frame[frame['Film'] == film]\n    grouped_1 = df[['date', 'score']].groupby('date').agg([sum, 'count'])\n    grouped_1.columns = grouped_1.columns.droplevel(0)\n    return grouped_1.cumsum()['sum']/grouped_1.cumsum()['count']\n\ncalculate_score(\"Wonder Woman 1984\", all_films)",
    "id": "5e1cead1642b4c288daa8723c29a17c1",
    "idx": 8,
    "time": "2021-01-27T00:18:15.213Z",
    "type": "execution"
   },
   {
    "code": "# calculate_score(\"Soul\").plot()\nimport matplotlib.pyplot as plt\n\nfor key in movie_urls.keys():\n#     pd.to_numeric(df.Subs).plot.line()\n    df = all_films[all_films==key]\n    plt.plot(calculate_score(key), label=key)\n#     plt.plot(np.arange(len(df.index)), pd.to_numeric(df.Total).pct_change(), label = df.Name.values[0], color = colors[i])\n#     plt.axvline(x=30, color='red', linestyle='dashed',linewidth=0.5)\n    plt.ylabel('Percent Change in Subscribers by Day')\n    plt.xlabel(\"Day (0 is 1 month before Content Cop's release)\")\n    plt.legend()\n# plt.annotate('Content Cop released', xy=(30, 0.015), ha='center', size=10)\n# plt.title('The Impact of Content Cop')\n# plt.savefig('pct_cc.svg')",
    "id": "2df2182ab54842498ef70c9d7e8c3931",
    "idx": 9,
    "time": "2021-01-27T00:18:15.214Z",
    "type": "execution"
   },
   {
    "code": "# all_films.to_csv(\"all_films.csv\", index=False)",
    "id": "76def201162a44fe8a10a32d4dc90bc7",
    "idx": 10,
    "time": "2021-01-27T00:18:15.216Z",
    "type": "execution"
   },
   {
    "code": "#add more movies\nimport pandas as pd\n\nmovie_urls['Tenet'] = 'https://www.rottentomatoes.com/m/tenet/'\nmovie_urls['Scoob'] = 'https://www.rottentomatoes.com/m/scoob/'\nmovie_urls['The Marksman'] = 'https://www.rottentomatoes.com/m/the_marksman_2021/'\nmovie_urls['Artemis Fowl'] = 'https://www.rottentomatoes.com/m/artemis_fowl/'\nmovie_urls['Lovebirds'] = 'https://www.rottentomatoes.com/m/the_lovebirds_2020/'\n\nnewkeys = ['Tenet', 'Scoob', 'The Marksman', 'Artemis Fowl', 'Lovebirds']\ndfs = []\n\nfor key in newkeys:\n    print(movie_urls[key])\n    temp = get_critic_reviews(movie_urls[key])\n    df = pd.DataFrame.from_dict(temp)\n    df['Film'] = key\n    dfs.append(df)",
    "id": "61e72b596e6643f891e63bc4132352a6",
    "idx": 11,
    "time": "2021-01-27T00:18:15.217Z",
    "type": "execution"
   },
   {
    "code": "new_films = pd.concat(dfs)\nnew_films",
    "id": "b52a64b1f3904895853d7598c1701442",
    "idx": 12,
    "time": "2021-01-27T00:18:15.219Z",
    "type": "execution"
   },
   {
    "code": "new_films['score'] = new_films['fresh'].apply(lambda x: 1 if x == 'fresh' else 0)\nnew_films",
    "id": "df0b0a25c2ea4dada89c360d5362812e",
    "idx": 13,
    "time": "2021-01-27T00:18:15.220Z",
    "type": "execution"
   },
   {
    "code": "new_films['date'] = pd.to_datetime(new_films['date'], format=\"%B %d, %Y\")\nnew_films = new_films.sort_values('date')",
    "id": "552d587e0007467ca1d99c4d87464486",
    "idx": 14,
    "time": "2021-01-27T00:18:15.221Z",
    "type": "execution"
   },
   {
    "code": "new_films",
    "id": "17ed9fbe70db4d6ab3dbb8e037efef5b",
    "idx": 15,
    "time": "2021-01-27T00:18:15.223Z",
    "type": "execution"
   },
   {
    "code": "import matplotlib.pyplot as plt\n\nfor key in newkeys:\n#     pd.to_numeric(df.Subs).plot.line()\n    df = new_films[new_films==key]\n    plt.plot(calculate_score(key, new_films), label=key)\n#     plt.plot(np.arange(len(df.index)), pd.to_numeric(df.Total).pct_change(), label = df.Name.values[0], color = colors[i])\n#     plt.axvline(x=30, color='red', linestyle='dashed',linewidth=0.5)\n    plt.ylabel('Percent Change in Subscribers by Day')\n    plt.xlabel(\"Day (0 is 1 month before Content Cop's release)\")\n    plt.legend()",
    "id": "4c6477ce81f24006b86f338b7f371f92",
    "idx": 16,
    "time": "2021-01-27T00:18:15.225Z",
    "type": "execution"
   },
   {
    "code": "all_films = pd.read_csv(\"all_films.csv\")\nall_films",
    "id": "b5c21d498b654dbb86b5539a331743e9",
    "idx": 17,
    "time": "2021-01-27T00:18:15.227Z",
    "type": "execution"
   },
   {
    "code": "all_films = pd.concat([all_films, new_films])",
    "id": "2de1ff824f4b4a5a8a28a100b4694d6f",
    "idx": 18,
    "time": "2021-01-27T00:18:15.228Z",
    "type": "execution"
   },
   {
    "code": "all_films['date'] = pd.to_datetime(all_films['date'])\nall_films = all_films.sort_values('date')",
    "id": "c3b00c043c2c46938aaf29a975351135",
    "idx": 19,
    "time": "2021-01-27T00:18:15.228Z",
    "type": "execution"
   },
   {
    "code": "for key in movie_urls.keys():\n#     pd.to_numeric(df.Subs).plot.line()\n    df = all_films[all_films==key]\n    plt.plot(calculate_score(key, all_films), label=key)\n#     plt.plot(np.arange(len(df.index)), pd.to_numeric(df.Total).pct_change(), label = df.Name.values[0], color = colors[i])\n#     plt.axvline(x=30, color='red', linestyle='dashed',linewidth=0.5)\n    plt.ylabel('Percent Change in Subscribers by Day')\n    plt.xlabel(\"Day (0 is 1 month before Content Cop's release)\")\n    plt.legend()\n# plt.annotate('Content Cop released', xy=(30, 0.015), ha='center', size=10)\n# plt.title('The Impact of Content Cop')\n# plt.savefig('pct_cc.svg')",
    "id": "f4a2a4c0db4a466b899d078ba3a2b737",
    "idx": 20,
    "time": "2021-01-27T00:18:15.229Z",
    "type": "execution"
   },
   {
    "code": "%config InlineBackend.figure_format = 'svg'",
    "id": "8066d71185b344e68a5202b5f02658af",
    "idx": 21,
    "time": "2021-01-27T00:18:15.230Z",
    "type": "execution"
   },
   {
    "code": "def plot_film(film):\n    df = all_films[all_films==film]\n    series = calculate_score(film, all_films)\n    plt.plot(series)\n    plt.axhline(y=0.75, color='yellow', linestyle='dashed',linewidth=0.5)\n    plt.axhline(y=0.6, color='red', linestyle='dashed',linewidth=0.5)\n    plt.axhspan(0.75, 1, alpha=0.5, color='lightgreen')\n    plt.axhspan(0.6,.75, alpha=0.5, color='#F6F7A8')\n    plt.axhspan(0, 0.6, alpha=0.5, color='salmon')\n    plt.ylim(series.min(), series.max())\n    plt.xticks(rotation=45, ha=\"right\")\n    plt.title(film + \" Rotten Tomatoes Score over Time\")",
    "id": "7a774c9950fa45698183e4228404cda1",
    "idx": 22,
    "time": "2021-01-27T00:18:15.231Z",
    "type": "execution"
   },
   {
    "code": "# calculate_score(\"Artemis Fowl\",all_films)\nplot_film(\"Artemis Fowl\")",
    "id": "b7735f14cc444cfcbb9a225e52f32b96",
    "idx": 23,
    "time": "2021-01-27T00:18:15.232Z",
    "type": "execution"
   },
   {
    "code": "# calculate_score(\"Wonder Woman 1984\",all_films).plot()\nplot_film(\"Wonder Woman 1984\")",
    "id": "718d9ad72a6644f1b0512e6341e4215d",
    "idx": 24,
    "time": "2021-01-27T00:18:15.233Z",
    "type": "execution"
   },
   {
    "code": "# calculate_score(\"Mulan\",all_films).plot()\nplot_film(\"Mulan\")",
    "id": "3ee93c9b761748559d88a432bffe4673",
    "idx": 25,
    "time": "2021-01-27T00:18:15.234Z",
    "type": "execution"
   },
   {
    "code": "# calculate_score(\"Tenet\",all_films).plot()\nplot_film(\"Tenet\")",
    "id": "a2c2ec3bf43c4ea88f43267551b13aa5",
    "idx": 26,
    "time": "2021-01-27T00:18:15.235Z",
    "type": "execution"
   },
   {
    "code": "plot_film(\"Lovebirds\")",
    "id": "56ac30e5452c43a4b4d6fd823dc946cf",
    "idx": 27,
    "time": "2021-01-27T00:18:15.238Z",
    "type": "execution"
   },
   {
    "code": "movie_urls.keys()",
    "id": "ea2b9d6daa7e4c59b21dbedc2bde8446",
    "idx": 28,
    "time": "2021-01-27T00:18:15.240Z",
    "type": "execution"
   },
   {
    "code": "plot_film(\"Scoob\")",
    "id": "e0de2efc4fa8444b867726348d38bd7c",
    "idx": 29,
    "time": "2021-01-27T00:18:15.241Z",
    "type": "execution"
   },
   {
    "code": "plot_film(\"Birds of Prey\")",
    "id": "8d5262a6f57449278d48a2d966e7c6a3",
    "idx": 30,
    "time": "2021-01-27T00:18:15.243Z",
    "type": "execution"
   },
   {
    "code": "plot_film(\"The Marksman\")",
    "id": "31b7f32da2bc458f81c5bdc2427308b8",
    "idx": 31,
    "time": "2021-01-27T00:18:15.244Z",
    "type": "execution"
   },
   {
    "code": "all_films.to_csv(\"new_films.csv\",index=False)",
    "id": "59ce187c1c0f425e8d9572e7dc688abf",
    "idx": 32,
    "time": "2021-01-27T00:18:15.245Z",
    "type": "execution"
   },
   {
    "code": "movie_urls.keys()",
    "id": "e13eef2bc3684d108942ca0d5772bc3d",
    "idx": 33,
    "time": "2021-01-27T00:18:15.246Z",
    "type": "execution"
   },
   {
    "code": "plot_film(\"Sonic\")",
    "id": "5caab196d71847da906897524652f0e7",
    "idx": 34,
    "time": "2021-01-27T00:18:15.247Z",
    "type": "execution"
   },
   {
    "id": "c088557172df4ee88340993c0d83f871",
    "time": "2021-01-27T00:18:15.557Z",
    "type": "completion"
   },
   {
    "id": "473f70b9197047778ba396a40a4ed7a7",
    "time": "2021-01-27T00:18:15.562Z",
    "type": "completion"
   },
   {
    "id": "2a164d4bc03440c287cd2aa9baee929e",
    "time": "2021-01-27T00:18:15.610Z",
    "type": "completion"
   },
   {
    "id": "ba75f81eae0c43879ade708c52166e21",
    "time": "2021-01-27T00:18:15.613Z",
    "type": "completion"
   },
   {
    "code": "all_films[(all_films[\"Film\"]==\"Sonic\") & (all_films[\"date\"]==\"2020-02-12\")]",
    "id": "1ad96a7a631c410b8001bbd8c1d67709",
    "idx": 35,
    "time": "2021-01-27T00:18:23.208Z",
    "type": "execution"
   },
   {
    "code": "plot_film(\"Aladdin\")",
    "id": "e9bb416227734bad86fbd61e3ae633f3",
    "idx": 36,
    "time": "2021-01-27T00:18:28.897Z",
    "type": "execution"
   },
   {
    "id": "a1ef4cd89f0f41c8a9233b92ab030587",
    "time": "2021-01-27T00:20:49.955Z",
    "type": "completion"
   },
   {
    "id": "0ef9e93206b741ab896dda73e440fe69",
    "time": "2021-01-27T00:20:50.016Z",
    "type": "completion"
   },
   {
    "id": "bd3af87003f34f009f0f49e7c7cea343",
    "time": "2021-01-27T00:20:50.053Z",
    "type": "completion"
   },
   {
    "id": "59dcb1b5e4a6427482402c1d1c927436",
    "time": "2021-01-27T00:20:50.068Z",
    "type": "completion"
   },
   {
    "id": "5e1cead1642b4c288daa8723c29a17c1",
    "time": "2021-01-27T00:20:50.104Z",
    "type": "completion"
   },
   {
    "id": "2df2182ab54842498ef70c9d7e8c3931",
    "time": "2021-01-27T00:20:50.505Z",
    "type": "completion"
   },
   {
    "id": "76def201162a44fe8a10a32d4dc90bc7",
    "time": "2021-01-27T00:20:50.507Z",
    "type": "completion"
   },
   {
    "id": "61e72b596e6643f891e63bc4132352a6",
    "time": "2021-01-27T00:20:50.551Z",
    "type": "completion"
   },
   {
    "id": "b52a64b1f3904895853d7598c1701442",
    "time": "2021-01-27T00:20:50.553Z",
    "type": "completion"
   },
   {
    "id": "df0b0a25c2ea4dada89c360d5362812e",
    "time": "2021-01-27T00:20:50.603Z",
    "type": "completion"
   },
   {
    "id": "552d587e0007467ca1d99c4d87464486",
    "time": "2021-01-27T00:20:50.609Z",
    "type": "completion"
   },
   {
    "id": "17ed9fbe70db4d6ab3dbb8e037efef5b",
    "time": "2021-01-27T00:20:50.614Z",
    "type": "completion"
   },
   {
    "id": "4c6477ce81f24006b86f338b7f371f92",
    "time": "2021-01-27T00:20:50.657Z",
    "type": "completion"
   },
   {
    "id": "b5c21d498b654dbb86b5539a331743e9",
    "time": "2021-01-27T00:20:50.660Z",
    "type": "completion"
   },
   {
    "id": "2de1ff824f4b4a5a8a28a100b4694d6f",
    "time": "2021-01-27T00:20:50.664Z",
    "type": "completion"
   },
   {
    "id": "c3b00c043c2c46938aaf29a975351135",
    "time": "2021-01-27T00:20:50.665Z",
    "type": "completion"
   },
   {
    "id": "f4a2a4c0db4a466b899d078ba3a2b737",
    "time": "2021-01-27T00:20:50.667Z",
    "type": "completion"
   },
   {
    "id": "8066d71185b344e68a5202b5f02658af",
    "time": "2021-01-27T00:20:50.668Z",
    "type": "completion"
   },
   {
    "id": "7a774c9950fa45698183e4228404cda1",
    "time": "2021-01-27T00:20:50.711Z",
    "type": "completion"
   },
   {
    "id": "b7735f14cc444cfcbb9a225e52f32b96",
    "time": "2021-01-27T00:20:50.722Z",
    "type": "completion"
   },
   {
    "id": "718d9ad72a6644f1b0512e6341e4215d",
    "time": "2021-01-27T00:20:50.723Z",
    "type": "completion"
   },
   {
    "id": "3ee93c9b761748559d88a432bffe4673",
    "time": "2021-01-27T00:20:50.724Z",
    "type": "completion"
   },
   {
    "id": "a2c2ec3bf43c4ea88f43267551b13aa5",
    "time": "2021-01-27T00:20:50.724Z",
    "type": "completion"
   },
   {
    "id": "56ac30e5452c43a4b4d6fd823dc946cf",
    "time": "2021-01-27T00:20:50.725Z",
    "type": "completion"
   },
   {
    "id": "ea2b9d6daa7e4c59b21dbedc2bde8446",
    "time": "2021-01-27T00:20:50.725Z",
    "type": "completion"
   },
   {
    "id": "e0de2efc4fa8444b867726348d38bd7c",
    "time": "2021-01-27T00:20:50.726Z",
    "type": "completion"
   },
   {
    "id": "8d5262a6f57449278d48a2d966e7c6a3",
    "time": "2021-01-27T00:20:50.726Z",
    "type": "completion"
   },
   {
    "id": "31b7f32da2bc458f81c5bdc2427308b8",
    "time": "2021-01-27T00:20:50.726Z",
    "type": "completion"
   },
   {
    "id": "59ce187c1c0f425e8d9572e7dc688abf",
    "time": "2021-01-27T00:20:50.727Z",
    "type": "completion"
   },
   {
    "id": "e13eef2bc3684d108942ca0d5772bc3d",
    "time": "2021-01-27T00:20:50.727Z",
    "type": "completion"
   },
   {
    "id": "5caab196d71847da906897524652f0e7",
    "time": "2021-01-27T00:20:50.771Z",
    "type": "completion"
   },
   {
    "id": "1ad96a7a631c410b8001bbd8c1d67709",
    "time": "2021-01-27T00:20:50.778Z",
    "type": "completion"
   },
   {
    "id": "e9bb416227734bad86fbd61e3ae633f3",
    "time": "2021-01-27T00:20:50.779Z",
    "type": "completion"
   },
   {
    "code": "# calculate_score(\"Soul\").plot()\nimport matplotlib.pyplot as plt\n\nfor key in movie_urls.keys():\n#     pd.to_numeric(df.Subs).plot.line()\n    df = all_films[all_films==key]\n    plt.plot(calculate_score(key, all_films), label=key)\n#     plt.plot(np.arange(len(df.index)), pd.to_numeric(df.Total).pct_change(), label = df.Name.values[0], color = colors[i])\n#     plt.axvline(x=30, color='red', linestyle='dashed',linewidth=0.5)\n    plt.ylabel('Percent Change in Subscribers by Day')\n    plt.xlabel(\"Day (0 is 1 month before Content Cop's release)\")\n    plt.legend()\n# plt.annotate('Content Cop released', xy=(30, 0.015), ha='center', size=10)\n# plt.title('The Impact of Content Cop')\n# plt.savefig('pct_cc.svg')",
    "id": "2df2182ab54842498ef70c9d7e8c3931",
    "idx": 9,
    "time": "2021-01-27T00:22:18.205Z",
    "type": "execution"
   },
   {
    "id": "2df2182ab54842498ef70c9d7e8c3931",
    "time": "2021-01-27T00:22:18.970Z",
    "type": "completion"
   },
   {
    "code": "# calculate_score(\"Soul\").plot()\nimport matplotlib.pyplot as plt\n\nfor key in movie_urls.keys():\n#     pd.to_numeric(df.Subs).plot.line()\n    df = all_films[all_films==key]\n    plt.plot(calculate_score(key, all_films), label=key)\n#     plt.plot(np.arange(len(df.index)), pd.to_numeric(df.Total).pct_change(), label = df.Name.values[0], color = colors[i])\n#     plt.axvline(x=30, color='red', linestyle='dashed',linewidth=0.5)\n    plt.ylabel('Percent Change in Subscribers by Day')\n    plt.xlabel(\"Day (0 is 1 month before Content Cop's release)\")\n    plt.legend()\n# plt.annotate('Content Cop released', xy=(30, 0.015), ha='center', size=10)\n# plt.title('The Impact of Content Cop')\n# plt.savefig('pct_cc.svg')",
    "id": "2df2182ab54842498ef70c9d7e8c3931",
    "idx": 9,
    "time": "2021-01-27T00:22:46.286Z",
    "type": "execution"
   },
   {
    "code": "# all_films.to_csv(\"all_films.csv\", index=False)",
    "id": "76def201162a44fe8a10a32d4dc90bc7",
    "idx": 10,
    "time": "2021-01-27T00:22:46.288Z",
    "type": "execution"
   },
   {
    "code": "#add more movies\nimport pandas as pd\n\nmovie_urls['Tenet'] = 'https://www.rottentomatoes.com/m/tenet/'\nmovie_urls['Scoob'] = 'https://www.rottentomatoes.com/m/scoob/'\nmovie_urls['The Marksman'] = 'https://www.rottentomatoes.com/m/the_marksman_2021/'\nmovie_urls['Artemis Fowl'] = 'https://www.rottentomatoes.com/m/artemis_fowl/'\nmovie_urls['Lovebirds'] = 'https://www.rottentomatoes.com/m/the_lovebirds_2020/'\n\nnewkeys = ['Tenet', 'Scoob', 'The Marksman', 'Artemis Fowl', 'Lovebirds']\ndfs = []\n\nfor key in newkeys:\n    print(movie_urls[key])\n    temp = get_critic_reviews(movie_urls[key])\n    df = pd.DataFrame.from_dict(temp)\n    df['Film'] = key\n    dfs.append(df)",
    "id": "61e72b596e6643f891e63bc4132352a6",
    "idx": 11,
    "time": "2021-01-27T00:22:46.289Z",
    "type": "execution"
   },
   {
    "code": "new_films = pd.concat(dfs)\nnew_films",
    "id": "b52a64b1f3904895853d7598c1701442",
    "idx": 12,
    "time": "2021-01-27T00:22:46.290Z",
    "type": "execution"
   },
   {
    "code": "new_films['score'] = new_films['fresh'].apply(lambda x: 1 if x == 'fresh' else 0)\nnew_films",
    "id": "df0b0a25c2ea4dada89c360d5362812e",
    "idx": 13,
    "time": "2021-01-27T00:22:46.291Z",
    "type": "execution"
   },
   {
    "code": "new_films['date'] = pd.to_datetime(new_films['date'], format=\"%B %d, %Y\")\nnew_films = new_films.sort_values('date')",
    "id": "552d587e0007467ca1d99c4d87464486",
    "idx": 14,
    "time": "2021-01-27T00:22:46.292Z",
    "type": "execution"
   },
   {
    "code": "new_films",
    "id": "17ed9fbe70db4d6ab3dbb8e037efef5b",
    "idx": 15,
    "time": "2021-01-27T00:22:46.293Z",
    "type": "execution"
   },
   {
    "code": "import matplotlib.pyplot as plt\n\nfor key in newkeys:\n#     pd.to_numeric(df.Subs).plot.line()\n    df = new_films[new_films==key]\n    plt.plot(calculate_score(key, new_films), label=key)\n#     plt.plot(np.arange(len(df.index)), pd.to_numeric(df.Total).pct_change(), label = df.Name.values[0], color = colors[i])\n#     plt.axvline(x=30, color='red', linestyle='dashed',linewidth=0.5)\n    plt.ylabel('Percent Change in Subscribers by Day')\n    plt.xlabel(\"Day (0 is 1 month before Content Cop's release)\")\n    plt.legend()",
    "id": "4c6477ce81f24006b86f338b7f371f92",
    "idx": 16,
    "time": "2021-01-27T00:22:46.294Z",
    "type": "execution"
   },
   {
    "code": "all_films = pd.read_csv(\"all_films.csv\")\nall_films",
    "id": "b5c21d498b654dbb86b5539a331743e9",
    "idx": 17,
    "time": "2021-01-27T00:22:46.295Z",
    "type": "execution"
   },
   {
    "code": "all_films = pd.concat([all_films, new_films])",
    "id": "2de1ff824f4b4a5a8a28a100b4694d6f",
    "idx": 18,
    "time": "2021-01-27T00:22:46.296Z",
    "type": "execution"
   },
   {
    "code": "all_films['date'] = pd.to_datetime(all_films['date'])\nall_films = all_films.sort_values('date')",
    "id": "c3b00c043c2c46938aaf29a975351135",
    "idx": 19,
    "time": "2021-01-27T00:22:46.298Z",
    "type": "execution"
   },
   {
    "code": "for key in movie_urls.keys():\n#     pd.to_numeric(df.Subs).plot.line()\n    df = all_films[all_films==key]\n    plt.plot(calculate_score(key, all_films), label=key)\n#     plt.plot(np.arange(len(df.index)), pd.to_numeric(df.Total).pct_change(), label = df.Name.values[0], color = colors[i])\n#     plt.axvline(x=30, color='red', linestyle='dashed',linewidth=0.5)\n    plt.ylabel('Percent Change in Subscribers by Day')\n    plt.xlabel(\"Day (0 is 1 month before Content Cop's release)\")\n    plt.legend()\n# plt.annotate('Content Cop released', xy=(30, 0.015), ha='center', size=10)\n# plt.title('The Impact of Content Cop')\n# plt.savefig('pct_cc.svg')",
    "id": "f4a2a4c0db4a466b899d078ba3a2b737",
    "idx": 20,
    "time": "2021-01-27T00:22:46.299Z",
    "type": "execution"
   },
   {
    "code": "%config InlineBackend.figure_format = 'svg'",
    "id": "8066d71185b344e68a5202b5f02658af",
    "idx": 21,
    "time": "2021-01-27T00:22:46.300Z",
    "type": "execution"
   },
   {
    "code": "def plot_film(film):\n    df = all_films[all_films==film]\n    series = calculate_score(film, all_films)\n    plt.plot(series)\n    plt.axhline(y=0.75, color='yellow', linestyle='dashed',linewidth=0.5)\n    plt.axhline(y=0.6, color='red', linestyle='dashed',linewidth=0.5)\n    plt.axhspan(0.75, 1, alpha=0.5, color='lightgreen')\n    plt.axhspan(0.6,.75, alpha=0.5, color='#F6F7A8')\n    plt.axhspan(0, 0.6, alpha=0.5, color='salmon')\n    plt.ylim(series.min(), series.max())\n    plt.xticks(rotation=45, ha=\"right\")\n    plt.title(film + \" Rotten Tomatoes Score over Time\")",
    "id": "7a774c9950fa45698183e4228404cda1",
    "idx": 22,
    "time": "2021-01-27T00:22:46.302Z",
    "type": "execution"
   },
   {
    "code": "# calculate_score(\"Artemis Fowl\",all_films)\nplot_film(\"Artemis Fowl\")",
    "id": "b7735f14cc444cfcbb9a225e52f32b96",
    "idx": 23,
    "time": "2021-01-27T00:22:46.303Z",
    "type": "execution"
   },
   {
    "code": "# calculate_score(\"Wonder Woman 1984\",all_films).plot()\nplot_film(\"Wonder Woman 1984\")",
    "id": "718d9ad72a6644f1b0512e6341e4215d",
    "idx": 24,
    "time": "2021-01-27T00:22:46.304Z",
    "type": "execution"
   },
   {
    "code": "# calculate_score(\"Mulan\",all_films).plot()\nplot_film(\"Mulan\")",
    "id": "3ee93c9b761748559d88a432bffe4673",
    "idx": 25,
    "time": "2021-01-27T00:22:46.305Z",
    "type": "execution"
   },
   {
    "code": "# calculate_score(\"Tenet\",all_films).plot()\nplot_film(\"Tenet\")",
    "id": "a2c2ec3bf43c4ea88f43267551b13aa5",
    "idx": 26,
    "time": "2021-01-27T00:22:46.306Z",
    "type": "execution"
   },
   {
    "code": "plot_film(\"Lovebirds\")",
    "id": "56ac30e5452c43a4b4d6fd823dc946cf",
    "idx": 27,
    "time": "2021-01-27T00:22:46.307Z",
    "type": "execution"
   },
   {
    "code": "movie_urls.keys()",
    "id": "ea2b9d6daa7e4c59b21dbedc2bde8446",
    "idx": 28,
    "time": "2021-01-27T00:22:46.308Z",
    "type": "execution"
   },
   {
    "code": "plot_film(\"Scoob\")",
    "id": "e0de2efc4fa8444b867726348d38bd7c",
    "idx": 29,
    "time": "2021-01-27T00:22:46.309Z",
    "type": "execution"
   },
   {
    "code": "plot_film(\"Birds of Prey\")",
    "id": "8d5262a6f57449278d48a2d966e7c6a3",
    "idx": 30,
    "time": "2021-01-27T00:22:46.310Z",
    "type": "execution"
   },
   {
    "code": "plot_film(\"The Marksman\")",
    "id": "31b7f32da2bc458f81c5bdc2427308b8",
    "idx": 31,
    "time": "2021-01-27T00:22:46.311Z",
    "type": "execution"
   },
   {
    "code": "# all_films.to_csv(\"new_films.csv\",index=False)",
    "id": "59ce187c1c0f425e8d9572e7dc688abf",
    "idx": 32,
    "time": "2021-01-27T00:22:46.313Z",
    "type": "execution"
   },
   {
    "code": "movie_urls.keys()",
    "id": "e13eef2bc3684d108942ca0d5772bc3d",
    "idx": 33,
    "time": "2021-01-27T00:22:46.314Z",
    "type": "execution"
   },
   {
    "code": "plot_film(\"Sonic\")",
    "id": "5caab196d71847da906897524652f0e7",
    "idx": 34,
    "time": "2021-01-27T00:22:46.315Z",
    "type": "execution"
   },
   {
    "code": "all_films[(all_films[\"Film\"]==\"Sonic\") & (all_films[\"date\"]==\"2020-02-12\")]",
    "id": "1ad96a7a631c410b8001bbd8c1d67709",
    "idx": 35,
    "time": "2021-01-27T00:22:46.316Z",
    "type": "execution"
   },
   {
    "code": "plot_film(\"Aladdin\")",
    "id": "e9bb416227734bad86fbd61e3ae633f3",
    "idx": 36,
    "time": "2021-01-27T00:22:46.317Z",
    "type": "execution"
   },
   {
    "id": "2df2182ab54842498ef70c9d7e8c3931",
    "time": "2021-01-27T00:22:47.047Z",
    "type": "completion"
   },
   {
    "id": "76def201162a44fe8a10a32d4dc90bc7",
    "time": "2021-01-27T00:22:47.050Z",
    "type": "completion"
   },
   {
    "code": "plot_film(\"Lion King\")",
    "id": "24b777062e10408c86259b80b25a5ac4",
    "idx": 37,
    "time": "2021-01-27T00:22:55.588Z",
    "type": "execution"
   },
   {
    "code": "plot_film(\"Captain Marvel\")",
    "id": "c5f5b6e95e54463fa76c7144cf506bc1",
    "idx": 38,
    "time": "2021-01-27T00:23:03.027Z",
    "type": "execution"
   },
   {
    "code": "plot_film(\"Godzilla: King of the Monsters\")",
    "id": "69e596d25de54f13a7ceaec498b8d0ee",
    "idx": 39,
    "time": "2021-01-27T00:23:11.664Z",
    "type": "execution"
   },
   {
    "id": "61e72b596e6643f891e63bc4132352a6",
    "time": "2021-01-27T00:23:20.795Z",
    "type": "completion"
   },
   {
    "id": "b52a64b1f3904895853d7598c1701442",
    "time": "2021-01-27T00:23:20.843Z",
    "type": "completion"
   },
   {
    "id": "df0b0a25c2ea4dada89c360d5362812e",
    "time": "2021-01-27T00:23:20.880Z",
    "type": "completion"
   },
   {
    "id": "552d587e0007467ca1d99c4d87464486",
    "time": "2021-01-27T00:23:20.888Z",
    "type": "completion"
   },
   {
    "id": "17ed9fbe70db4d6ab3dbb8e037efef5b",
    "time": "2021-01-27T00:23:20.919Z",
    "type": "completion"
   },
   {
    "code": "plot_film(\"Joker\")",
    "id": "bdb5d1b166fb44a18595353b2786f00c",
    "idx": 40,
    "time": "2021-01-27T00:23:21.065Z",
    "type": "execution"
   },
   {
    "id": "4c6477ce81f24006b86f338b7f371f92",
    "time": "2021-01-27T00:23:21.270Z",
    "type": "completion"
   },
   {
    "id": "b5c21d498b654dbb86b5539a331743e9",
    "time": "2021-01-27T00:23:21.273Z",
    "type": "completion"
   },
   {
    "id": "2de1ff824f4b4a5a8a28a100b4694d6f",
    "time": "2021-01-27T00:23:21.306Z",
    "type": "completion"
   },
   {
    "id": "c3b00c043c2c46938aaf29a975351135",
    "time": "2021-01-27T00:23:21.308Z",
    "type": "completion"
   },
   {
    "id": "f4a2a4c0db4a466b899d078ba3a2b737",
    "time": "2021-01-27T00:23:22.180Z",
    "type": "completion"
   },
   {
    "id": "8066d71185b344e68a5202b5f02658af",
    "time": "2021-01-27T00:23:22.182Z",
    "type": "completion"
   },
   {
    "id": "7a774c9950fa45698183e4228404cda1",
    "time": "2021-01-27T00:23:22.189Z",
    "type": "completion"
   },
   {
    "id": "b7735f14cc444cfcbb9a225e52f32b96",
    "time": "2021-01-27T00:23:22.651Z",
    "type": "completion"
   },
   {
    "id": "718d9ad72a6644f1b0512e6341e4215d",
    "time": "2021-01-27T00:23:22.669Z",
    "type": "completion"
   },
   {
    "id": "3ee93c9b761748559d88a432bffe4673",
    "time": "2021-01-27T00:23:23.198Z",
    "type": "completion"
   },
   {
    "id": "a2c2ec3bf43c4ea88f43267551b13aa5",
    "time": "2021-01-27T00:23:23.226Z",
    "type": "completion"
   },
   {
    "id": "56ac30e5452c43a4b4d6fd823dc946cf",
    "time": "2021-01-27T00:23:23.381Z",
    "type": "completion"
   },
   {
    "id": "ea2b9d6daa7e4c59b21dbedc2bde8446",
    "time": "2021-01-27T00:23:23.384Z",
    "type": "completion"
   },
   {
    "id": "e0de2efc4fa8444b867726348d38bd7c",
    "time": "2021-01-27T00:23:23.811Z",
    "type": "completion"
   },
   {
    "id": "8d5262a6f57449278d48a2d966e7c6a3",
    "time": "2021-01-27T00:23:24.138Z",
    "type": "completion"
   },
   {
    "id": "31b7f32da2bc458f81c5bdc2427308b8",
    "time": "2021-01-27T00:23:24.144Z",
    "type": "completion"
   },
   {
    "id": "59ce187c1c0f425e8d9572e7dc688abf",
    "time": "2021-01-27T00:23:24.349Z",
    "type": "completion"
   },
   {
    "id": "e13eef2bc3684d108942ca0d5772bc3d",
    "time": "2021-01-27T00:23:24.352Z",
    "type": "completion"
   },
   {
    "id": "5caab196d71847da906897524652f0e7",
    "time": "2021-01-27T00:23:24.385Z",
    "type": "completion"
   },
   {
    "id": "1ad96a7a631c410b8001bbd8c1d67709",
    "time": "2021-01-27T00:23:24.619Z",
    "type": "completion"
   },
   {
    "id": "e9bb416227734bad86fbd61e3ae633f3",
    "time": "2021-01-27T00:23:24.710Z",
    "type": "completion"
   },
   {
    "id": "24b777062e10408c86259b80b25a5ac4",
    "time": "2021-01-27T00:23:24.712Z",
    "type": "completion"
   },
   {
    "id": "c5f5b6e95e54463fa76c7144cf506bc1",
    "time": "2021-01-27T00:23:24.713Z",
    "type": "completion"
   },
   {
    "id": "69e596d25de54f13a7ceaec498b8d0ee",
    "time": "2021-01-27T00:23:24.713Z",
    "type": "completion"
   },
   {
    "id": "bdb5d1b166fb44a18595353b2786f00c",
    "time": "2021-01-27T00:23:24.713Z",
    "type": "completion"
   },
   {
    "code": "plot_film(\"Shazam!\")",
    "id": "bcfc5970b6ac4539875b98b4e37650c0",
    "idx": 41,
    "time": "2021-01-27T00:23:28.974Z",
    "type": "execution"
   },
   {
    "id": "bcfc5970b6ac4539875b98b4e37650c0",
    "time": "2021-01-27T00:23:29.600Z",
    "type": "completion"
   },
   {
    "code": "plot_film(\"Lion King\")",
    "id": "24b777062e10408c86259b80b25a5ac4",
    "idx": 37,
    "time": "2021-01-27T00:24:00.233Z",
    "type": "execution"
   },
   {
    "code": "plot_film(\"Captain Marvel\")",
    "id": "c5f5b6e95e54463fa76c7144cf506bc1",
    "idx": 38,
    "time": "2021-01-27T00:24:00.599Z",
    "type": "execution"
   },
   {
    "id": "24b777062e10408c86259b80b25a5ac4",
    "time": "2021-01-27T00:24:00.900Z",
    "type": "completion"
   },
   {
    "id": "c5f5b6e95e54463fa76c7144cf506bc1",
    "time": "2021-01-27T00:24:00.918Z",
    "type": "completion"
   },
   {
    "code": "def plot_film(film):\n    df = all_films[all_films==film]\n    series = calculate_score(film, all_films)\n    plt.plot(series)\n    plt.axhline(y=0.75, color='yellow', linestyle='dashed',linewidth=0.5)\n    plt.axhline(y=0.6, color='red', linestyle='dashed',linewidth=0.5)\n    plt.axhspan(0.75, 1, alpha=0.5, color='lightgreen')\n    plt.axhspan(0.6,.75, alpha=0.5, color='#F6F7A8')\n    plt.axhspan(0, 0.6, alpha=0.5, color='salmon')\n    print(series)\n    plt.ylim(series.min(), series.max())\n    plt.xticks(rotation=45, ha=\"right\")\n    plt.title(film + \" Rotten Tomatoes Score over Time\")",
    "id": "7a774c9950fa45698183e4228404cda1",
    "idx": 22,
    "time": "2021-01-27T00:24:21.714Z",
    "type": "execution"
   },
   {
    "id": "7a774c9950fa45698183e4228404cda1",
    "time": "2021-01-27T00:24:21.787Z",
    "type": "completion"
   },
   {
    "code": "plot_film(\"Aladdin\")",
    "id": "e9bb416227734bad86fbd61e3ae633f3",
    "idx": 36,
    "time": "2021-01-27T00:24:29.231Z",
    "type": "execution"
   },
   {
    "id": "e9bb416227734bad86fbd61e3ae633f3",
    "time": "2021-01-27T00:24:29.589Z",
    "type": "completion"
   },
   {
    "code": "# all_films.to_csv(\"all_films.csv\", index=False)\nall_films = pd.concat(dfs)\nall_films['score'] = all_films['fresh'].apply(lambda x: 1 if x == 'fresh' else 0)\nall_films['date'] = pd.to_datetime(all_films['date'], format=\"%B %d, %Y\")",
    "id": "76def201162a44fe8a10a32d4dc90bc7",
    "idx": 10,
    "time": "2021-01-27T00:26:10.934Z",
    "type": "execution"
   },
   {
    "id": "76def201162a44fe8a10a32d4dc90bc7",
    "time": "2021-01-27T00:26:11.040Z",
    "type": "completion"
   },
   {
    "code": "plot_film(\"Aladdin\")",
    "id": "e9bb416227734bad86fbd61e3ae633f3",
    "idx": 36,
    "time": "2021-01-27T00:26:14.897Z",
    "type": "execution"
   },
   {
    "id": "e9bb416227734bad86fbd61e3ae633f3",
    "time": "2021-01-27T00:26:15.420Z",
    "type": "completion"
   },
   {
    "code": "all_films",
    "id": "9e15cee6f0f3427388f15a9be4260c41",
    "idx": 36,
    "time": "2021-01-27T00:26:31.217Z",
    "type": "execution"
   },
   {
    "id": "9e15cee6f0f3427388f15a9be4260c41",
    "time": "2021-01-27T00:26:31.348Z",
    "type": "completion"
   },
   {
    "code": "dfs",
    "id": "9e15cee6f0f3427388f15a9be4260c41",
    "idx": 36,
    "time": "2021-01-27T00:26:36.620Z",
    "type": "execution"
   },
   {
    "id": "9e15cee6f0f3427388f15a9be4260c41",
    "time": "2021-01-27T00:26:36.811Z",
    "type": "completion"
   },
   {
    "code": "import requests\nimport time\n\n# requirements\nfrom bs4 import BeautifulSoup\nfrom requests import TooManyRedirects\nimport re\n\ndef _make_soup(url):\n    try:\n        r = requests.get(url)\n        soup = BeautifulSoup(r.content, 'html.parser')\n    except TooManyRedirects:\n        soup = ''\n    return soup\n\n#regex patterns\npage_pat = re.compile(r'Page 1 of \\d+')\nreview_pat = re.compile(r'<div class=\\\"the_review\\\" data-qa=\\\"review-text\\\">[;a-zA-Z\\s,-.\\'\\/\\?\\[\\]\\\":\\']*</div>')\nrating_pat = re.compile(r'Original Score:\\s([A-Z](\\+|-)?|\\d(.\\d)?(\\/\\d)?)')\nfresh_pat = re.compile(r'small\\s(fresh|rotten)\\\"')\ncritic_pat = re.compile(r'\\/\\\"\\>([A-Z][a-zA-Z]+\\s[A-Z][a-zA-Z\\-]+)|([A-Z][a-zA-Z.]+\\s[A-Z].?\\s[A-Z][a-zA-Z]+)|([A-Z][a-zA-Z]+\\s[A-Z]+\\'[A-Z][a-zA-Z]+)')\npublisher_pat = re.compile(r'\\\"subtle\\\">[a-zA-Z\\s,.\\(\\)\\'\\-&;!\\/\\d+]+</em>')\ndate_pat = re.compile(r'[a-zA-Z]+\\s\\d+,\\s\\d+')",
    "id": "c088557172df4ee88340993c0d83f871",
    "idx": 0,
    "time": "2021-01-27T00:27:53.270Z",
    "type": "execution"
   },
   {
    "code": "def _get_critic_reviews_from_page(soup):\n    reviews = list()\n    rating = list()\n    fresh = list()\n    critic = list()\n    top_critic = list()\n    publisher = list()\n    date = list()\n    \n    soup = str(soup)\n    review_soup = soup.split('=\"review_table')[1].split('row review_table_row')\n    review_soup.pop(0)\n\n    for review in review_soup:\n        match = re.findall(review_pat, str(review))\n        if len(match) > 0:\n            m = match[0]            \n            for iden in ['<div class=\"the_review\" data-qa=\"review-text\"> ','</div>']:\n                m = m.replace(iden,'')\n            reviews.append(m.strip('\"'))            \n            # extract rating\n            match = re.findall(rating_pat, str(review))\n            if len(match) > 0:\n                m = match[0][0]\n                if '/1' in m:\n                    sp_m = m.split('/')\n                    if sp_m[-1] == '1':\n                        sp_m[-1] = '10'\n                    m = '/'.join(sp_m)\n                rating.append(m)\n            else:\n                rating.append(None)            \n            # extract fresh indicator\n            match = re.findall(fresh_pat, str(review))\n            if len(match) > 0:\n                fresh.append(match[0])\n            else:\n                fresh.append(None)            \n            # extract critic\n            match = re.findall(critic_pat, str(review))\n            if len(match) > 0:\n                critic.append(''.join(match[0]))\n            else:\n                critic.append(None)            \n            # check if top critic\n            if '> Top Critic<' in str(review):\n                top_critic.append(1)\n            else:\n                top_critic.append(0)            \n            # extract publisher\n            match = re.findall(publisher_pat, str(review))\n            if len(match) > 0:\n                m = match[0]\n                m = m.replace('\"subtle\">', '')\n                m = m.replace('</em>','')\n                publisher.append(m)\n            else:\n                publisher.append(None)            \n            # extract date\n            match = re.findall(date_pat, str(review))\n            if len(match) > 0:\n                date.append(match[0].strip('\"'))\n            else:\n                date.append(None)\n            \n    return [reviews, rating, fresh, critic, top_critic, publisher, date]\n\ndef _get_num_pages(soup):\n    match = re.findall(page_pat,str(list(soup)))\n    if len(match) > 0:\n        match = match[0]\n        match = match.split(' of ')[-1]\n        return match\n    else:\n        return None",
    "id": "473f70b9197047778ba396a40a4ed7a7",
    "idx": 1,
    "time": "2021-01-27T00:27:53.275Z",
    "type": "execution"
   },
   {
    "code": "def get_critic_reviews(page):\n    info = [[],[],[],[],[],[],[]]\n    soup = _make_soup(page + \"reviews\")\n#     print(soup)\n    pages = _get_num_pages(soup)\n#     print(pages)\n    if pages is not None:\n        for page_num in range(1,int(pages)+1):\n            soup = _make_soup(page + \"reviews?page=\" + str(page_num) + \"&sort=\")\n            c_info = _get_critic_reviews_from_page(soup)\n            \n            # accumulate review info\n            for i in range(len(c_info)):\n                info[i] = info[i] + c_info[i]\n        \n        c_info = dict()\n        keys = ['reviews', 'rating', 'fresh', 'critic', 'top_critic', 'publisher', 'date']\n        for k in range(len(keys)):\n            c_info[keys[k]] = info[k]        \n    else:\n        c_info = None        \n    return c_info",
    "id": "2a164d4bc03440c287cd2aa9baee929e",
    "idx": 2,
    "time": "2021-01-27T00:27:53.277Z",
    "type": "execution"
   },
   {
    "code": "movie_urls = {'Wonder Woman 1984': 'https://www.rottentomatoes.com/m/wonder_woman_1984/', \n              'Soul':'https://www.rottentomatoes.com/m/soul_2020/', \n              'Mulan': 'https://www.rottentomatoes.com/m/mulan_2020/',\n              'Birds of Prey': 'https://www.rottentomatoes.com/m/birds_of_prey_2020/',\n              'Sonic': 'https://www.rottentomatoes.com/m/sonic_the_hedgehog_2020/'\n             }\n\nmovie_urls[\"Captain Marvel\"] = \"https://www.rottentomatoes.com/m/captain_marvel/\"\nmovie_urls[\"Lion King\"] = \"https://www.rottentomatoes.com/m/the_lion_king_2019/\"\nmovie_urls[\"Aladdin\"] = \"https://www.rottentomatoes.com/m/aladdin/\"\nmovie_urls[\"Joker\"] = \"https://www.rottentomatoes.com/m/joker_2019/\"\nmovie_urls[\"Shazam!\"] = \"https://www.rottentomatoes.com/m/shazam/\"\nmovie_urls[\"Godzilla: King of the Monsters\"] = \"https://www.rottentomatoes.com/m/godzilla_king_of_the_monsters_2019/\"\n\nmovie_urls['Tenet'] = 'https://www.rottentomatoes.com/m/tenet/'\nmovie_urls['Scoob'] = 'https://www.rottentomatoes.com/m/scoob/'\nmovie_urls['The Marksman'] = 'https://www.rottentomatoes.com/m/the_marksman_2021/'\nmovie_urls['Artemis Fowl'] = 'https://www.rottentomatoes.com/m/artemis_fowl/'\nmovie_urls['Lovebirds'] = 'https://www.rottentomatoes.com/m/the_lovebirds_2020/'\n\nmovie_urls.keys()",
    "id": "ba75f81eae0c43879ade708c52166e21",
    "idx": 3,
    "time": "2021-01-27T00:27:53.279Z",
    "type": "execution"
   },
   {
    "code": "import pandas as pd\n\ndfs = []\nfor key in movie_urls.keys():\n    temp = get_critic_reviews(movie_urls[key])\n    df = pd.DataFrame.from_dict(temp)\n    df['Film'] = key\n    dfs.append(df)",
    "id": "a1ef4cd89f0f41c8a9233b92ab030587",
    "idx": 4,
    "time": "2021-01-27T00:27:53.280Z",
    "type": "execution"
   },
   {
    "code": "all_films = pd.concat(dfs)\nall_films",
    "id": "0ef9e93206b741ab896dda73e440fe69",
    "idx": 5,
    "time": "2021-01-27T00:27:53.282Z",
    "type": "execution"
   },
   {
    "code": "all_films['score'] = all_films['fresh'].apply(lambda x: 1 if x == 'fresh' else 0)\nall_films",
    "id": "bd3af87003f34f009f0f49e7c7cea343",
    "idx": 6,
    "time": "2021-01-27T00:27:53.284Z",
    "type": "execution"
   },
   {
    "code": "all_films['date'] = pd.to_datetime(all_films['date'], format=\"%B %d, %Y\")\nall_films = all_films.sort_values('date')",
    "id": "59dcb1b5e4a6427482402c1d1c927436",
    "idx": 7,
    "time": "2021-01-27T00:27:53.286Z",
    "type": "execution"
   },
   {
    "code": "import numpy as np\n\n\ndef calculate_score(film, frame):\n    df = frame[frame['Film'] == film]\n    grouped_1 = df[['date', 'score']].groupby('date').agg([sum, 'count'])\n    grouped_1.columns = grouped_1.columns.droplevel(0)\n    return grouped_1.cumsum()['sum']/grouped_1.cumsum()['count']\n\ncalculate_score(\"Wonder Woman 1984\", all_films)",
    "id": "5e1cead1642b4c288daa8723c29a17c1",
    "idx": 8,
    "time": "2021-01-27T00:27:53.288Z",
    "type": "execution"
   },
   {
    "code": "# calculate_score(\"Soul\").plot()\nimport matplotlib.pyplot as plt\n\nfor key in movie_urls.keys():\n#     pd.to_numeric(df.Subs).plot.line()\n    df = all_films[all_films==key]\n    plt.plot(calculate_score(key, all_films), label=key)\n#     plt.plot(np.arange(len(df.index)), pd.to_numeric(df.Total).pct_change(), label = df.Name.values[0], color = colors[i])\n#     plt.axvline(x=30, color='red', linestyle='dashed',linewidth=0.5)\n    plt.ylabel('Percent Change in Subscribers by Day')\n    plt.xlabel(\"Day (0 is 1 month before Content Cop's release)\")\n    plt.legend()\n# plt.annotate('Content Cop released', xy=(30, 0.015), ha='center', size=10)\n# plt.title('The Impact of Content Cop')\n# plt.savefig('pct_cc.svg')",
    "id": "2df2182ab54842498ef70c9d7e8c3931",
    "idx": 9,
    "time": "2021-01-27T00:27:53.289Z",
    "type": "execution"
   },
   {
    "code": "# all_films.to_csv(\"all_films.csv\", index=False)\nall_films = pd.concat(dfs)\nall_films['score'] = all_films['fresh'].apply(lambda x: 1 if x == 'fresh' else 0)\nall_films['date'] = pd.to_datetime(all_films['date'], format=\"%B %d, %Y\")",
    "id": "76def201162a44fe8a10a32d4dc90bc7",
    "idx": 10,
    "time": "2021-01-27T00:27:53.291Z",
    "type": "execution"
   },
   {
    "code": "# all_films = pd.read_csv(\"all_films.csv\")\nall_films",
    "id": "b5c21d498b654dbb86b5539a331743e9",
    "idx": 11,
    "time": "2021-01-27T00:27:53.293Z",
    "type": "execution"
   },
   {
    "code": "all_films = pd.concat([all_films, new_films])",
    "id": "2de1ff824f4b4a5a8a28a100b4694d6f",
    "idx": 12,
    "time": "2021-01-27T00:27:53.294Z",
    "type": "execution"
   },
   {
    "code": "all_films['date'] = pd.to_datetime(all_films['date'])\nall_films = all_films.sort_values('date')",
    "id": "c3b00c043c2c46938aaf29a975351135",
    "idx": 13,
    "time": "2021-01-27T00:27:53.296Z",
    "type": "execution"
   },
   {
    "code": "for key in movie_urls.keys():\n#     pd.to_numeric(df.Subs).plot.line()\n    df = all_films[all_films==key]\n    plt.plot(calculate_score(key, all_films), label=key)\n#     plt.plot(np.arange(len(df.index)), pd.to_numeric(df.Total).pct_change(), label = df.Name.values[0], color = colors[i])\n#     plt.axvline(x=30, color='red', linestyle='dashed',linewidth=0.5)\n    plt.ylabel('Percent Change in Subscribers by Day')\n    plt.xlabel(\"Day (0 is 1 month before Content Cop's release)\")\n    plt.legend()\n# plt.annotate('Content Cop released', xy=(30, 0.015), ha='center', size=10)\n# plt.title('The Impact of Content Cop')\n# plt.savefig('pct_cc.svg')",
    "id": "f4a2a4c0db4a466b899d078ba3a2b737",
    "idx": 14,
    "time": "2021-01-27T00:27:53.298Z",
    "type": "execution"
   },
   {
    "code": "%config InlineBackend.figure_format = 'svg'",
    "id": "8066d71185b344e68a5202b5f02658af",
    "idx": 15,
    "time": "2021-01-27T00:27:53.299Z",
    "type": "execution"
   },
   {
    "code": "def plot_film(film):\n    df = all_films[all_films==film]\n    series = calculate_score(film, all_films)\n    plt.plot(series)\n    plt.axhline(y=0.75, color='yellow', linestyle='dashed',linewidth=0.5)\n    plt.axhline(y=0.6, color='red', linestyle='dashed',linewidth=0.5)\n    plt.axhspan(0.75, 1, alpha=0.5, color='lightgreen')\n    plt.axhspan(0.6,.75, alpha=0.5, color='#F6F7A8')\n    plt.axhspan(0, 0.6, alpha=0.5, color='salmon')\n    print(series)\n    plt.ylim(series.min(), series.max())\n    plt.xticks(rotation=45, ha=\"right\")\n    plt.title(film + \" Rotten Tomatoes Score over Time\")",
    "id": "7a774c9950fa45698183e4228404cda1",
    "idx": 16,
    "time": "2021-01-27T00:27:53.300Z",
    "type": "execution"
   },
   {
    "code": "# calculate_score(\"Artemis Fowl\",all_films)\nplot_film(\"Artemis Fowl\")",
    "id": "b7735f14cc444cfcbb9a225e52f32b96",
    "idx": 17,
    "time": "2021-01-27T00:27:53.303Z",
    "type": "execution"
   },
   {
    "code": "# calculate_score(\"Wonder Woman 1984\",all_films).plot()\nplot_film(\"Wonder Woman 1984\")",
    "id": "718d9ad72a6644f1b0512e6341e4215d",
    "idx": 18,
    "time": "2021-01-27T00:27:53.307Z",
    "type": "execution"
   },
   {
    "code": "# calculate_score(\"Mulan\",all_films).plot()\nplot_film(\"Mulan\")",
    "id": "3ee93c9b761748559d88a432bffe4673",
    "idx": 19,
    "time": "2021-01-27T00:27:53.309Z",
    "type": "execution"
   },
   {
    "code": "# calculate_score(\"Tenet\",all_films).plot()\nplot_film(\"Tenet\")",
    "id": "a2c2ec3bf43c4ea88f43267551b13aa5",
    "idx": 20,
    "time": "2021-01-27T00:27:53.311Z",
    "type": "execution"
   },
   {
    "code": "plot_film(\"Lovebirds\")",
    "id": "56ac30e5452c43a4b4d6fd823dc946cf",
    "idx": 21,
    "time": "2021-01-27T00:27:53.313Z",
    "type": "execution"
   },
   {
    "code": "movie_urls.keys()",
    "id": "ea2b9d6daa7e4c59b21dbedc2bde8446",
    "idx": 22,
    "time": "2021-01-27T00:27:53.315Z",
    "type": "execution"
   },
   {
    "code": "plot_film(\"Scoob\")",
    "id": "e0de2efc4fa8444b867726348d38bd7c",
    "idx": 23,
    "time": "2021-01-27T00:27:53.317Z",
    "type": "execution"
   },
   {
    "code": "plot_film(\"Birds of Prey\")",
    "id": "8d5262a6f57449278d48a2d966e7c6a3",
    "idx": 24,
    "time": "2021-01-27T00:27:53.319Z",
    "type": "execution"
   },
   {
    "code": "plot_film(\"The Marksman\")",
    "id": "31b7f32da2bc458f81c5bdc2427308b8",
    "idx": 25,
    "time": "2021-01-27T00:27:53.322Z",
    "type": "execution"
   },
   {
    "code": "# all_films.to_csv(\"new_films.csv\",index=False)",
    "id": "59ce187c1c0f425e8d9572e7dc688abf",
    "idx": 26,
    "time": "2021-01-27T00:27:53.323Z",
    "type": "execution"
   },
   {
    "code": "movie_urls.keys()",
    "id": "e13eef2bc3684d108942ca0d5772bc3d",
    "idx": 27,
    "time": "2021-01-27T00:27:53.324Z",
    "type": "execution"
   },
   {
    "code": "plot_film(\"Sonic\")",
    "id": "5caab196d71847da906897524652f0e7",
    "idx": 28,
    "time": "2021-01-27T00:27:53.326Z",
    "type": "execution"
   },
   {
    "code": "all_films[(all_films[\"Film\"]==\"Sonic\") & (all_films[\"date\"]==\"2020-02-12\")]",
    "id": "1ad96a7a631c410b8001bbd8c1d67709",
    "idx": 29,
    "time": "2021-01-27T00:27:53.328Z",
    "type": "execution"
   },
   {
    "code": "dfs",
    "id": "9e15cee6f0f3427388f15a9be4260c41",
    "idx": 30,
    "time": "2021-01-27T00:27:53.330Z",
    "type": "execution"
   },
   {
    "code": "plot_film(\"Aladdin\")",
    "id": "e9bb416227734bad86fbd61e3ae633f3",
    "idx": 31,
    "time": "2021-01-27T00:27:53.332Z",
    "type": "execution"
   },
   {
    "code": "plot_film(\"Lion King\")",
    "id": "24b777062e10408c86259b80b25a5ac4",
    "idx": 32,
    "time": "2021-01-27T00:27:53.334Z",
    "type": "execution"
   },
   {
    "code": "plot_film(\"Captain Marvel\")",
    "id": "c5f5b6e95e54463fa76c7144cf506bc1",
    "idx": 33,
    "time": "2021-01-27T00:27:53.336Z",
    "type": "execution"
   },
   {
    "code": "plot_film(\"Godzilla: King of the Monsters\")",
    "id": "69e596d25de54f13a7ceaec498b8d0ee",
    "idx": 34,
    "time": "2021-01-27T00:27:53.337Z",
    "type": "execution"
   },
   {
    "code": "plot_film(\"Joker\")",
    "id": "bdb5d1b166fb44a18595353b2786f00c",
    "idx": 35,
    "time": "2021-01-27T00:27:53.338Z",
    "type": "execution"
   },
   {
    "code": "plot_film(\"Shazam!\")",
    "id": "bcfc5970b6ac4539875b98b4e37650c0",
    "idx": 36,
    "time": "2021-01-27T00:27:53.340Z",
    "type": "execution"
   },
   {
    "id": "c088557172df4ee88340993c0d83f871",
    "time": "2021-01-27T00:27:53.445Z",
    "type": "completion"
   },
   {
    "id": "473f70b9197047778ba396a40a4ed7a7",
    "time": "2021-01-27T00:27:53.447Z",
    "type": "completion"
   },
   {
    "id": "2a164d4bc03440c287cd2aa9baee929e",
    "time": "2021-01-27T00:27:53.456Z",
    "type": "completion"
   },
   {
    "id": "ba75f81eae0c43879ade708c52166e21",
    "time": "2021-01-27T00:27:53.462Z",
    "type": "completion"
   },
   {
    "id": "a1ef4cd89f0f41c8a9233b92ab030587",
    "time": "2021-01-27T00:30:53.739Z",
    "type": "completion"
   },
   {
    "id": "0ef9e93206b741ab896dda73e440fe69",
    "time": "2021-01-27T00:30:53.792Z",
    "type": "completion"
   },
   {
    "id": "bd3af87003f34f009f0f49e7c7cea343",
    "time": "2021-01-27T00:30:53.797Z",
    "type": "completion"
   },
   {
    "id": "59dcb1b5e4a6427482402c1d1c927436",
    "time": "2021-01-27T00:30:53.798Z",
    "type": "completion"
   },
   {
    "id": "5e1cead1642b4c288daa8723c29a17c1",
    "time": "2021-01-27T00:30:53.826Z",
    "type": "completion"
   },
   {
    "id": "2df2182ab54842498ef70c9d7e8c3931",
    "time": "2021-01-27T00:30:54.680Z",
    "type": "completion"
   },
   {
    "id": "76def201162a44fe8a10a32d4dc90bc7",
    "time": "2021-01-27T00:30:54.682Z",
    "type": "completion"
   },
   {
    "id": "b5c21d498b654dbb86b5539a331743e9",
    "time": "2021-01-27T00:30:54.817Z",
    "type": "completion"
   },
   {
    "id": "2de1ff824f4b4a5a8a28a100b4694d6f",
    "time": "2021-01-27T00:30:54.820Z",
    "type": "completion"
   },
   {
    "id": "c3b00c043c2c46938aaf29a975351135",
    "time": "2021-01-27T00:30:54.822Z",
    "type": "completion"
   },
   {
    "id": "f4a2a4c0db4a466b899d078ba3a2b737",
    "time": "2021-01-27T00:30:55.646Z",
    "type": "completion"
   },
   {
    "id": "8066d71185b344e68a5202b5f02658af",
    "time": "2021-01-27T00:30:55.788Z",
    "type": "completion"
   },
   {
    "id": "7a774c9950fa45698183e4228404cda1",
    "time": "2021-01-27T00:30:55.789Z",
    "type": "completion"
   },
   {
    "id": "b7735f14cc444cfcbb9a225e52f32b96",
    "time": "2021-01-27T00:30:55.797Z",
    "type": "completion"
   },
   {
    "id": "718d9ad72a6644f1b0512e6341e4215d",
    "time": "2021-01-27T00:30:56.044Z",
    "type": "completion"
   },
   {
    "id": "3ee93c9b761748559d88a432bffe4673",
    "time": "2021-01-27T00:30:56.204Z",
    "type": "completion"
   },
   {
    "id": "a2c2ec3bf43c4ea88f43267551b13aa5",
    "time": "2021-01-27T00:30:56.402Z",
    "type": "completion"
   },
   {
    "id": "56ac30e5452c43a4b4d6fd823dc946cf",
    "time": "2021-01-27T00:30:56.610Z",
    "type": "completion"
   },
   {
    "id": "ea2b9d6daa7e4c59b21dbedc2bde8446",
    "time": "2021-01-27T00:30:56.612Z",
    "type": "completion"
   },
   {
    "id": "e0de2efc4fa8444b867726348d38bd7c",
    "time": "2021-01-27T00:30:56.841Z",
    "type": "completion"
   },
   {
    "id": "8d5262a6f57449278d48a2d966e7c6a3",
    "time": "2021-01-27T00:30:57.075Z",
    "type": "completion"
   },
   {
    "id": "31b7f32da2bc458f81c5bdc2427308b8",
    "time": "2021-01-27T00:30:57.354Z",
    "type": "completion"
   },
   {
    "id": "59ce187c1c0f425e8d9572e7dc688abf",
    "time": "2021-01-27T00:30:57.355Z",
    "type": "completion"
   },
   {
    "id": "e13eef2bc3684d108942ca0d5772bc3d",
    "time": "2021-01-27T00:30:57.357Z",
    "type": "completion"
   },
   {
    "id": "5caab196d71847da906897524652f0e7",
    "time": "2021-01-27T00:30:57.590Z",
    "type": "completion"
   },
   {
    "id": "1ad96a7a631c410b8001bbd8c1d67709",
    "time": "2021-01-27T00:30:57.596Z",
    "type": "completion"
   },
   {
    "id": "9e15cee6f0f3427388f15a9be4260c41",
    "time": "2021-01-27T00:30:57.867Z",
    "type": "completion"
   },
   {
    "id": "e9bb416227734bad86fbd61e3ae633f3",
    "time": "2021-01-27T00:30:57.920Z",
    "type": "completion"
   },
   {
    "id": "24b777062e10408c86259b80b25a5ac4",
    "time": "2021-01-27T00:30:58.211Z",
    "type": "completion"
   },
   {
    "id": "c5f5b6e95e54463fa76c7144cf506bc1",
    "time": "2021-01-27T00:30:58.506Z",
    "type": "completion"
   },
   {
    "id": "69e596d25de54f13a7ceaec498b8d0ee",
    "time": "2021-01-27T00:30:58.826Z",
    "type": "completion"
   },
   {
    "id": "bdb5d1b166fb44a18595353b2786f00c",
    "time": "2021-01-27T00:30:59.154Z",
    "type": "completion"
   },
   {
    "id": "bcfc5970b6ac4539875b98b4e37650c0",
    "time": "2021-01-27T00:30:59.556Z",
    "type": "completion"
   },
   {
    "code": "def plot_film(film):\n    df = all_films[all_films==film]\n    series = calculate_score(film, all_films)\n    plt.plot(series)\n    plt.axhline(y=0.75, color='yellow', linestyle='dashed',linewidth=0.5)\n    plt.axhline(y=0.6, color='red', linestyle='dashed',linewidth=0.5)\n    plt.axhspan(0.75, 1, alpha=0.5, color='lightgreen')\n    plt.axhspan(0.6,.75, alpha=0.5, color='#F6F7A8')\n    plt.axhspan(0, 0.6, alpha=0.5, color='salmon')\n#     print(series)\n    plt.ylim(series.min(), series.max())\n    plt.xticks(rotation=45, ha=\"right\")\n    plt.title(film + \" Rotten Tomatoes Score over Time\")",
    "id": "7a774c9950fa45698183e4228404cda1",
    "idx": 16,
    "time": "2021-01-27T00:31:18.195Z",
    "type": "execution"
   },
   {
    "id": "7a774c9950fa45698183e4228404cda1",
    "time": "2021-01-27T00:31:18.263Z",
    "type": "completion"
   },
   {
    "code": "def plot_film(film):\n    df = all_films[all_films==film]\n    series = calculate_score(film, all_films)\n    plt.plot(series)\n    plt.axhline(y=0.75, color='yellow', linestyle='dashed',linewidth=0.5)\n    plt.axhline(y=0.6, color='red', linestyle='dashed',linewidth=0.5)\n    plt.axhspan(0.75, 1, alpha=0.5, color='lightgreen')\n    plt.axhspan(0.6,.75, alpha=0.5, color='#F6F7A8')\n    plt.axhspan(0, 0.6, alpha=0.5, color='salmon')\n#     print(series)\n    plt.ylim(series.min(), series.max())\n    plt.xticks(rotation=45, ha=\"right\")\n    plt.title(film + \" Rotten Tomatoes Score over Time\")",
    "id": "7a774c9950fa45698183e4228404cda1",
    "idx": 16,
    "time": "2021-01-27T00:31:22.588Z",
    "type": "execution"
   },
   {
    "code": "# calculate_score(\"Artemis Fowl\",all_films)\nplot_film(\"Artemis Fowl\")",
    "id": "b7735f14cc444cfcbb9a225e52f32b96",
    "idx": 17,
    "time": "2021-01-27T00:31:22.592Z",
    "type": "execution"
   },
   {
    "code": "# calculate_score(\"Wonder Woman 1984\",all_films).plot()\nplot_film(\"Wonder Woman 1984\")",
    "id": "718d9ad72a6644f1b0512e6341e4215d",
    "idx": 18,
    "time": "2021-01-27T00:31:22.597Z",
    "type": "execution"
   },
   {
    "code": "# calculate_score(\"Mulan\",all_films).plot()\nplot_film(\"Mulan\")",
    "id": "3ee93c9b761748559d88a432bffe4673",
    "idx": 19,
    "time": "2021-01-27T00:31:22.600Z",
    "type": "execution"
   },
   {
    "code": "# calculate_score(\"Tenet\",all_films).plot()\nplot_film(\"Tenet\")",
    "id": "a2c2ec3bf43c4ea88f43267551b13aa5",
    "idx": 20,
    "time": "2021-01-27T00:31:22.603Z",
    "type": "execution"
   },
   {
    "code": "plot_film(\"Lovebirds\")",
    "id": "56ac30e5452c43a4b4d6fd823dc946cf",
    "idx": 21,
    "time": "2021-01-27T00:31:22.607Z",
    "type": "execution"
   },
   {
    "code": "movie_urls.keys()",
    "id": "ea2b9d6daa7e4c59b21dbedc2bde8446",
    "idx": 22,
    "time": "2021-01-27T00:31:22.609Z",
    "type": "execution"
   },
   {
    "code": "plot_film(\"Scoob\")",
    "id": "e0de2efc4fa8444b867726348d38bd7c",
    "idx": 23,
    "time": "2021-01-27T00:31:22.612Z",
    "type": "execution"
   },
   {
    "code": "plot_film(\"Birds of Prey\")",
    "id": "8d5262a6f57449278d48a2d966e7c6a3",
    "idx": 24,
    "time": "2021-01-27T00:31:22.615Z",
    "type": "execution"
   },
   {
    "code": "plot_film(\"The Marksman\")",
    "id": "31b7f32da2bc458f81c5bdc2427308b8",
    "idx": 25,
    "time": "2021-01-27T00:31:22.617Z",
    "type": "execution"
   },
   {
    "code": "# all_films.to_csv(\"new_films.csv\",index=False)",
    "id": "59ce187c1c0f425e8d9572e7dc688abf",
    "idx": 26,
    "time": "2021-01-27T00:31:22.618Z",
    "type": "execution"
   },
   {
    "code": "movie_urls.keys()",
    "id": "e13eef2bc3684d108942ca0d5772bc3d",
    "idx": 27,
    "time": "2021-01-27T00:31:22.620Z",
    "type": "execution"
   },
   {
    "code": "plot_film(\"Sonic\")",
    "id": "5caab196d71847da906897524652f0e7",
    "idx": 28,
    "time": "2021-01-27T00:31:22.623Z",
    "type": "execution"
   },
   {
    "code": "all_films[(all_films[\"Film\"]==\"Sonic\") & (all_films[\"date\"]==\"2020-02-12\")]",
    "id": "1ad96a7a631c410b8001bbd8c1d67709",
    "idx": 29,
    "time": "2021-01-27T00:31:22.625Z",
    "type": "execution"
   },
   {
    "code": "dfs",
    "id": "9e15cee6f0f3427388f15a9be4260c41",
    "idx": 30,
    "time": "2021-01-27T00:31:22.627Z",
    "type": "execution"
   },
   {
    "code": "plot_film(\"Aladdin\")",
    "id": "e9bb416227734bad86fbd61e3ae633f3",
    "idx": 31,
    "time": "2021-01-27T00:31:22.629Z",
    "type": "execution"
   },
   {
    "code": "plot_film(\"Lion King\")",
    "id": "24b777062e10408c86259b80b25a5ac4",
    "idx": 32,
    "time": "2021-01-27T00:31:22.632Z",
    "type": "execution"
   },
   {
    "code": "plot_film(\"Captain Marvel\")",
    "id": "c5f5b6e95e54463fa76c7144cf506bc1",
    "idx": 33,
    "time": "2021-01-27T00:31:22.636Z",
    "type": "execution"
   },
   {
    "code": "plot_film(\"Godzilla: King of the Monsters\")",
    "id": "69e596d25de54f13a7ceaec498b8d0ee",
    "idx": 34,
    "time": "2021-01-27T00:31:22.639Z",
    "type": "execution"
   },
   {
    "code": "plot_film(\"Joker\")",
    "id": "bdb5d1b166fb44a18595353b2786f00c",
    "idx": 35,
    "time": "2021-01-27T00:31:22.642Z",
    "type": "execution"
   },
   {
    "code": "plot_film(\"Shazam!\")",
    "id": "bcfc5970b6ac4539875b98b4e37650c0",
    "idx": 36,
    "time": "2021-01-27T00:31:22.645Z",
    "type": "execution"
   },
   {
    "id": "7a774c9950fa45698183e4228404cda1",
    "time": "2021-01-27T00:31:22.874Z",
    "type": "completion"
   },
   {
    "id": "b7735f14cc444cfcbb9a225e52f32b96",
    "time": "2021-01-27T00:31:22.903Z",
    "type": "completion"
   },
   {
    "id": "718d9ad72a6644f1b0512e6341e4215d",
    "time": "2021-01-27T00:31:23.334Z",
    "type": "completion"
   },
   {
    "id": "3ee93c9b761748559d88a432bffe4673",
    "time": "2021-01-27T00:31:23.343Z",
    "type": "completion"
   },
   {
    "id": "a2c2ec3bf43c4ea88f43267551b13aa5",
    "time": "2021-01-27T00:31:23.813Z",
    "type": "completion"
   },
   {
    "id": "56ac30e5452c43a4b4d6fd823dc946cf",
    "time": "2021-01-27T00:31:24.129Z",
    "type": "completion"
   },
   {
    "id": "ea2b9d6daa7e4c59b21dbedc2bde8446",
    "time": "2021-01-27T00:31:24.134Z",
    "type": "completion"
   },
   {
    "id": "e0de2efc4fa8444b867726348d38bd7c",
    "time": "2021-01-27T00:31:24.164Z",
    "type": "completion"
   },
   {
    "id": "8d5262a6f57449278d48a2d966e7c6a3",
    "time": "2021-01-27T00:31:24.371Z",
    "type": "completion"
   },
   {
    "id": "31b7f32da2bc458f81c5bdc2427308b8",
    "time": "2021-01-27T00:31:24.877Z",
    "type": "completion"
   },
   {
    "id": "59ce187c1c0f425e8d9572e7dc688abf",
    "time": "2021-01-27T00:31:24.880Z",
    "type": "completion"
   },
   {
    "id": "e13eef2bc3684d108942ca0d5772bc3d",
    "time": "2021-01-27T00:31:24.882Z",
    "type": "completion"
   },
   {
    "id": "5caab196d71847da906897524652f0e7",
    "time": "2021-01-27T00:31:24.889Z",
    "type": "completion"
   },
   {
    "id": "1ad96a7a631c410b8001bbd8c1d67709",
    "time": "2021-01-27T00:31:24.898Z",
    "type": "completion"
   },
   {
    "id": "9e15cee6f0f3427388f15a9be4260c41",
    "time": "2021-01-27T00:31:25.156Z",
    "type": "completion"
   },
   {
    "id": "e9bb416227734bad86fbd61e3ae633f3",
    "time": "2021-01-27T00:31:25.438Z",
    "type": "completion"
   },
   {
    "id": "24b777062e10408c86259b80b25a5ac4",
    "time": "2021-01-27T00:31:25.682Z",
    "type": "completion"
   },
   {
    "id": "c5f5b6e95e54463fa76c7144cf506bc1",
    "time": "2021-01-27T00:31:26.229Z",
    "type": "completion"
   },
   {
    "id": "69e596d25de54f13a7ceaec498b8d0ee",
    "time": "2021-01-27T00:31:26.258Z",
    "type": "completion"
   },
   {
    "id": "bdb5d1b166fb44a18595353b2786f00c",
    "time": "2021-01-27T00:31:26.584Z",
    "type": "completion"
   },
   {
    "id": "bcfc5970b6ac4539875b98b4e37650c0",
    "time": "2021-01-27T00:31:26.923Z",
    "type": "completion"
   },
   {
    "code": "#add films\nnewkeys = [\"The Last Jedi\"]\nmovie_urls[\"The Last Jedi\"] = \"https://www.rottentomatoes.com/m/star_wars_the_last_jedi/\"\nmovie_urls[\"The Rise of Skywalker\"] = \"https://www.rottentomatoes.com/m/star_wars_the_rise_of_skywalker\"\nfor key in newkeys:\n    temp = get_critic_reviews(movie_urls[key])\n    df = pd.DataFrame.from_dict(temp)\n    df['Film'] = key\n    dfs.append(df)",
    "id": "fd721ef530024b56923a5f5561a54747",
    "idx": 36,
    "time": "2021-01-27T00:37:11.953Z",
    "type": "execution"
   },
   {
    "id": "fd721ef530024b56923a5f5561a54747",
    "time": "2021-01-27T00:37:29.118Z",
    "type": "completion"
   },
   {
    "code": "#add films\nnewkeys = [\"The Last Jedi\"]\nmovie_urls[\"The Last Jedi\"] = \"https://www.rottentomatoes.com/m/star_wars_the_last_jedi/\"\nmovie_urls[\"The Rise of Skywalker\"] = \"https://www.rottentomatoes.com/m/star_wars_the_rise_of_skywalker/\"\nfor key in newkeys:\n    temp = get_critic_reviews(movie_urls[key])\n    df = pd.DataFrame.from_dict(temp)\n    df['Film'] = key\n    dfs.append(df)",
    "id": "fd721ef530024b56923a5f5561a54747",
    "idx": 36,
    "time": "2021-01-27T00:37:58.311Z",
    "type": "execution"
   },
   {
    "id": "fd721ef530024b56923a5f5561a54747",
    "time": "2021-01-27T00:38:05.932Z",
    "type": "completion"
   },
   {
    "code": "def update():\n    all_films = pd.concat(dfs)\n    all_films['score'] = all_films['fresh'].apply(lambda x: 1 if x == 'fresh' else 0)\n    all_films['date'] = pd.to_datetime(all_films['date'], format=\"%B %d, %Y\")",
    "id": "9f0a87eebac74031a73a05c1ee48aec2",
    "idx": 37,
    "time": "2021-01-27T00:38:09.030Z",
    "type": "execution"
   },
   {
    "id": "9f0a87eebac74031a73a05c1ee48aec2",
    "time": "2021-01-27T00:38:09.101Z",
    "type": "completion"
   },
   {
    "code": "update()",
    "id": "9223c0535bc24c1681e9f4f946b40136",
    "idx": 38,
    "time": "2021-01-27T00:38:12.632Z",
    "type": "execution"
   },
   {
    "id": "9223c0535bc24c1681e9f4f946b40136",
    "time": "2021-01-27T00:38:12.729Z",
    "type": "completion"
   },
   {
    "code": "all_films",
    "id": "fcc531697e3440d0bc620808c4dc701f",
    "idx": 39,
    "time": "2021-01-27T00:38:15.107Z",
    "type": "execution"
   },
   {
    "id": "fcc531697e3440d0bc620808c4dc701f",
    "time": "2021-01-27T00:38:15.218Z",
    "type": "completion"
   },
   {
    "code": "plot_film(\"The Last Jedi\")",
    "id": "fcc531697e3440d0bc620808c4dc701f",
    "idx": 39,
    "time": "2021-01-27T00:38:22.514Z",
    "type": "execution"
   },
   {
    "id": "fcc531697e3440d0bc620808c4dc701f",
    "time": "2021-01-27T00:38:23.220Z",
    "type": "completion"
   },
   {
    "code": "all_films[\"Film\"]",
    "id": "fcc531697e3440d0bc620808c4dc701f",
    "idx": 39,
    "time": "2021-01-27T00:38:35.611Z",
    "type": "execution"
   },
   {
    "id": "fcc531697e3440d0bc620808c4dc701f",
    "time": "2021-01-27T00:38:35.950Z",
    "type": "completion"
   },
   {
    "code": "all_films[\"Film\"].unique()",
    "id": "fcc531697e3440d0bc620808c4dc701f",
    "idx": 39,
    "time": "2021-01-27T00:38:40.534Z",
    "type": "execution"
   },
   {
    "id": "fcc531697e3440d0bc620808c4dc701f",
    "time": "2021-01-27T00:38:40.610Z",
    "type": "completion"
   },
   {
    "code": "dfs",
    "id": "fcc531697e3440d0bc620808c4dc701f",
    "idx": 39,
    "time": "2021-01-27T00:38:48.635Z",
    "type": "execution"
   },
   {
    "id": "fcc531697e3440d0bc620808c4dc701f",
    "time": "2021-01-27T00:38:48.973Z",
    "type": "completion"
   },
   {
    "code": "update()",
    "id": "9223c0535bc24c1681e9f4f946b40136",
    "idx": 38,
    "time": "2021-01-27T00:39:23.674Z",
    "type": "execution"
   },
   {
    "id": "9223c0535bc24c1681e9f4f946b40136",
    "time": "2021-01-27T00:39:23.763Z",
    "type": "completion"
   },
   {
    "code": "def update():\n    all_films = pd.concat(dfs)\n    all_films['score'] = all_films['fresh'].apply(lambda x: 1 if x == 'fresh' else 0)\n    all_films['date'] = pd.to_datetime(all_films['date'], format=\"%B %d, %Y\")\n    return all_films",
    "id": "9f0a87eebac74031a73a05c1ee48aec2",
    "idx": 37,
    "time": "2021-01-27T00:39:36.028Z",
    "type": "execution"
   },
   {
    "id": "9f0a87eebac74031a73a05c1ee48aec2",
    "time": "2021-01-27T00:39:36.101Z",
    "type": "completion"
   },
   {
    "code": "update()",
    "id": "9223c0535bc24c1681e9f4f946b40136",
    "idx": 38,
    "time": "2021-01-27T00:39:36.560Z",
    "type": "execution"
   },
   {
    "id": "9223c0535bc24c1681e9f4f946b40136",
    "time": "2021-01-27T00:39:36.715Z",
    "type": "completion"
   },
   {
    "code": "all_films = update()",
    "id": "9223c0535bc24c1681e9f4f946b40136",
    "idx": 38,
    "time": "2021-01-27T00:39:43.032Z",
    "type": "execution"
   },
   {
    "id": "9223c0535bc24c1681e9f4f946b40136",
    "time": "2021-01-27T00:39:43.143Z",
    "type": "completion"
   },
   {
    "code": "all_films",
    "id": "fcc531697e3440d0bc620808c4dc701f",
    "idx": 39,
    "time": "2021-01-27T00:39:43.891Z",
    "type": "execution"
   },
   {
    "id": "fcc531697e3440d0bc620808c4dc701f",
    "time": "2021-01-27T00:39:43.981Z",
    "type": "completion"
   },
   {
    "code": "plot_film(\"The Last Jedi\")",
    "id": "fcc531697e3440d0bc620808c4dc701f",
    "idx": 39,
    "time": "2021-01-27T00:39:53.225Z",
    "type": "execution"
   },
   {
    "id": "fcc531697e3440d0bc620808c4dc701f",
    "time": "2021-01-27T00:39:54.157Z",
    "type": "completion"
   },
   {
    "code": "plot_film(\"The Rise of Skywalker\")",
    "id": "103fb05c3e304ac0bb1d036092613ed7",
    "idx": 40,
    "time": "2021-01-27T00:40:06.956Z",
    "type": "execution"
   },
   {
    "id": "103fb05c3e304ac0bb1d036092613ed7",
    "time": "2021-01-27T00:40:07.620Z",
    "type": "completion"
   },
   {
    "code": "#add films\nnewkeys = [\"The Last Jedi\", \"The Rise of Skywalker\"]\nmovie_urls[\"The Last Jedi\"] = \"https://www.rottentomatoes.com/m/star_wars_the_last_jedi/\"\nmovie_urls[\"The Rise of Skywalker\"] = \"https://www.rottentomatoes.com/m/star_wars_the_rise_of_skywalker/\"\nfor key in newkeys:\n    temp = get_critic_reviews(movie_urls[key])\n    df = pd.DataFrame.from_dict(temp)\n    df['Film'] = key\n    dfs.append(df)",
    "id": "fd721ef530024b56923a5f5561a54747",
    "idx": 36,
    "time": "2021-01-27T00:40:25.354Z",
    "type": "execution"
   },
   {
    "code": "def update():\n    all_films = pd.concat(dfs)\n    all_films['score'] = all_films['fresh'].apply(lambda x: 1 if x == 'fresh' else 0)\n    all_films['date'] = pd.to_datetime(all_films['date'], format=\"%B %d, %Y\")\n    return all_films",
    "id": "9f0a87eebac74031a73a05c1ee48aec2",
    "idx": 37,
    "time": "2021-01-27T00:40:25.816Z",
    "type": "execution"
   },
   {
    "code": "all_films = update()",
    "id": "9223c0535bc24c1681e9f4f946b40136",
    "idx": 38,
    "time": "2021-01-27T00:40:26.279Z",
    "type": "execution"
   },
   {
    "code": "plot_film(\"The Last Jedi\")",
    "id": "fcc531697e3440d0bc620808c4dc701f",
    "idx": 39,
    "time": "2021-01-27T00:40:26.767Z",
    "type": "execution"
   },
   {
    "code": "plot_film(\"The Rise of Skywalker\")",
    "id": "103fb05c3e304ac0bb1d036092613ed7",
    "idx": 40,
    "time": "2021-01-27T00:40:27.569Z",
    "type": "execution"
   },
   {
    "id": "fd721ef530024b56923a5f5561a54747",
    "time": "2021-01-27T00:40:55.300Z",
    "type": "completion"
   },
   {
    "id": "9f0a87eebac74031a73a05c1ee48aec2",
    "time": "2021-01-27T00:40:55.302Z",
    "type": "completion"
   },
   {
    "id": "9223c0535bc24c1681e9f4f946b40136",
    "time": "2021-01-27T00:40:55.331Z",
    "type": "completion"
   },
   {
    "id": "fcc531697e3440d0bc620808c4dc701f",
    "time": "2021-01-27T00:40:55.625Z",
    "type": "completion"
   },
   {
    "id": "103fb05c3e304ac0bb1d036092613ed7",
    "time": "2021-01-27T00:40:55.988Z",
    "type": "completion"
   },
   {
    "code": "import requests\nimport time\n\n# requirements\nfrom bs4 import BeautifulSoup\nfrom requests import TooManyRedirects\nimport re\n\ndef _make_soup(url):\n    try:\n        r = requests.get(url)\n        soup = BeautifulSoup(r.content, 'html.parser')\n    except TooManyRedirects:\n        soup = ''\n    return soup\n\n#regex patterns\npage_pat = re.compile(r'Page 1 of \\d+')\nreview_pat = re.compile(r'<div class=\\\"the_review\\\" data-qa=\\\"review-text\\\">[;a-zA-Z\\s,-.\\'\\/\\?\\[\\]\\\":\\']*</div>')\nrating_pat = re.compile(r'Original Score:\\s([A-Z](\\+|-)?|\\d(.\\d)?(\\/\\d)?)')\nfresh_pat = re.compile(r'small\\s(fresh|rotten)\\\"')\ncritic_pat = re.compile(r'\\/\\\"\\>([A-Z][a-zA-Z]+\\s[A-Z][a-zA-Z\\-]+)|([A-Z][a-zA-Z.]+\\s[A-Z].?\\s[A-Z][a-zA-Z]+)|([A-Z][a-zA-Z]+\\s[A-Z]+\\'[A-Z][a-zA-Z]+)')\npublisher_pat = re.compile(r'\\\"subtle\\\">[a-zA-Z\\s,.\\(\\)\\'\\-&;!\\/\\d+]+</em>')\ndate_pat = re.compile(r'[a-zA-Z]+\\s\\d+,\\s\\d+')",
    "id": "89288e81e3c34da3ac88aa62995bad09",
    "idx": 0,
    "time": "2021-01-27T18:11:34.312Z",
    "type": "execution"
   },
   {
    "code": "def _get_critic_reviews_from_page(soup):\n    reviews = list()\n    rating = list()\n    fresh = list()\n    critic = list()\n    top_critic = list()\n    publisher = list()\n    date = list()\n    \n    soup = str(soup)\n    review_soup = soup.split('=\"review_table')[1].split('row review_table_row')\n    review_soup.pop(0)\n\n    for review in review_soup:\n        match = re.findall(review_pat, str(review))\n        if len(match) > 0:\n            m = match[0]            \n            for iden in ['<div class=\"the_review\" data-qa=\"review-text\"> ','</div>']:\n                m = m.replace(iden,'')\n            reviews.append(m.strip('\"'))            \n            # extract rating\n            match = re.findall(rating_pat, str(review))\n            if len(match) > 0:\n                m = match[0][0]\n                if '/1' in m:\n                    sp_m = m.split('/')\n                    if sp_m[-1] == '1':\n                        sp_m[-1] = '10'\n                    m = '/'.join(sp_m)\n                rating.append(m)\n            else:\n                rating.append(None)            \n            # extract fresh indicator\n            match = re.findall(fresh_pat, str(review))\n            if len(match) > 0:\n                fresh.append(match[0])\n            else:\n                fresh.append(None)            \n            # extract critic\n            match = re.findall(critic_pat, str(review))\n            if len(match) > 0:\n                critic.append(''.join(match[0]))\n            else:\n                critic.append(None)            \n            # check if top critic\n            if '> Top Critic<' in str(review):\n                top_critic.append(1)\n            else:\n                top_critic.append(0)            \n            # extract publisher\n            match = re.findall(publisher_pat, str(review))\n            if len(match) > 0:\n                m = match[0]\n                m = m.replace('\"subtle\">', '')\n                m = m.replace('</em>','')\n                publisher.append(m)\n            else:\n                publisher.append(None)            \n            # extract date\n            match = re.findall(date_pat, str(review))\n            if len(match) > 0:\n                date.append(match[0].strip('\"'))\n            else:\n                date.append(None)\n            \n    return [reviews, rating, fresh, critic, top_critic, publisher, date]\n\ndef _get_num_pages(soup):\n    match = re.findall(page_pat,str(list(soup)))\n    if len(match) > 0:\n        match = match[0]\n        match = match.split(' of ')[-1]\n        return match\n    else:\n        return None",
    "id": "3cc11e69b72b4f3ba8b002b3f8ad3df7",
    "idx": 1,
    "time": "2021-01-27T18:11:34.316Z",
    "type": "execution"
   },
   {
    "code": "def get_critic_reviews(page):\n    info = [[],[],[],[],[],[],[]]\n    soup = _make_soup(page + \"reviews\")\n#     print(soup)\n    pages = _get_num_pages(soup)\n#     print(pages)\n    if pages is not None:\n        for page_num in range(1,int(pages)+1):\n            soup = _make_soup(page + \"reviews?page=\" + str(page_num) + \"&sort=\")\n            c_info = _get_critic_reviews_from_page(soup)\n            \n            # accumulate review info\n            for i in range(len(c_info)):\n                info[i] = info[i] + c_info[i]\n        \n        c_info = dict()\n        keys = ['reviews', 'rating', 'fresh', 'critic', 'top_critic', 'publisher', 'date']\n        for k in range(len(keys)):\n            c_info[keys[k]] = info[k]        \n    else:\n        c_info = None        \n    return c_info",
    "id": "24bcfe1ae80f49c89ecee6e5a56cd021",
    "idx": 2,
    "time": "2021-01-27T18:11:34.319Z",
    "type": "execution"
   },
   {
    "code": "movie_urls = {'Wonder Woman 1984': 'https://www.rottentomatoes.com/m/wonder_woman_1984/', \n              'Soul':'https://www.rottentomatoes.com/m/soul_2020/', \n              'Mulan': 'https://www.rottentomatoes.com/m/mulan_2020/',\n              'Birds of Prey': 'https://www.rottentomatoes.com/m/birds_of_prey_2020/',\n              'Sonic': 'https://www.rottentomatoes.com/m/sonic_the_hedgehog_2020/'\n             }\n\nmovie_urls[\"Captain Marvel\"] = \"https://www.rottentomatoes.com/m/captain_marvel/\"\nmovie_urls[\"Lion King\"] = \"https://www.rottentomatoes.com/m/the_lion_king_2019/\"\nmovie_urls[\"Aladdin\"] = \"https://www.rottentomatoes.com/m/aladdin/\"\nmovie_urls[\"Joker\"] = \"https://www.rottentomatoes.com/m/joker_2019/\"\nmovie_urls[\"Shazam!\"] = \"https://www.rottentomatoes.com/m/shazam/\"\nmovie_urls[\"Godzilla: King of the Monsters\"] = \"https://www.rottentomatoes.com/m/godzilla_king_of_the_monsters_2019/\"\n\nmovie_urls['Tenet'] = 'https://www.rottentomatoes.com/m/tenet/'\nmovie_urls['Scoob'] = 'https://www.rottentomatoes.com/m/scoob/'\nmovie_urls['The Marksman'] = 'https://www.rottentomatoes.com/m/the_marksman_2021/'\nmovie_urls['Artemis Fowl'] = 'https://www.rottentomatoes.com/m/artemis_fowl/'\nmovie_urls['Lovebirds'] = 'https://www.rottentomatoes.com/m/the_lovebirds_2020/'\n\nmovie_urls.keys()",
    "id": "ee4fe2e8bdff4ffb8ea1076a90682459",
    "idx": 3,
    "time": "2021-01-27T18:11:34.320Z",
    "type": "execution"
   },
   {
    "code": "import pandas as pd\n\ndfs = []\nfor key in movie_urls.keys():\n    temp = get_critic_reviews(movie_urls[key])\n    df = pd.DataFrame.from_dict(temp)\n    df['Film'] = key\n    dfs.append(df)",
    "id": "d07d041655844a71be29d3e94f4acc71",
    "idx": 4,
    "time": "2021-01-27T18:11:34.322Z",
    "type": "execution"
   },
   {
    "code": "all_films = pd.concat(dfs)\nall_films",
    "id": "377f6510105142f6a3c4e0a6e0a71788",
    "idx": 5,
    "time": "2021-01-27T18:11:34.325Z",
    "type": "execution"
   },
   {
    "code": "all_films['score'] = all_films['fresh'].apply(lambda x: 1 if x == 'fresh' else 0)\nall_films",
    "id": "9c2d8a2cdc4749a084270ef9a00880a8",
    "idx": 6,
    "time": "2021-01-27T18:11:34.328Z",
    "type": "execution"
   },
   {
    "code": "all_films['date'] = pd.to_datetime(all_films['date'], format=\"%B %d, %Y\")\nall_films = all_films.sort_values('date')",
    "id": "06a570bc5e0a4c6d8fd8d1d815ee060d",
    "idx": 7,
    "time": "2021-01-27T18:11:34.329Z",
    "type": "execution"
   },
   {
    "code": "import numpy as np\n\n\ndef calculate_score(film, frame):\n    df = frame[frame['Film'] == film]\n    grouped_1 = df[['date', 'score']].groupby('date').agg([sum, 'count'])\n    grouped_1.columns = grouped_1.columns.droplevel(0)\n    return grouped_1.cumsum()['sum']/grouped_1.cumsum()['count']\n\ncalculate_score(\"Wonder Woman 1984\", all_films)",
    "id": "13a4cefccba54a85aa1fa8f448daa972",
    "idx": 8,
    "time": "2021-01-27T18:11:34.331Z",
    "type": "execution"
   },
   {
    "code": "# calculate_score(\"Soul\").plot()\nimport matplotlib.pyplot as plt\n\nfor key in movie_urls.keys():\n#     pd.to_numeric(df.Subs).plot.line()\n    df = all_films[all_films==key]\n    plt.plot(calculate_score(key, all_films), label=key)\n#     plt.plot(np.arange(len(df.index)), pd.to_numeric(df.Total).pct_change(), label = df.Name.values[0], color = colors[i])\n#     plt.axvline(x=30, color='red', linestyle='dashed',linewidth=0.5)\n    plt.ylabel('Percent Change in Subscribers by Day')\n    plt.xlabel(\"Day (0 is 1 month before Content Cop's release)\")\n    plt.legend()\n# plt.annotate('Content Cop released', xy=(30, 0.015), ha='center', size=10)\n# plt.title('The Impact of Content Cop')\n# plt.savefig('pct_cc.svg')",
    "id": "3289e039b29344e58226cf6121ef1d4b",
    "idx": 9,
    "time": "2021-01-27T18:11:34.333Z",
    "type": "execution"
   },
   {
    "code": "# all_films.to_csv(\"all_films.csv\", index=False)\nall_films = pd.concat(dfs)\nall_films['score'] = all_films['fresh'].apply(lambda x: 1 if x == 'fresh' else 0)\nall_films['date'] = pd.to_datetime(all_films['date'], format=\"%B %d, %Y\")",
    "id": "cbaa9fc1f6c8498c88b1a3e603e3ff4e",
    "idx": 10,
    "time": "2021-01-27T18:11:34.334Z",
    "type": "execution"
   },
   {
    "code": "# all_films = pd.read_csv(\"all_films.csv\")\nall_films",
    "id": "a7879eca09b64fcf8d3321f2393aeb50",
    "idx": 11,
    "time": "2021-01-27T18:11:34.336Z",
    "type": "execution"
   },
   {
    "code": "# all_films = pd.concat([all_films, new_films])",
    "id": "54e3deb454ab47cd850c844a7fed8e17",
    "idx": 12,
    "time": "2021-01-27T18:11:34.338Z",
    "type": "execution"
   },
   {
    "code": "all_films['date'] = pd.to_datetime(all_films['date'])\nall_films = all_films.sort_values('date')",
    "id": "43c1eb91ffb14be288c5e02553bcf49a",
    "idx": 13,
    "time": "2021-01-27T18:11:34.340Z",
    "type": "execution"
   },
   {
    "code": "for key in movie_urls.keys():\n#     pd.to_numeric(df.Subs).plot.line()\n    df = all_films[all_films==key]\n    plt.plot(calculate_score(key, all_films), label=key)\n#     plt.plot(np.arange(len(df.index)), pd.to_numeric(df.Total).pct_change(), label = df.Name.values[0], color = colors[i])\n#     plt.axvline(x=30, color='red', linestyle='dashed',linewidth=0.5)\n    plt.ylabel('Percent Change in Subscribers by Day')\n    plt.xlabel(\"Day (0 is 1 month before Content Cop's release)\")\n    plt.legend()\n# plt.annotate('Content Cop released', xy=(30, 0.015), ha='center', size=10)\n# plt.title('The Impact of Content Cop')\n# plt.savefig('pct_cc.svg')",
    "id": "bbf80f5e8c9d46c382a0046a27e5b50e",
    "idx": 14,
    "time": "2021-01-27T18:11:34.341Z",
    "type": "execution"
   },
   {
    "code": "%config InlineBackend.figure_format = 'svg'",
    "id": "2401f65bb4f24c18804c01c5e8f390a2",
    "idx": 15,
    "time": "2021-01-27T18:11:34.343Z",
    "type": "execution"
   },
   {
    "code": "def plot_film(film):\n    df = all_films[all_films==film]\n    series = calculate_score(film, all_films)\n    plt.plot(series)\n    plt.axhline(y=0.75, color='yellow', linestyle='dashed',linewidth=0.5)\n    plt.axhline(y=0.6, color='red', linestyle='dashed',linewidth=0.5)\n    plt.axhspan(0.75, 1, alpha=0.5, color='lightgreen')\n    plt.axhspan(0.6,.75, alpha=0.5, color='#F6F7A8')\n    plt.axhspan(0, 0.6, alpha=0.5, color='salmon')\n#     print(series)\n    plt.ylim(series.min(), series.max())\n    plt.xticks(rotation=45, ha=\"right\")\n    plt.title(film + \" Rotten Tomatoes Score over Time\")",
    "id": "12520d752094489f8389f47cc188e820",
    "idx": 16,
    "time": "2021-01-27T18:11:34.345Z",
    "type": "execution"
   },
   {
    "code": "# calculate_score(\"Artemis Fowl\",all_films)\nplot_film(\"Artemis Fowl\")",
    "id": "29d6f017588e483b81def167923557bc",
    "idx": 17,
    "time": "2021-01-27T18:11:34.346Z",
    "type": "execution"
   },
   {
    "code": "# calculate_score(\"Wonder Woman 1984\",all_films).plot()\nplot_film(\"Wonder Woman 1984\")",
    "id": "c942d6b051b2483885e5f9437a7b7e20",
    "idx": 18,
    "time": "2021-01-27T18:11:34.348Z",
    "type": "execution"
   },
   {
    "code": "# calculate_score(\"Mulan\",all_films).plot()\nplot_film(\"Mulan\")",
    "id": "12317016b09246ca8df95dbf9d13951e",
    "idx": 19,
    "time": "2021-01-27T18:11:34.349Z",
    "type": "execution"
   },
   {
    "code": "# calculate_score(\"Tenet\",all_films).plot()\nplot_film(\"Tenet\")",
    "id": "133e84d30a9743b3b1c1a25980df5a86",
    "idx": 20,
    "time": "2021-01-27T18:11:34.351Z",
    "type": "execution"
   },
   {
    "code": "plot_film(\"Lovebirds\")",
    "id": "f9ab5f66b7ce45338b35b1229588a476",
    "idx": 21,
    "time": "2021-01-27T18:11:34.352Z",
    "type": "execution"
   },
   {
    "code": "movie_urls.keys()",
    "id": "27f54eb75fd94c4ba0c138dbeb971a4d",
    "idx": 22,
    "time": "2021-01-27T18:11:34.353Z",
    "type": "execution"
   },
   {
    "code": "plot_film(\"Scoob\")",
    "id": "b69ef826931a4f1d8828a840457148ee",
    "idx": 23,
    "time": "2021-01-27T18:11:34.354Z",
    "type": "execution"
   },
   {
    "code": "plot_film(\"Birds of Prey\")",
    "id": "3a184bcbd0034d9d8de044ba270f0cd5",
    "idx": 24,
    "time": "2021-01-27T18:11:34.356Z",
    "type": "execution"
   },
   {
    "code": "plot_film(\"The Marksman\")",
    "id": "3a1de301b938482fa8a743d89d7b5d02",
    "idx": 25,
    "time": "2021-01-27T18:11:34.357Z",
    "type": "execution"
   },
   {
    "code": "all_films.to_csv(\"all_films_v2.csv\",index=False)",
    "id": "00822b8e053743ae9b4c7a2e60fa3e88",
    "idx": 26,
    "time": "2021-01-27T18:11:34.358Z",
    "type": "execution"
   },
   {
    "code": "movie_urls.keys()",
    "id": "b6645cc8d8eb4f0284bbe56c8a994d3b",
    "idx": 27,
    "time": "2021-01-27T18:11:34.360Z",
    "type": "execution"
   },
   {
    "code": "plot_film(\"Sonic\")",
    "id": "9dea1923230549cb8a42e5954f924132",
    "idx": 28,
    "time": "2021-01-27T18:11:34.363Z",
    "type": "execution"
   },
   {
    "code": "all_films[(all_films[\"Film\"]==\"Sonic\") & (all_films[\"date\"]==\"2020-02-12\")]",
    "id": "b867a6ed94624075860908c9359d0d93",
    "idx": 29,
    "time": "2021-01-27T18:11:34.365Z",
    "type": "execution"
   },
   {
    "code": "plot_film(\"Aladdin\")",
    "id": "cf48a196a2844f70947e404b66fd6fed",
    "idx": 30,
    "time": "2021-01-27T18:11:34.366Z",
    "type": "execution"
   },
   {
    "code": "plot_film(\"Lion King\")",
    "id": "b19be89601be4f33a24cc96f4119da60",
    "idx": 31,
    "time": "2021-01-27T18:11:34.367Z",
    "type": "execution"
   },
   {
    "code": "plot_film(\"Captain Marvel\")",
    "id": "78fa33d862bb43ceaa0b5ba8fdb41a0d",
    "idx": 32,
    "time": "2021-01-27T18:11:34.369Z",
    "type": "execution"
   },
   {
    "code": "plot_film(\"Godzilla: King of the Monsters\")",
    "id": "207f804df9214ff4884b86060e87085e",
    "idx": 33,
    "time": "2021-01-27T18:11:34.370Z",
    "type": "execution"
   },
   {
    "code": "plot_film(\"Joker\")",
    "id": "dc578ba2f9d74f908b1d25b154e8f71d",
    "idx": 34,
    "time": "2021-01-27T18:11:34.372Z",
    "type": "execution"
   },
   {
    "code": "plot_film(\"Shazam!\")",
    "id": "fdd9410c2dcb47618529f48311620c7e",
    "idx": 35,
    "time": "2021-01-27T18:11:34.373Z",
    "type": "execution"
   },
   {
    "code": "#add films\nnewkeys = [\"The Last Jedi\", \"The Rise of Skywalker\"]\nmovie_urls[\"The Last Jedi\"] = \"https://www.rottentomatoes.com/m/star_wars_the_last_jedi/\"\nmovie_urls[\"The Rise of Skywalker\"] = \"https://www.rottentomatoes.com/m/star_wars_the_rise_of_skywalker/\"\nfor key in newkeys:\n    temp = get_critic_reviews(movie_urls[key])\n    df = pd.DataFrame.from_dict(temp)\n    df['Film'] = key\n    dfs.append(df)",
    "id": "a9fa7c97affe4afa8016313060e16f5a",
    "idx": 36,
    "time": "2021-01-27T18:11:34.374Z",
    "type": "execution"
   },
   {
    "code": "def update():\n    all_films = pd.concat(dfs)\n    all_films['score'] = all_films['fresh'].apply(lambda x: 1 if x == 'fresh' else 0)\n    all_films['date'] = pd.to_datetime(all_films['date'], format=\"%B %d, %Y\")\n    return all_films.drop_duplicates()",
    "id": "4d769e18b2094ba7ad0c079368076e4d",
    "idx": 37,
    "time": "2021-01-27T18:11:34.375Z",
    "type": "execution"
   },
   {
    "code": "all_films = update()",
    "id": "78d4136f2f9b4fd788b706017ddd3418",
    "idx": 38,
    "time": "2021-01-27T18:11:34.376Z",
    "type": "execution"
   },
   {
    "code": "plot_film(\"The Last Jedi\")",
    "id": "639ad268aab24db48be923276d56b453",
    "idx": 39,
    "time": "2021-01-27T18:11:34.378Z",
    "type": "execution"
   },
   {
    "code": "plot_film(\"The Rise of Skywalker\")",
    "id": "d15fc94719684dbf8a7d76044e64fe33",
    "idx": 40,
    "time": "2021-01-27T18:11:34.379Z",
    "type": "execution"
   },
   {
    "id": "89288e81e3c34da3ac88aa62995bad09",
    "time": "2021-01-27T18:11:34.584Z",
    "type": "completion"
   },
   {
    "id": "3cc11e69b72b4f3ba8b002b3f8ad3df7",
    "time": "2021-01-27T18:11:34.592Z",
    "type": "completion"
   },
   {
    "id": "24bcfe1ae80f49c89ecee6e5a56cd021",
    "time": "2021-01-27T18:11:34.656Z",
    "type": "completion"
   },
   {
    "id": "ee4fe2e8bdff4ffb8ea1076a90682459",
    "time": "2021-01-27T18:11:34.661Z",
    "type": "completion"
   },
   {
    "id": "d07d041655844a71be29d3e94f4acc71",
    "time": "2021-01-27T18:17:53.376Z",
    "type": "completion"
   },
   {
    "id": "377f6510105142f6a3c4e0a6e0a71788",
    "time": "2021-01-27T18:17:53.430Z",
    "type": "completion"
   },
   {
    "id": "9c2d8a2cdc4749a084270ef9a00880a8",
    "time": "2021-01-27T18:17:53.459Z",
    "type": "completion"
   },
   {
    "id": "06a570bc5e0a4c6d8fd8d1d815ee060d",
    "time": "2021-01-27T18:17:53.460Z",
    "type": "completion"
   },
   {
    "id": "13a4cefccba54a85aa1fa8f448daa972",
    "time": "2021-01-27T18:17:53.549Z",
    "type": "completion"
   },
   {
    "id": "3289e039b29344e58226cf6121ef1d4b",
    "time": "2021-01-27T18:17:54.612Z",
    "type": "completion"
   },
   {
    "id": "cbaa9fc1f6c8498c88b1a3e603e3ff4e",
    "time": "2021-01-27T18:17:54.617Z",
    "type": "completion"
   },
   {
    "id": "a7879eca09b64fcf8d3321f2393aeb50",
    "time": "2021-01-27T18:17:54.664Z",
    "type": "completion"
   },
   {
    "id": "54e3deb454ab47cd850c844a7fed8e17",
    "time": "2021-01-27T18:17:54.665Z",
    "type": "completion"
   },
   {
    "id": "43c1eb91ffb14be288c5e02553bcf49a",
    "time": "2021-01-27T18:17:54.666Z",
    "type": "completion"
   },
   {
    "id": "bbf80f5e8c9d46c382a0046a27e5b50e",
    "time": "2021-01-27T18:17:55.263Z",
    "type": "completion"
   },
   {
    "id": "2401f65bb4f24c18804c01c5e8f390a2",
    "time": "2021-01-27T18:17:55.265Z",
    "type": "completion"
   },
   {
    "id": "12520d752094489f8389f47cc188e820",
    "time": "2021-01-27T18:17:55.308Z",
    "type": "completion"
   },
   {
    "id": "29d6f017588e483b81def167923557bc",
    "time": "2021-01-27T18:17:55.392Z",
    "type": "completion"
   },
   {
    "id": "c942d6b051b2483885e5f9437a7b7e20",
    "time": "2021-01-27T18:17:55.586Z",
    "type": "completion"
   },
   {
    "id": "12317016b09246ca8df95dbf9d13951e",
    "time": "2021-01-27T18:17:55.928Z",
    "type": "completion"
   },
   {
    "id": "133e84d30a9743b3b1c1a25980df5a86",
    "time": "2021-01-27T18:17:56.043Z",
    "type": "completion"
   },
   {
    "id": "f9ab5f66b7ce45338b35b1229588a476",
    "time": "2021-01-27T18:17:56.238Z",
    "type": "completion"
   },
   {
    "id": "27f54eb75fd94c4ba0c138dbeb971a4d",
    "time": "2021-01-27T18:17:56.241Z",
    "type": "completion"
   },
   {
    "id": "b69ef826931a4f1d8828a840457148ee",
    "time": "2021-01-27T18:17:56.395Z",
    "type": "completion"
   },
   {
    "id": "3a184bcbd0034d9d8de044ba270f0cd5",
    "time": "2021-01-27T18:17:56.540Z",
    "type": "completion"
   },
   {
    "id": "3a1de301b938482fa8a743d89d7b5d02",
    "time": "2021-01-27T18:17:56.780Z",
    "type": "completion"
   },
   {
    "id": "00822b8e053743ae9b4c7a2e60fa3e88",
    "time": "2021-01-27T18:17:56.947Z",
    "type": "completion"
   },
   {
    "id": "b6645cc8d8eb4f0284bbe56c8a994d3b",
    "time": "2021-01-27T18:17:56.948Z",
    "type": "completion"
   },
   {
    "id": "9dea1923230549cb8a42e5954f924132",
    "time": "2021-01-27T18:17:57.161Z",
    "type": "completion"
   },
   {
    "id": "b867a6ed94624075860908c9359d0d93",
    "time": "2021-01-27T18:17:57.165Z",
    "type": "completion"
   },
   {
    "id": "cf48a196a2844f70947e404b66fd6fed",
    "time": "2021-01-27T18:17:57.456Z",
    "type": "completion"
   },
   {
    "id": "b19be89601be4f33a24cc96f4119da60",
    "time": "2021-01-27T18:17:57.651Z",
    "type": "completion"
   },
   {
    "id": "78fa33d862bb43ceaa0b5ba8fdb41a0d",
    "time": "2021-01-27T18:17:57.866Z",
    "type": "completion"
   },
   {
    "id": "207f804df9214ff4884b86060e87085e",
    "time": "2021-01-27T18:17:58.187Z",
    "type": "completion"
   },
   {
    "id": "dc578ba2f9d74f908b1d25b154e8f71d",
    "time": "2021-01-27T18:17:58.416Z",
    "type": "completion"
   },
   {
    "id": "fdd9410c2dcb47618529f48311620c7e",
    "time": "2021-01-27T18:17:58.665Z",
    "type": "completion"
   },
   {
    "id": "a9fa7c97affe4afa8016313060e16f5a",
    "time": "2021-01-27T18:18:33.556Z",
    "type": "completion"
   },
   {
    "id": "4d769e18b2094ba7ad0c079368076e4d",
    "time": "2021-01-27T18:18:33.557Z",
    "type": "completion"
   },
   {
    "id": "78d4136f2f9b4fd788b706017ddd3418",
    "time": "2021-01-27T18:18:33.597Z",
    "type": "completion"
   },
   {
    "id": "639ad268aab24db48be923276d56b453",
    "time": "2021-01-27T18:18:33.888Z",
    "type": "completion"
   },
   {
    "id": "d15fc94719684dbf8a7d76044e64fe33",
    "time": "2021-01-27T18:18:34.169Z",
    "type": "completion"
   },
   {
    "code": "def plot_film(film):\n    df = all_films[all_films==film]\n    series = calculate_score(film, all_films)\n    plt.plot(series)\n    plt.axhline(y=0.75, color='yellow', linestyle='dashed',linewidth=0.5)\n    plt.axhline(y=0.6, color='red', linestyle='dashed',linewidth=0.5)\n    plt.axhspan(0.75, 1, alpha=0.5, color='lightgreen')\n    plt.axhspan(0.6,.75, alpha=0.5, color='#F6F7A8')\n    plt.axhspan(0, 0.6, alpha=0.5, color='salmon')\n#     print(series)\n    plt.ylim(series.values.min(), series.values.max())\n    plt.xticks(rotation=45, ha=\"right\")\n    plt.title(film + \" Rotten Tomatoes Score over Time\")",
    "id": "6722e80cf7274452882da1200170a4f3",
    "idx": 16,
    "time": "2021-02-05T23:51:29.803Z",
    "type": "execution"
   }
  ],
  "kernelspec": {
   "display_name": "Python 3",
   "language": "python",
   "name": "python3"
  },
  "language_info": {
   "codemirror_mode": {
    "name": "ipython",
    "version": 3
   },
   "file_extension": ".py",
   "mimetype": "text/x-python",
   "name": "python",
   "nbconvert_exporter": "python",
   "pygments_lexer": "ipython3",
   "version": "3.8.6"
  }
 },
 "nbformat": 4,
 "nbformat_minor": 4
}
